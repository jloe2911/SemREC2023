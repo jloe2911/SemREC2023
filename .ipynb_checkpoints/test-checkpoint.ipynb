{
 "cells": [
  {
   "cell_type": "code",
   "execution_count": 2,
   "id": "fd74ce48-f81d-4bb2-ace6-888cf72e40c2",
   "metadata": {},
   "outputs": [],
   "source": [
    "import pandas as pd\n",
    "import numpy as np\n",
    "import operator\n",
    "import gzip\n",
    "import networkx as nx\n",
    "import time\n",
    "import random\n",
    "random.seed(10)\n",
    "\n",
    "import torch\n",
    "import torch.nn as nn\n",
    "from torch.nn import Linear\n",
    "import torch.nn.functional as F\n",
    "\n",
    "import torch_geometric\n",
    "from torch_geometric.data import HeteroData\n",
    "import torch_geometric.transforms as T\n",
    "from torch_geometric.nn import GCNConv, SAGEConv, GATConv, Linear, to_hetero\n",
    "\n",
    "from sklearn.metrics import precision_score, recall_score, f1_score\n",
    "\n",
    "from src.utils import *\n",
    "from src.gnn import *"
   ]
  },
  {
   "cell_type": "code",
   "execution_count": 3,
   "id": "16d6879a-53ec-4754-8a8f-7fdcfd94ebd1",
   "metadata": {},
   "outputs": [
    {
     "name": "stdout",
     "output_type": "stream",
     "text": [
      "cuda\n"
     ]
    }
   ],
   "source": [
    "device = torch.device('cuda' if torch.cuda.is_available() else 'cpu')\n",
    "print(device)"
   ]
  },
  {
   "cell_type": "code",
   "execution_count": 4,
   "id": "67e8aa8b-1616-40f8-9294-62b3d60fe2a7",
   "metadata": {},
   "outputs": [],
   "source": [
    "OWL2Bench_dbs = [{'path' : './datasets/OWL2Bench/OWL2Bench1/',\n",
    "                  'train_file' : '_train_OWL2Bench1',\n",
    "                  'test_file' : '_test_OWL2Bench1',\n",
    "                  'file' : 'OWL2Bench1'},\n",
    "                 {'path' : './datasets/OWL2Bench/OWL2Bench2/',\n",
    "                  'train_file' : '_train_OWL2Bench2',\n",
    "                  'test_file' : '_test_OWL2Bench2',\n",
    "                  'file' : 'OWL2Bench2'}]"
   ]
  },
  {
   "cell_type": "code",
   "execution_count": 5,
   "id": "c48a86a9-f299-475e-a0c0-dfc01e5059b5",
   "metadata": {},
   "outputs": [
    {
     "name": "stdout",
     "output_type": "stream",
     "text": [
      "Running... _train_OWL2Bench1 _test_OWL2Bench1\n",
      "# Train - Triplets: 8096, # Nodes: 3683, # Edges: 8096\n",
      "# Test - Triplets: 2315, # Nodes: 1865, # Edges: 2315\n",
      "\n",
      "GAT Reasoner\n",
      "Epoch: 0, Loss: 0.3141\n",
      "Epoch: 400, Loss: 0.1269\n",
      "Epoch: 800, Loss: 0.1202\n",
      "Run time: 10 seconds, 0 minutes\n",
      "\n"
     ]
    }
   ],
   "source": [
    "db_ = OWL2Bench_dbs[0]\n",
    "path = db_['path']\n",
    "train_file = db_['train_file']\n",
    "test_file = db_['test_file']\n",
    "file = db_['file']\n",
    "\n",
    "g_train, g_train_filter_subclass, g_train_filter_assertion, g_test, g_test_filter_subclass, g_test_filter_assertion = load_ore_graphs(path, train_file, test_file)\n",
    "    \n",
    "print('GAT Reasoner')\n",
    "st = time.time()\n",
    "model = GNN()\n",
    "model._train(device, '2-Hop GAT', g_train, g_train_filter_subclass, g_train_filter_assertion)\n",
    "et = time.time()\n",
    "elapsed_time = et - st\n",
    "print(f'Run time: {elapsed_time:.0f} seconds, {elapsed_time/60:.0f} minutes')\n",
    "print()"
   ]
  },
  {
   "cell_type": "code",
   "execution_count": 6,
   "id": "a05dfce9-d420-47be-91bd-c1afc9cb38e5",
   "metadata": {},
   "outputs": [
    {
     "name": "stdout",
     "output_type": "stream",
     "text": [
      "SubClass Relations\n",
      "hits@1: 0.000, hits@10: 0.033\n",
      "--------\n",
      "Assertion Relations\n",
      "hits@1: 0.024, hits@10: 0.162\n",
      "--------\n",
      "All Relations\n",
      "hits@1: 0.272, hits@10: 0.393\n",
      "--------\n",
      "\n"
     ]
    }
   ],
   "source": [
    "print('SubClass Relations')\n",
    "model._eval(min(g_test_filter_subclass.number_of_nodes(),100), '2-Hop GAT', g_test_filter_subclass)\n",
    "print('Assertion Relations')\n",
    "model._eval(min(g_test_filter_assertion.number_of_nodes(),100), '2-Hop GAT', g_test_filter_assertion)\n",
    "print('All Relations')\n",
    "model._eval(min(g_test.number_of_nodes(),100), '2-Hop GAT', g_test)\n",
    "print()"
   ]
  }
 ],
 "metadata": {
  "kernelspec": {
   "display_name": "Python 3 (ipykernel)",
   "language": "python",
   "name": "python3"
  },
  "language_info": {
   "codemirror_mode": {
    "name": "ipython",
    "version": 3
   },
   "file_extension": ".py",
   "mimetype": "text/x-python",
   "name": "python",
   "nbconvert_exporter": "python",
   "pygments_lexer": "ipython3",
   "version": "3.8.16"
  }
 },
 "nbformat": 4,
 "nbformat_minor": 5
}
