{
 "cells": [
  {
   "cell_type": "code",
   "execution_count": 1,
   "id": "4f0140b4-d9e4-46d6-bc0d-bcfebf7f14dc",
   "metadata": {},
   "outputs": [],
   "source": [
    "import pandas as pd\n",
    "import numpy as np\n",
    "import operator\n",
    "import gzip\n",
    "import networkx as nx\n",
    "import random\n",
    "random.seed(10)\n",
    "\n",
    "import torch\n",
    "import torch.nn as nn\n",
    "from torch.nn import Linear\n",
    "import torch.nn.functional as F\n",
    "\n",
    "import torch_geometric\n",
    "from torch_geometric.data import HeteroData\n",
    "import torch_geometric.transforms as T\n",
    "from torch_geometric.nn import GCNConv, SAGEConv, GATConv, Linear, to_hetero\n",
    "from torch_geometric.utils import negative_sampling\n",
    "\n",
    "from sklearn.metrics import precision_score, recall_score, f1_score\n",
    "\n",
    "from src.utils import *\n",
    "from src.gnn import *"
   ]
  },
  {
   "cell_type": "code",
   "execution_count": 2,
   "id": "79114e0f-bb32-4f79-a9af-e05485590002",
   "metadata": {},
   "outputs": [
    {
     "name": "stdout",
     "output_type": "stream",
     "text": [
      "cuda\n"
     ]
    }
   ],
   "source": [
    "device = torch.device('cuda' if torch.cuda.is_available() else 'cpu')\n",
    "print(device)"
   ]
  },
  {
   "cell_type": "code",
   "execution_count": 3,
   "id": "a94e83f7-af10-42a8-b92d-425705802fdf",
   "metadata": {},
   "outputs": [],
   "source": [
    "OWL2Bench_dbs = [{'path' : './datasets/OWL2Bench/OWL2Bench1/',\n",
    "                  'train_file' : '_train_OWL2Bench1',\n",
    "                  'test_file' : '_test_OWL2Bench1'},\n",
    "                 {'path' : './datasets/OWL2Bench/OWL2Bench2/',\n",
    "                  'train_file' : '_train_OWL2Bench2',\n",
    "                  'test_file' : '_test_OWL2Bench2'}]"
   ]
  },
  {
   "cell_type": "code",
   "execution_count": 4,
   "id": "88ab25d0-2d5c-4ce2-97f1-9156edf0889f",
   "metadata": {},
   "outputs": [
    {
     "name": "stdout",
     "output_type": "stream",
     "text": [
      "Running... _train_OWL2Bench2 _test_OWL2Bench2\n",
      "# Train - Triplets: 105, # Nodes: 115, # Edges: 105\n",
      "# Test - Triplets: 30, # Nodes: 43, # Edges: 30\n",
      "\n"
     ]
    }
   ],
   "source": [
    "db_ = OWL2Bench_dbs[1]    \n",
    "path = db_['path']\n",
    "train_file = db_['train_file']\n",
    "test_file = db_['test_file']\n",
    "\n",
    "print('Running...', train_file, test_file)\n",
    "\n",
    "df_train = load_ore_files(path+train_file)\n",
    "df_train = df_train[df_train['p'] == 'SubClassOf']\n",
    "g_train, nodes_train, edges_train = create_graph(df_train)\n",
    "print(f'# Train - Triplets: {len(df_train)}, # Nodes: {g_train.number_of_nodes()}, # Edges: {g_train.number_of_edges()}')\n",
    "df_test = load_ore_files(path+test_file)\n",
    "df_test = df_test[df_test['p'] == 'SubClassOf']\n",
    "g_test, nodes_test, edges_test = create_graph(df_test)\n",
    "print(f'# Test - Triplets: {len(df_test)}, # Nodes: {g_test.number_of_nodes()}, # Edges: {g_test.number_of_edges()}')\n",
    "print()"
   ]
  },
  {
   "cell_type": "code",
   "execution_count": 5,
   "id": "55e8585a-d052-4964-8972-dafcf26bd032",
   "metadata": {},
   "outputs": [],
   "source": [
    "adj = nx.to_scipy_sparse_array(g_train)\n",
    "adj_2hops = adj.dot(adj)\n",
    "\n",
    "pos_edge_index = torch_geometric.utils.from_scipy_sparse_matrix(adj)[0]\n",
    "pos_edge_index_2hops = torch_geometric.utils.from_scipy_sparse_matrix(adj_2hops)[0]\n",
    "\n",
    "neg_edge_index = negative_sampling(pos_edge_index)\n",
    "neg_edge_index_2hops = negative_sampling(pos_edge_index_2hops)\n",
    "\n",
    "edge_index = torch.cat([pos_edge_index, neg_edge_index], dim=1)\n",
    "edge_index_2hops = torch.cat([pos_edge_index_2hops, neg_edge_index_2hops], dim=1).to(device)\n",
    "\n",
    "num_nodes = g_train.number_of_nodes()\n",
    "node_embed = torch.rand(num_nodes, 200).to(device)\n",
    "\n",
    "model = GAT_2hops(200, 200).to(device)\n",
    "\n",
    "optimizer = torch.optim.Adam(model.parameters(), lr=0.005, weight_decay=5e-4)\n",
    "targets = torch.cat([torch.ones(pos_edge_index.shape[1]), torch.zeros(neg_edge_index.shape[1])])\n",
    "edge_index, targets = shuffle_predictions_targets(edge_index, targets, device)"
   ]
  },
  {
   "cell_type": "code",
   "execution_count": 6,
   "id": "f05910be-e934-4896-883f-e3fc7bd99fab",
   "metadata": {},
   "outputs": [
    {
     "name": "stdout",
     "output_type": "stream",
     "text": [
      "Epoch: 0, Loss: 0.3647, Hits@1: 0.010, Hits@10: 0.276\n"
     ]
    }
   ],
   "source": [
    "for i in range(1 + 1):\n",
    "    model.train()\n",
    "    optimizer.zero_grad()\n",
    "\n",
    "    output = model(node_embed, edge_index, edge_index_2hops).to(device)\n",
    "    \n",
    "    u = torch.index_select(output, 0, edge_index[0, :])\n",
    "    v = torch.index_select(output, 0, edge_index[1, :])\n",
    "    pred = torch.sum(u * v, dim=-1)\n",
    "    pred = ((pred - pred.min()) / (pred.max() - pred.min()))\n",
    "\n",
    "    loss = mse_loss(pred, targets)\n",
    "    loss.backward()\n",
    "    optimizer.step()\n",
    "\n",
    "    if i % 50 == 0:\n",
    "        hits1, hits10 = eval_hits(tail_pred=1, g_test=g_test, pos_edge_index=pos_edge_index.to(device), output=output, max_num=min(g_test.number_of_nodes(),100), device=device)\n",
    "        print(f'Epoch: {i}, Loss: {loss:.4f}, Hits@1: {hits1:.3f}, Hits@10: {hits10:.3f}')"
   ]
  },
  {
   "cell_type": "code",
   "execution_count": 7,
   "id": "356cd242-8389-4aaa-8bb6-dcf6c3dc4b50",
   "metadata": {},
   "outputs": [],
   "source": [
    "with torch.no_grad():\n",
    "    model.eval()\n",
    "    \n",
    "    adj = nx.to_scipy_sparse_array(g_test)\n",
    "    adj_2hops = adj.dot(adj)\n",
    "    \n",
    "    pos_edge_index = torch_geometric.utils.from_scipy_sparse_matrix(adj)[0]\n",
    "    pos_edge_index_2hops = torch_geometric.utils.from_scipy_sparse_matrix(adj_2hops)[0]\n",
    "    \n",
    "    neg_edge_index = pos_edge_index_2hops\n",
    "    neg_edge_index_2hops = negative_sampling(pos_edge_index_2hops)\n",
    "    \n",
    "    edge_index = torch.cat([pos_edge_index, neg_edge_index], dim=1).to(device)\n",
    "    edge_index_2hops = torch.cat([pos_edge_index_2hops, neg_edge_index_2hops], dim=1)\n",
    "    edge_index_2hops = edge_index_2hops.to(torch.int64).to(device)\n",
    "\n",
    "    output = model(node_embed, edge_index, edge_index_2hops).to(device)"
   ]
  },
  {
   "cell_type": "code",
   "execution_count": 8,
   "id": "fc4310e4-6a44-46ae-97bb-c41d4575ad26",
   "metadata": {},
   "outputs": [
    {
     "name": "stdout",
     "output_type": "stream",
     "text": [
      "head, relation -> tail?\n",
      "hits@1: 0.033, hits@10: 0.367\n",
      "\n"
     ]
    }
   ],
   "source": [
    "print(f'head, relation -> tail?')\n",
    "hits1, hits10 = eval_hits(tail_pred=1, g_test=g_test, pos_edge_index=pos_edge_index.to(device), output=output, max_num=min(g_test.number_of_nodes(),100), device=device)\n",
    "print(f'hits@1: {hits1:.3f}, hits@10: {hits10:.3f}')\n",
    "print()"
   ]
  },
  {
   "cell_type": "code",
   "execution_count": 11,
   "id": "73e97de8-733a-4c85-abad-624a62d005be",
   "metadata": {},
   "outputs": [],
   "source": [
    "def subclass_transitivity_penalty(pos_edge_index, output):    \n",
    "    '''SubClass Transitivity: A is a subclass of B, B is a subclass of C, then A must be a subclass of C. \n",
    "    If A is not a subclass of C in the first 10 predictions, we assign a penalty.'''\n",
    "\n",
    "    count = 0\n",
    "    penalty = 0\n",
    "\n",
    "    for i in range(pos_edge_index.size(1)):\n",
    "        A = pos_edge_index[0][i]\n",
    "        B = pos_edge_index[1][i]\n",
    "\n",
    "        indices = ((pos_edge_index[0] == B).nonzero(as_tuple=True)[0])\n",
    "        for idx in indices:\n",
    "            C = pos_edge_index[1][idx]\n",
    "\n",
    "            dist = torch.cdist(output, torch.index_select(output, 0, A), p=2)\n",
    "            dist_dict = {i: dist[i] for i in range(0, len(dist))}\n",
    "\n",
    "            sorted_dict = dict(sorted(dist_dict.items(), key=operator.itemgetter(1), reverse=True))\n",
    "            sorted_keys = list(sorted_dict.keys())\n",
    "\n",
    "            ranks_dict = {sorted_keys[i]: i for i in range(0, len(sorted_keys))}\n",
    "            rank = ranks_dict[C.item()]\n",
    "\n",
    "            count += 1\n",
    "            if rank > 100:\n",
    "                penalty += 1\n",
    "    return count, penalty"
   ]
  },
  {
   "cell_type": "code",
   "execution_count": 13,
   "id": "fafb2cc4-9dbb-4ebd-bfd8-3b0d98c4390a",
   "metadata": {},
   "outputs": [
    {
     "name": "stdout",
     "output_type": "stream",
     "text": [
      "penalty: 1.0000, count: 5.0000, penalty/count: 0.2000\n"
     ]
    }
   ],
   "source": [
    "count, penalty = subclass_transitivity_penalty(pos_edge_index.to(device), output)\n",
    "print(f'penalty: {penalty:.4f}, count: {count:.4f}, penalty/count: {(penalty/count):.4f}')"
   ]
  }
 ],
 "metadata": {
  "kernelspec": {
   "display_name": "Python 3 (ipykernel)",
   "language": "python",
   "name": "python3"
  },
  "language_info": {
   "codemirror_mode": {
    "name": "ipython",
    "version": 3
   },
   "file_extension": ".py",
   "mimetype": "text/x-python",
   "name": "python",
   "nbconvert_exporter": "python",
   "pygments_lexer": "ipython3",
   "version": "3.8.16"
  }
 },
 "nbformat": 4,
 "nbformat_minor": 5
}
