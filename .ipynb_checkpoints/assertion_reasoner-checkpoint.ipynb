{
 "cells": [
  {
   "cell_type": "markdown",
   "id": "d396f43a-efe3-4c77-969b-1a6675bcea4b",
   "metadata": {},
   "source": [
    "# Librairies"
   ]
  },
  {
   "cell_type": "code",
   "execution_count": 1,
   "id": "3e8a0205-8152-49ea-bdea-777c3ad00dec",
   "metadata": {},
   "outputs": [],
   "source": [
    "import pandas as pd\n",
    "import numpy as np\n",
    "import gzip\n",
    "import networkx as nx\n",
    "import random\n",
    "random.seed(10)\n",
    "\n",
    "import torch\n",
    "import torch.nn as nn\n",
    "from torch.nn import Linear\n",
    "import torch.nn.functional as F\n",
    "\n",
    "import torch_geometric\n",
    "from torch_geometric.data import HeteroData\n",
    "import torch_geometric.transforms as T\n",
    "from torch_geometric.nn import GCNConv, SAGEConv, GATConv, Linear, to_hetero\n",
    "\n",
    "from sklearn.metrics import precision_score, recall_score, f1_score\n",
    "\n",
    "from src.utils import *\n",
    "from src.gnn import *"
   ]
  },
  {
   "cell_type": "code",
   "execution_count": 2,
   "id": "5852b065-1f57-40bb-a903-eb84554f6665",
   "metadata": {},
   "outputs": [
    {
     "name": "stdout",
     "output_type": "stream",
     "text": [
      "1.13.1\n"
     ]
    }
   ],
   "source": [
    "print(torch.__version__)"
   ]
  },
  {
   "cell_type": "code",
   "execution_count": 3,
   "id": "f4f91937-8454-45e6-9090-71bf266ef8fc",
   "metadata": {},
   "outputs": [
    {
     "name": "stdout",
     "output_type": "stream",
     "text": [
      "2.4.0\n"
     ]
    }
   ],
   "source": [
    "print(torch_geometric.__version__)"
   ]
  },
  {
   "cell_type": "markdown",
   "id": "f3a0c1de-cb40-4bc5-a7fd-68fa1f51244f",
   "metadata": {},
   "source": [
    "# ORE"
   ]
  },
  {
   "cell_type": "code",
   "execution_count": 4,
   "id": "1ab8ad86-ca50-4c24-8337-83b8c87c9b7c",
   "metadata": {},
   "outputs": [],
   "source": [
    "ORE_dbs = [{'path' : './datasets/ORE/ORE1/',\n",
    "            'train_file' : '_train_ORE1',\n",
    "            'test_file' : '_test_ORE1'},\n",
    "           {'path' : './datasets/ORE/ORE2/',\n",
    "            'train_file' : '_train_ORE2',\n",
    "            'test_file' : '_test_ORE2'},\n",
    "           {'path' : './datasets/ORE/ORE3/',\n",
    "            'train_file' : '_train_ORE3',\n",
    "            'test_file' : '_test_ORE3'}]"
   ]
  },
  {
   "cell_type": "code",
   "execution_count": 5,
   "id": "a0613db2-ccf6-4bb1-b306-534201a97593",
   "metadata": {},
   "outputs": [
    {
     "name": "stdout",
     "output_type": "stream",
     "text": [
      "Running... _train_ORE1 _test_ORE1\n",
      "# Train - Triplets: 53048, # Nodes: 8060, # Edges: 53048\n",
      "# Test - Triplets: 15157, # Nodes: 5847, # Edges: 15157\n",
      "\n",
      "GraphSAGE:\n",
      "Epoch: 0, Loss: 71.6715\n",
      "Epoch: 50, Loss: 0.1873\n",
      "Epoch: 100, Loss: 0.2405\n",
      "Epoch: 150, Loss: 0.1640\n",
      "Epoch: 200, Loss: 0.1553\n",
      "Precision: 0.8063\n",
      "Recall: 0.6041\n",
      "F1-Score: 0.6907\n",
      "\n",
      "GAT:\n",
      "Epoch: 0, Loss: 651.8486\n",
      "Epoch: 50, Loss: 0.1575\n",
      "Epoch: 100, Loss: 0.1262\n",
      "Epoch: 150, Loss: 0.1170\n",
      "Epoch: 200, Loss: 0.1125\n",
      "Precision: 1.0000\n",
      "Recall: 0.0020\n",
      "F1-Score: 0.0040\n",
      "\n",
      "Running... _train_ORE2 _test_ORE2\n",
      "# Train - Triplets: 53081, # Nodes: 8064, # Edges: 53081\n",
      "# Test - Triplets: 15166, # Nodes: 5845, # Edges: 15166\n",
      "\n",
      "GraphSAGE:\n",
      "Epoch: 0, Loss: 68.9358\n",
      "Epoch: 50, Loss: 0.2077\n",
      "Epoch: 100, Loss: 0.1614\n",
      "Epoch: 150, Loss: 0.1456\n",
      "Epoch: 200, Loss: 0.1400\n",
      "Precision: 0.8671\n",
      "Recall: 0.2160\n",
      "F1-Score: 0.3459\n",
      "\n",
      "GAT:\n",
      "Epoch: 0, Loss: 562.7711\n",
      "Epoch: 50, Loss: 0.1939\n",
      "Epoch: 100, Loss: 0.1491\n",
      "Epoch: 150, Loss: 0.1309\n",
      "Epoch: 200, Loss: 0.1223\n",
      "Precision: 0.7405\n",
      "Recall: 0.1135\n",
      "F1-Score: 0.1968\n",
      "\n",
      "Running... _train_ORE3 _test_ORE3\n",
      "# Train - Triplets: 53014, # Nodes: 8059, # Edges: 53014\n",
      "# Test - Triplets: 15148, # Nodes: 5794, # Edges: 15148\n",
      "\n",
      "GraphSAGE:\n",
      "Epoch: 0, Loss: 84.1618\n",
      "Epoch: 50, Loss: 0.2257\n",
      "Epoch: 100, Loss: 0.1369\n",
      "Epoch: 150, Loss: 0.1160\n",
      "Epoch: 200, Loss: 0.0994\n",
      "Precision: 0.9886\n",
      "Recall: 0.0057\n",
      "F1-Score: 0.0114\n",
      "\n",
      "GAT:\n",
      "Epoch: 0, Loss: 715.9734\n",
      "Epoch: 50, Loss: 0.1508\n",
      "Epoch: 100, Loss: 0.1263\n",
      "Epoch: 150, Loss: 0.1152\n",
      "Epoch: 200, Loss: 0.1100\n",
      "Precision: 0.9231\n",
      "Recall: 0.0008\n",
      "F1-Score: 0.0016\n",
      "\n"
     ]
    }
   ],
   "source": [
    "for db_ in ORE_dbs:    \n",
    "    path = db_['path']\n",
    "    train_file = db_['train_file']\n",
    "    test_file = db_['test_file']\n",
    "\n",
    "    print('Running...', train_file, test_file)\n",
    "\n",
    "    df_train = load_ore_files(path+train_file)\n",
    "    df_train = df_train[df_train['p'] == 'ClassAssertion']\n",
    "    g_train, nodes_train, edges_train = create_graph(df_train)\n",
    "    print(f'# Train - Triplets: {len(df_train)}, # Nodes: {g_train.number_of_nodes()}, # Edges: {g_train.number_of_edges()}')\n",
    "    df_test = load_ore_files(path+test_file)\n",
    "    df_test = df_test[df_test['p'] == 'ClassAssertion']\n",
    "    g_test, nodes_test, edges_test = create_graph(df_test)\n",
    "    print(f'# Test - Triplets: {len(df_test)}, # Nodes: {g_test.number_of_nodes()}, # Edges: {g_test.number_of_edges()}')\n",
    "    print()\n",
    "\n",
    "    model = GNN()\n",
    "    model._train(g_train, 'GraphSAGE')\n",
    "    model._eval(g_test)\n",
    "    print()\n",
    "\n",
    "    model = GNN()\n",
    "    model._train(g_train, 'GAT')\n",
    "    model._eval(g_test)\n",
    "    print()"
   ]
  },
  {
   "cell_type": "markdown",
   "id": "43b6d603-ea2a-4c42-b953-bffc509d0a3e",
   "metadata": {},
   "source": [
    "# OWL2Bench"
   ]
  },
  {
   "cell_type": "code",
   "execution_count": 6,
   "id": "9da76671-c06a-47da-b36c-8fecd439ed1a",
   "metadata": {},
   "outputs": [],
   "source": [
    "OWL2Bench_dbs = [{'path' : './datasets/OWL2Bench/OWL2Bench1/',\n",
    "                  'train_file' : '_train_OWL2Bench1',\n",
    "                  'test_file' : '_test_OWL2Bench1'},\n",
    "                 {'path' : './datasets/OWL2Bench/OWL2Bench2/',\n",
    "                  'train_file' : '_train_OWL2Bench2',\n",
    "                  'test_file' : '_test_OWL2Bench2'}]"
   ]
  },
  {
   "cell_type": "code",
   "execution_count": 7,
   "id": "a095d142-9c2f-4abd-a43e-087cc9b04dae",
   "metadata": {},
   "outputs": [
    {
     "name": "stdout",
     "output_type": "stream",
     "text": [
      "Running... _train_OWL2Bench1 _test_OWL2Bench1\n",
      "# Train - Triplets: 7989, # Nodes: 3633, # Edges: 7989\n",
      "# Test - Triplets: 2283, # Nodes: 1836, # Edges: 2283\n",
      "\n",
      "GraphSAGE:\n",
      "Epoch: 0, Loss: 79.2252\n",
      "Epoch: 50, Loss: 0.0703\n",
      "Epoch: 100, Loss: 0.0344\n",
      "Epoch: 150, Loss: 0.0374\n",
      "Epoch: 200, Loss: 0.0259\n",
      "Precision: 0.9210\n",
      "Recall: 0.7963\n",
      "F1-Score: 0.8541\n",
      "\n",
      "GAT:\n",
      "Epoch: 0, Loss: 625.2977\n",
      "Epoch: 50, Loss: 0.0887\n",
      "Epoch: 100, Loss: 0.0412\n",
      "Epoch: 150, Loss: 0.0321\n",
      "Epoch: 200, Loss: 0.0283\n",
      "Precision: 1.0000\n",
      "Recall: 0.0285\n",
      "F1-Score: 0.0554\n",
      "\n",
      "Running... _train_OWL2Bench2 _test_OWL2Bench2\n",
      "# Train - Triplets: 15526, # Nodes: 7080, # Edges: 15526\n",
      "# Test - Triplets: 4437, # Nodes: 3612, # Edges: 4437\n",
      "\n",
      "GraphSAGE:\n",
      "Epoch: 0, Loss: 22.6412\n",
      "Epoch: 50, Loss: 0.1954\n",
      "Epoch: 100, Loss: 0.0337\n",
      "Epoch: 150, Loss: 0.0122\n",
      "Epoch: 200, Loss: 0.0099\n",
      "Precision: 0.9863\n",
      "Recall: 0.0971\n",
      "F1-Score: 0.1769\n",
      "\n",
      "GAT:\n",
      "Epoch: 0, Loss: 115.0795\n",
      "Epoch: 50, Loss: 0.0586\n",
      "Epoch: 100, Loss: 0.0301\n",
      "Epoch: 150, Loss: 0.0189\n",
      "Epoch: 200, Loss: 0.0149\n",
      "Precision: 1.0000\n",
      "Recall: 0.0805\n",
      "F1-Score: 0.1489\n",
      "\n"
     ]
    }
   ],
   "source": [
    "for db_ in OWL2Bench_dbs:    \n",
    "    path = db_['path']\n",
    "    train_file = db_['train_file']\n",
    "    test_file = db_['test_file']\n",
    "\n",
    "    print('Running...', train_file, test_file)\n",
    "\n",
    "    df_train = load_ore_files(path+train_file)\n",
    "    df_train = df_train[df_train['p'] == 'ClassAssertion']\n",
    "    g_train, nodes_train, edges_train = create_graph(df_train)\n",
    "    print(f'# Train - Triplets: {len(df_train)}, # Nodes: {g_train.number_of_nodes()}, # Edges: {g_train.number_of_edges()}')\n",
    "    df_test = load_ore_files(path+test_file)\n",
    "    df_test = df_test[df_test['p'] == 'ClassAssertion']\n",
    "    g_test, nodes_test, edges_test = create_graph(df_test)\n",
    "    print(f'# Test - Triplets: {len(df_test)}, # Nodes: {g_test.number_of_nodes()}, # Edges: {g_test.number_of_edges()}')\n",
    "    print()\n",
    "\n",
    "    model = GNN()\n",
    "    model._train(g_train, 'GraphSAGE')\n",
    "    model._eval(g_test)\n",
    "    print()\n",
    "\n",
    "    model = GNN()\n",
    "    model._train(g_train, 'GAT')\n",
    "    model._eval(g_test)\n",
    "    print()"
   ]
  },
  {
   "cell_type": "markdown",
   "id": "c0dfa1d4-968b-4dd1-bb64-280b2186a08e",
   "metadata": {
    "tags": []
   },
   "source": [
    "# CaLiGraph"
   ]
  },
  {
   "cell_type": "code",
   "execution_count": 8,
   "id": "5aa62032-1cb6-48d4-8fdf-e62cceece823",
   "metadata": {},
   "outputs": [],
   "source": [
    "CLG_dbs = [{'path' : './datasets/clg/clg_10e4/',\n",
    "            'train_file' : 'clg_10e4-train.nt',\n",
    "            'test_file' : 'clg_10e4-test.nt'},\n",
    "           {'path' : './datasets/clg/clg_10e5/',\n",
    "            'train_file' : 'clg_10e5-train.nt',\n",
    "            'test_file' : 'clg_10e5-test.nt'}]"
   ]
  },
  {
   "cell_type": "code",
   "execution_count": 9,
   "id": "b2805236-75e1-46dd-b6b0-d16d88b901b3",
   "metadata": {},
   "outputs": [
    {
     "name": "stdout",
     "output_type": "stream",
     "text": [
      "Running... clg_10e4-train.nt clg_10e4-test.nt\n",
      "# Train - Triplets: 51577, # Nodes: 9611, # Edges: 51577\n",
      "# Test - Triplets: 14738, # Nodes: 7081, # Edges: 14738\n",
      "\n",
      "GraphSAGE:\n",
      "Epoch: 0, Loss: 59.9409\n",
      "Epoch: 50, Loss: 0.2271\n",
      "Epoch: 100, Loss: 0.2196\n",
      "Epoch: 150, Loss: 0.2104\n",
      "Epoch: 200, Loss: 0.2033\n",
      "Precision: 0.6763\n",
      "Recall: 0.2533\n",
      "F1-Score: 0.3685\n",
      "\n",
      "GAT:\n",
      "Epoch: 0, Loss: 381.6029\n",
      "Epoch: 50, Loss: 0.2128\n",
      "Epoch: 100, Loss: 0.2001\n",
      "Epoch: 150, Loss: 0.1876\n",
      "Epoch: 200, Loss: 0.1768\n",
      "Precision: 0.6978\n",
      "Recall: 0.5860\n",
      "F1-Score: 0.6370\n",
      "\n",
      "Running... clg_10e5-train.nt clg_10e5-test.nt\n",
      "# Train - Triplets: 29973, # Nodes: 27882, # Edges: 29973\n",
      "# Test - Triplets: 8565, # Nodes: 9276, # Edges: 8565\n",
      "\n",
      "GraphSAGE:\n",
      "Epoch: 0, Loss: 15.5782\n",
      "Epoch: 50, Loss: 0.2200\n",
      "Epoch: 100, Loss: 0.1611\n",
      "Epoch: 150, Loss: 0.1509\n",
      "Epoch: 200, Loss: 0.1503\n",
      "Precision: 0.8152\n",
      "Recall: 0.7284\n",
      "F1-Score: 0.7694\n",
      "\n",
      "GAT:\n",
      "Epoch: 0, Loss: 92.8990\n",
      "Epoch: 50, Loss: 0.1679\n",
      "Epoch: 100, Loss: 0.1548\n",
      "Epoch: 150, Loss: 0.1448\n",
      "Epoch: 200, Loss: 0.1400\n",
      "Precision: 0.7503\n",
      "Recall: 0.9459\n",
      "F1-Score: 0.8369\n",
      "\n"
     ]
    }
   ],
   "source": [
    "for db_ in CLG_dbs:\n",
    "    path = db_['path']\n",
    "    train_file = db_['train_file']\n",
    "    test_file = db_['test_file']\n",
    "\n",
    "    print('Running...', train_file, test_file)\n",
    "\n",
    "    df_train = load_clg_files(path+train_file)\n",
    "    df_train = df_train[df_train['p'] == '<http://www.w3.org/1999/02/22-rdf-syntax-ns#type>']\n",
    "    g_train, nodes_train, edges_train = create_graph(df_train)\n",
    "    print(f'# Train - Triplets: {len(df_train)}, # Nodes: {g_train.number_of_nodes()}, # Edges: {g_train.number_of_edges()}')\n",
    "    df_test = load_clg_files(path+test_file)\n",
    "    df_test = df_test[df_test['p'] == '<http://www.w3.org/1999/02/22-rdf-syntax-ns#type>']\n",
    "    g_test, nodes_test, edges_test = create_graph(df_test)\n",
    "    print(f'# Test - Triplets: {len(df_test)}, # Nodes: {g_test.number_of_nodes()}, # Edges: {g_test.number_of_edges()}')\n",
    "    print()\n",
    "\n",
    "    model = GNN()\n",
    "    model._train(g_train, 'GraphSAGE')\n",
    "    model._eval(g_test)\n",
    "    print()\n",
    "\n",
    "    model = GNN()\n",
    "    model._train(g_train, 'GAT')\n",
    "    model._eval(g_test)\n",
    "    print()"
   ]
  }
 ],
 "metadata": {
  "kernelspec": {
   "display_name": "Python 3 (ipykernel)",
   "language": "python",
   "name": "python3"
  },
  "language_info": {
   "codemirror_mode": {
    "name": "ipython",
    "version": 3
   },
   "file_extension": ".py",
   "mimetype": "text/x-python",
   "name": "python",
   "nbconvert_exporter": "python",
   "pygments_lexer": "ipython3",
   "version": "3.8.16"
  }
 },
 "nbformat": 4,
 "nbformat_minor": 5
}
