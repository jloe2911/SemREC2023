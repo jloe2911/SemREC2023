{
 "cells": [
  {
   "cell_type": "code",
   "execution_count": 1,
   "id": "7b144b3c-9427-4afc-a41f-09b2a3e18801",
   "metadata": {},
   "outputs": [],
   "source": [
    "import pandas as pd\n",
    "import numpy as np\n",
    "\n",
    "from src.utils import *"
   ]
  },
  {
   "cell_type": "code",
   "execution_count": 2,
   "id": "7d0b93fd-02d3-445a-a478-bcdcd92b07e6",
   "metadata": {},
   "outputs": [],
   "source": [
    "OWL2Bench_dbs = [{'path' : './datasets/OWL2Bench/OWL2Bench1/',\n",
    "                  'train_file' : '_train_OWL2Bench1',\n",
    "                  'test_file' : '_test_OWL2Bench1',\n",
    "                  'file' : 'OWL2Bench1'},\n",
    "                 {'path' : './datasets/OWL2Bench/OWL2Bench2/',\n",
    "                  'train_file' : '_train_OWL2Bench2',\n",
    "                  'test_file' : '_test_OWL2Bench2',\n",
    "                  'file' : 'OWL2Bench2'}]"
   ]
  },
  {
   "cell_type": "code",
   "execution_count": 3,
   "id": "d989e97e-fd07-479c-a774-b905ce32acf3",
   "metadata": {},
   "outputs": [
    {
     "name": "stdout",
     "output_type": "stream",
     "text": [
      "Running... _train_OWL2Bench1 _test_OWL2Bench1\n",
      "# Train - Triplets: 8096, # Nodes: 3683, # Edges: 8096\n",
      "# Test - Triplets: 2315, # Nodes: 1865, # Edges: 2315\n",
      "\n",
      "# Train - Subclass Edges: 105\n",
      "# Test - Subclass Edges: 30\n",
      "# Train - Assertion Edges: 7989\n",
      "# Test - Assertion Edges: 2283\n",
      "\n",
      "Running... _train_OWL2Bench2 _test_OWL2Bench2\n",
      "# Train - Triplets: 15633, # Nodes: 7132, # Edges: 15633\n",
      "# Test - Triplets: 4469, # Nodes: 3641, # Edges: 4469\n",
      "\n",
      "# Train - Subclass Edges: 105\n",
      "# Test - Subclass Edges: 30\n",
      "# Train - Assertion Edges: 15526\n",
      "# Test - Assertion Edges: 4437\n",
      "\n"
     ]
    }
   ],
   "source": [
    "for db_ in OWL2Bench_dbs:    \n",
    "    path = db_['path']\n",
    "    train_file = db_['train_file']\n",
    "    test_file = db_['test_file']\n",
    "    file = db_['file']\n",
    "\n",
    "    g_train, g_train_filter_subclass, g_train_filter_assertion, g_test, g_test_filter_subclass, g_test_filter_assertion = \\\n",
    "    load_ore_graphs(path, train_file, test_file)\n",
    "    \n",
    "    print(f'# Train - Subclass Edges: {g_train_filter_subclass.number_of_edges()}')\n",
    "    print(f'# Test - Subclass Edges: {g_test_filter_subclass.number_of_edges()}')\n",
    "    \n",
    "    print(f'# Train - Assertion Edges: {g_train_filter_assertion.number_of_edges()}')\n",
    "    print(f'# Test - Assertion Edges: {g_test_filter_assertion.number_of_edges()}')\n",
    "    print()"
   ]
  },
  {
   "cell_type": "code",
   "execution_count": 4,
   "id": "72e1c3a8-9015-447c-8503-37adfd12c3ba",
   "metadata": {},
   "outputs": [],
   "source": [
    "ORE_dbs = [{'path' : './datasets/ORE/ORE1/',\n",
    "            'train_file' : '_train_ORE1',\n",
    "            'test_file' : '_test_ORE1',\n",
    "            'file' : 'ORE1'},\n",
    "           {'path' : './datasets/ORE/ORE2/',\n",
    "            'train_file' : '_train_ORE2',\n",
    "            'test_file' : '_test_ORE2',\n",
    "            'file' : 'ORE2'},\n",
    "           {'path' : './datasets/ORE/ORE3/',\n",
    "            'train_file' : '_train_ORE3',\n",
    "            'test_file' : '_test_ORE3',\n",
    "            'file' : 'ORE3'}]"
   ]
  },
  {
   "cell_type": "code",
   "execution_count": 5,
   "id": "7b90bbb2-b5ad-44cb-8c73-35456a0ae07e",
   "metadata": {},
   "outputs": [
    {
     "name": "stdout",
     "output_type": "stream",
     "text": [
      "Running... _train_ORE1 _test_ORE1\n",
      "# Train - Triplets: 61245, # Nodes: 9222, # Edges: 61245\n",
      "# Test - Triplets: 17501, # Nodes: 7117, # Edges: 17501\n",
      "\n",
      "# Train - Subclass Edges: 8194\n",
      "# Test - Subclass Edges: 2342\n",
      "# Train - Assertion Edges: 53048\n",
      "# Test - Assertion Edges: 15157\n",
      "\n",
      "Running... _train_ORE2 _test_ORE2\n",
      "# Train - Triplets: 61289, # Nodes: 9200, # Edges: 61289\n",
      "# Test - Triplets: 17512, # Nodes: 7147, # Edges: 17512\n",
      "\n",
      "# Train - Subclass Edges: 8204\n",
      "# Test - Subclass Edges: 2344\n",
      "# Train - Assertion Edges: 53081\n",
      "# Test - Assertion Edges: 15166\n",
      "\n",
      "Running... _train_ORE3 _test_ORE3\n",
      "# Train - Triplets: 61204, # Nodes: 9186, # Edges: 61204\n",
      "# Test - Triplets: 17490, # Nodes: 7122, # Edges: 17490\n",
      "\n",
      "# Train - Subclass Edges: 8187\n",
      "# Test - Subclass Edges: 2340\n",
      "# Train - Assertion Edges: 53014\n",
      "# Test - Assertion Edges: 15148\n",
      "\n"
     ]
    }
   ],
   "source": [
    "for db_ in ORE_dbs:    \n",
    "    path = db_['path']\n",
    "    train_file = db_['train_file']\n",
    "    test_file = db_['test_file']\n",
    "    file = db_['file']\n",
    "\n",
    "    g_train, g_train_filter_subclass, g_train_filter_assertion, g_test, g_test_filter_subclass, g_test_filter_assertion = \\\n",
    "    load_ore_graphs(path, train_file, test_file)\n",
    "    \n",
    "    print(f'# Train - Subclass Edges: {g_train_filter_subclass.number_of_edges()}')\n",
    "    print(f'# Test - Subclass Edges: {g_test_filter_subclass.number_of_edges()}')\n",
    "    \n",
    "    print(f'# Train - Assertion Edges: {g_train_filter_assertion.number_of_edges()}')\n",
    "    print(f'# Test - Assertion Edges: {g_test_filter_assertion.number_of_edges()}')\n",
    "    print()"
   ]
  },
  {
   "cell_type": "code",
   "execution_count": 2,
   "id": "2f157a3c-9687-417a-a10d-c13f6100395f",
   "metadata": {},
   "outputs": [],
   "source": [
    "CLG_dbs = [{'path' : './datasets/clg/clg_10e4/',\n",
    "            'train_file' : 'clg_10e4-train.nt',\n",
    "            'test_file' : 'clg_10e4-test.nt',\n",
    "            'file' : 'clg_10e4'},\n",
    "           {'path' : './datasets/clg/clg_10e5/',\n",
    "            'train_file' : 'clg_10e5-train.nt',\n",
    "            'test_file' : 'clg_10e5-test.nt',\n",
    "            'file' : 'clg_10e5'}]"
   ]
  },
  {
   "cell_type": "code",
   "execution_count": 7,
   "id": "ac5feaee-86a7-4ad1-8697-064dc9771256",
   "metadata": {},
   "outputs": [
    {
     "name": "stdout",
     "output_type": "stream",
     "text": [
      "Running... clg_10e4-train.nt clg_10e4-test.nt\n",
      "# Train - Triplets: 127801, # Nodes: 24556, # Edges: 127801\n",
      "# Test - Triplets: 36519, # Nodes: 13752, # Edges: 36519\n",
      "\n",
      "# Train - Subclass Edges: 59956\n",
      "# Test - Subclass Edges: 17132\n",
      "# Train - Assertion Edges: 51577\n",
      "# Test - Assertion Edges: 14738\n",
      "\n",
      "Running... clg_10e5-train.nt clg_10e5-test.nt\n",
      "# Train - Triplets: 265139, # Nodes: 198896, # Edges: 265139\n",
      "# Test - Triplets: 75757, # Nodes: 73461, # Edges: 75757\n",
      "\n",
      "# Train - Subclass Edges: 96273\n",
      "# Test - Subclass Edges: 27508\n",
      "# Train - Assertion Edges: 29973\n",
      "# Test - Assertion Edges: 8565\n",
      "\n"
     ]
    }
   ],
   "source": [
    "for db_ in CLG_dbs:    \n",
    "    path = db_['path']\n",
    "    train_file = db_['train_file']\n",
    "    test_file = db_['test_file']\n",
    "    file = db_['file']\n",
    "\n",
    "    g_train, g_train_filter_subclass, g_train_filter_assertion, g_test, g_test_filter_subclass, g_test_filter_assertion = \\\n",
    "    load_clg_graphs(path, train_file, test_file)\n",
    "    \n",
    "    print(f'# Train - Subclass Edges: {g_train_filter_subclass.number_of_edges()}')\n",
    "    print(f'# Test - Subclass Edges: {g_test_filter_subclass.number_of_edges()}')\n",
    "    \n",
    "    print(f'# Train - Assertion Edges: {g_train_filter_assertion.number_of_edges()}')\n",
    "    print(f'# Test - Assertion Edges: {g_test_filter_assertion.number_of_edges()}')\n",
    "    print()"
   ]
  }
 ],
 "metadata": {
  "kernelspec": {
   "display_name": "Python 3 (ipykernel)",
   "language": "python",
   "name": "python3"
  },
  "language_info": {
   "codemirror_mode": {
    "name": "ipython",
    "version": 3
   },
   "file_extension": ".py",
   "mimetype": "text/x-python",
   "name": "python",
   "nbconvert_exporter": "python",
   "pygments_lexer": "ipython3",
   "version": "3.8.16"
  }
 },
 "nbformat": 4,
 "nbformat_minor": 5
}
