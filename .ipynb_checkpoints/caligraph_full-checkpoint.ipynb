{
 "cells": [
  {
   "cell_type": "code",
   "execution_count": 1,
   "id": "2ab12df3-26d1-4d99-a22d-1196b17b8708",
   "metadata": {},
   "outputs": [],
   "source": [
    "import pandas as pd\n",
    "import numpy as np"
   ]
  },
  {
   "cell_type": "code",
   "execution_count": null,
   "id": "1a7965be-01e9-49e1-ada8-4099cf9d951c",
   "metadata": {},
   "outputs": [],
   "source": [
    "df_superclass_train = pd.read_csv('datasets/clg/clg_full/superclass_train.pd.gz', compression='gzip')\n",
    "df_type_train = pd.read_csv('datasets/clg/clg_full/type_train.pd.gz', compression='gzip')\n",
    "df_relation_train = pd.read_csv('datasets/clg/clg_full/relation_train.pd.gz', compression='gzip')"
   ]
  },
  {
   "cell_type": "code",
   "execution_count": null,
   "id": "8ebf7cb8-aec1-4785-ba96-19d5b5ad9c46",
   "metadata": {},
   "outputs": [],
   "source": [
    "df_train = pd.concat([df_superclass_train, df_type_train, df_relation_train])\n",
    "df_test = pd.read_csv('datasets/clg/clg_full/clg_full_test.pd.gz', compression='gzip')"
   ]
  }
 ],
 "metadata": {
  "kernelspec": {
   "display_name": "Python 3 (ipykernel)",
   "language": "python",
   "name": "python3"
  },
  "language_info": {
   "codemirror_mode": {
    "name": "ipython",
    "version": 3
   },
   "file_extension": ".py",
   "mimetype": "text/x-python",
   "name": "python",
   "nbconvert_exporter": "python",
   "pygments_lexer": "ipython3",
   "version": "3.8.16"
  }
 },
 "nbformat": 4,
 "nbformat_minor": 5
}
