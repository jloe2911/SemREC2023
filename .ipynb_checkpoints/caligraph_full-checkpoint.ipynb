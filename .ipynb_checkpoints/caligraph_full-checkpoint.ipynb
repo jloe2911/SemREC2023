{
 "cells": [
  {
   "cell_type": "code",
   "execution_count": 1,
   "id": "40f1d5ef-418e-48b1-b445-e64cbd62f782",
   "metadata": {},
   "outputs": [],
   "source": [
    "import pandas as pd\n",
    "import numpy as np\n",
    "import operator\n",
    "import gzip\n",
    "import networkx as nx\n",
    "import time\n",
    "import random\n",
    "random.seed(10)\n",
    "\n",
    "import torch\n",
    "import torch.nn as nn\n",
    "from torch.nn import Linear\n",
    "import torch.nn.functional as F\n",
    "\n",
    "import torch_geometric\n",
    "from torch_geometric.data import HeteroData\n",
    "import torch_geometric.transforms as T\n",
    "from torch_geometric.nn import GCNConv, SAGEConv, GATConv, Linear, to_hetero\n",
    "\n",
    "from sklearn.metrics import precision_score, recall_score, f1_score\n",
    "\n",
    "from src.utils import *\n",
    "from src.gnn import *"
   ]
  },
  {
   "cell_type": "code",
   "execution_count": 2,
   "id": "428eae54-6931-41c9-9c4f-9cda439a22cf",
   "metadata": {},
   "outputs": [
    {
     "name": "stdout",
     "output_type": "stream",
     "text": [
      "2.0.1+cu118\n",
      "2.4.0\n"
     ]
    }
   ],
   "source": [
    "print(torch.__version__)\n",
    "print(torch_geometric.__version__)"
   ]
  },
  {
   "cell_type": "code",
   "execution_count": 3,
   "id": "22016c44-32ed-460f-84d2-a4000bb4a158",
   "metadata": {},
   "outputs": [
    {
     "name": "stdout",
     "output_type": "stream",
     "text": [
      "cuda\n"
     ]
    }
   ],
   "source": [
    "device = torch.device('cuda' if torch.cuda.is_available() else 'cpu')\n",
    "print(device)"
   ]
  },
  {
   "cell_type": "markdown",
   "id": "875dbb9f-6f83-4233-b176-d63827b023c3",
   "metadata": {},
   "source": [
    "**Read df_train, df_test**"
   ]
  },
  {
   "cell_type": "code",
   "execution_count": 7,
   "id": "6ce8ffce-f88a-4fad-9fae-4e6e70ac07fa",
   "metadata": {},
   "outputs": [],
   "source": [
    "df_subsumption_train = pd.read_csv('datasets/clg/clg_full/subsumption_train.pd.gz', compression='gzip')\n",
    "df_relation_train = pd.read_csv('datasets/clg/clg_full/relation_train.pd.gz', compression='gzip')\n",
    "df_assertion_train = pd.read_csv('datasets/clg/clg_full/assertion_train.pd.gz', compression='gzip')\n",
    "df_train = pd.concat([df_subsumption_train,df_relation_train,df_assertion_train])"
   ]
  },
  {
   "cell_type": "code",
   "execution_count": 4,
   "id": "2899d74b-65d1-4679-ba03-1532390ab960",
   "metadata": {},
   "outputs": [],
   "source": [
    "df_test = pd.read_csv('datasets/clg/clg_full/clg_full-test.pd.gz', compression='gzip')"
   ]
  },
  {
   "cell_type": "markdown",
   "id": "c2e03be1-8ad6-4864-af88-68f347a7d8d0",
   "metadata": {},
   "source": [
    "**Get g_train, g_test**"
   ]
  },
  {
   "cell_type": "code",
   "execution_count": null,
   "id": "523e6fbc-e300-43be-812e-a41e74b451bc",
   "metadata": {},
   "outputs": [],
   "source": [
    "df_train = df_train.rename(columns={'sub':'s', 'rel':'p', 'obj':'o'})\n",
    "df_test = df_test.rename(columns={'sub':'s', 'rel':'p', 'obj':'o'})"
   ]
  },
  {
   "cell_type": "code",
   "execution_count": null,
   "id": "f8c87890-556c-4119-945a-32ea307dd16e",
   "metadata": {},
   "outputs": [],
   "source": [
    "g_train = create_graph(df_train)"
   ]
  },
  {
   "cell_type": "code",
   "execution_count": null,
   "id": "c9b2d0a5-2692-4f9c-b5bf-3daea81f4232",
   "metadata": {},
   "outputs": [],
   "source": [
    "g_test = create_graph(df_test)"
   ]
  },
  {
   "cell_type": "code",
   "execution_count": null,
   "id": "eed8c047-63b1-4ad3-87ae-9d0e42896d23",
   "metadata": {},
   "outputs": [],
   "source": [
    "df_subsumption_train = df_subsumption_train.rename(columns={'sub':'s', 'rel':'p', 'obj':'o'})\n",
    "df_assertion_train = df_assertion_train.rename(columns={'sub':'s', 'rel':'p', 'obj':'o'})"
   ]
  },
  {
   "cell_type": "code",
   "execution_count": null,
   "id": "0cb73da1-7163-4896-be92-7bce70c21b9c",
   "metadata": {},
   "outputs": [],
   "source": [
    "g_train_filter_subclass = create_graph(df_subsumption_train)"
   ]
  },
  {
   "cell_type": "code",
   "execution_count": null,
   "id": "be948b72-5188-4765-83a9-edc396341b84",
   "metadata": {},
   "outputs": [],
   "source": [
    "g_train_filter_assertion = create_graph(df_assertion_train)"
   ]
  },
  {
   "cell_type": "code",
   "execution_count": null,
   "id": "5f0e07f5-884e-45c4-a087-1b0e2648c206",
   "metadata": {},
   "outputs": [],
   "source": [
    "df_test_filter_subclass = df_test[df_test['p'] == '<http://www.w3.org/2000/01/rdf-schema#subClassOf>']\n",
    "g_test_filter_subclass = create_graph(df_test_filter_subclass)\n",
    "\n",
    "df_test_filter_assertion = df_test[df_test['p'] == '<http://www.w3.org/1999/02/22-rdf-syntax-ns#type>']\n",
    "g_test_filter_assertion = create_graph(df_test_filter_assertion)"
   ]
  },
  {
   "cell_type": "markdown",
   "id": "3126882f-ee9c-4bf8-8220-38c981961098",
   "metadata": {},
   "source": [
    "**Stats**"
   ]
  },
  {
   "cell_type": "code",
   "execution_count": null,
   "id": "e1a71c95-9775-4278-82dd-d2de841e2766",
   "metadata": {},
   "outputs": [],
   "source": [
    "print(f'# Train - Triplets: {len(df_train)}, # Nodes: {g_train.number_of_nodes()}, # Edges: {g_train.number_of_edges()}')\n",
    "print(f'# Test - Triplets: {len(df_test)}, # Nodes: {g_test.number_of_nodes()}, # Edges: {g_test.number_of_edges()}')\n",
    "\n",
    "print(f'# Train - Subclass Edges: {g_train_filter_subclass.number_of_edges()}')\n",
    "print(f'# Test - Subclass Edges: {g_test_filter_subclass.number_of_edges()}')\n",
    "\n",
    "print(f'# Train - Assertion Edges: {g_train_filter_assertion.number_of_edges()}')\n",
    "print(f'# Test - Assertion Edges: {g_test_filter_assertion.number_of_edges()}')"
   ]
  },
  {
   "cell_type": "markdown",
   "id": "dc984408-ec8c-44da-9233-636a10e1cfbc",
   "metadata": {},
   "source": [
    "**Train**"
   ]
  },
  {
   "cell_type": "code",
   "execution_count": null,
   "id": "fd13ac57-fb1e-476a-8b02-6a74d6b681ff",
   "metadata": {},
   "outputs": [],
   "source": [
    "print('GAT')\n",
    "st = time.time()\n",
    "model = GNN()\n",
    "model._train(device, 'GAT', g_train)\n",
    "torch.save(model, f'Models/{file}_GAT')\n",
    "et = time.time()\n",
    "elapsed_time = et - st\n",
    "print(f'Run time: {elapsed_time:.0f} seconds, {elapsed_time/60:.0f} minutes')\n",
    "print()\n",
    "\n",
    "print('2-Hop GAT')\n",
    "st = time.time()\n",
    "model = GNN()\n",
    "model._train(device, '2-Hop GAT', g_train)\n",
    "torch.save(model, f'Models/{file}_2HopGAT')\n",
    "et = time.time()\n",
    "elapsed_time = et - st\n",
    "print(f'Run time: {elapsed_time:.0f} seconds, {elapsed_time/60:.0f} minutes')\n",
    "print()\n",
    "\n",
    "print('Filtered 2-Hop GAT')\n",
    "st = time.time()\n",
    "model = GNN()\n",
    "model._train(device, '2-Hop GAT', g_train, g_train_filter_subclass, g_train_filter_assertion)\n",
    "torch.save(model, f'Models/{file}_Filtered2HopGAT')\n",
    "et = time.time()\n",
    "elapsed_time = et - st\n",
    "print(f'Run time: {elapsed_time:.0f} seconds, {elapsed_time/60:.0f} minutes')\n",
    "print()"
   ]
  },
  {
   "cell_type": "markdown",
   "id": "29987740-b43d-4642-ab11-0b6aec910374",
   "metadata": {},
   "source": [
    "**Eval**"
   ]
  },
  {
   "cell_type": "code",
   "execution_count": null,
   "id": "55bc54ec-3b25-4d39-8f99-5b2ab14a7361",
   "metadata": {},
   "outputs": [],
   "source": [
    "print('GAT:')\n",
    "model = torch.load(f'Models/{file}_GAT')\n",
    "print('SubClass Relations')\n",
    "model._eval(min(g_test_filter_subclass.number_of_nodes(),100), 'GAT', g_test_filter_subclass)\n",
    "print('Assertion Relations')\n",
    "model._eval(min(g_test_filter_assertion.number_of_nodes(),100), 'GAT', g_test_filter_assertion)\n",
    "print('All Relations')\n",
    "model._eval(min(g_test.number_of_nodes(),100), 'GAT', g_test)\n",
    "print()\n",
    "\n",
    "print('2-Hop GAT:')\n",
    "model = torch.load(f'Models/{file}_2HopGAT')\n",
    "print('SubClass Relations')\n",
    "model._eval(min(g_test_filter_subclass.number_of_nodes(),100), '2-Hop GAT', g_test_filter_subclass)\n",
    "print('Assertion Relations')\n",
    "model._eval(min(g_test_filter_assertion.number_of_nodes(),100), '2-Hop GAT', g_test_filter_assertion)\n",
    "print('All Relations')\n",
    "model._eval(min(g_test.number_of_nodes(),100), '2-Hop GAT', g_test)\n",
    "print()\n",
    "\n",
    "print('Filtered 2-Hop GAT:')\n",
    "model = torch.load(f'Models/{file}_Filtered2HopGAT')\n",
    "print('SubClass Relations')\n",
    "model._eval(min(g_test_filter_subclass.number_of_nodes(),100), '2-Hop GAT', g_test_filter_subclass, g_test_filter_subclass, g_test_filter_assertion)\n",
    "print('Assertion Relations')\n",
    "model._eval(min(g_test_filter_assertion.number_of_nodes(),100), '2-Hop GAT', g_test_filter_assertion, g_test_filter_subclass, g_test_filter_assertion)\n",
    "print('All Relations')\n",
    "model._eval(min(g_test.number_of_nodes(),100), '2-Hop GAT', g_test, g_test_filter_subclass, g_test_filter_assertion)\n",
    "print()"
   ]
  }
 ],
 "metadata": {
  "kernelspec": {
   "display_name": "Python 3 (ipykernel)",
   "language": "python",
   "name": "python3"
  },
  "language_info": {
   "codemirror_mode": {
    "name": "ipython",
    "version": 3
   },
   "file_extension": ".py",
   "mimetype": "text/x-python",
   "name": "python",
   "nbconvert_exporter": "python",
   "pygments_lexer": "ipython3",
   "version": "3.8.16"
  }
 },
 "nbformat": 4,
 "nbformat_minor": 5
}
