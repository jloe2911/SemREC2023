{
 "cells": [
  {
   "cell_type": "code",
   "execution_count": 1,
   "id": "4160ba72-0f6c-4400-b417-dda1d99170ee",
   "metadata": {},
   "outputs": [],
   "source": [
    "import pandas as pd\n",
    "import numpy as np\n",
    "import operator\n",
    "import gzip\n",
    "import networkx as nx\n",
    "import time\n",
    "import random\n",
    "random.seed(10)\n",
    "\n",
    "import torch\n",
    "import torch.nn as nn\n",
    "from torch.nn import Linear\n",
    "import torch.nn.functional as F\n",
    "\n",
    "import torch_geometric\n",
    "from torch_geometric.data import HeteroData\n",
    "import torch_geometric.transforms as T\n",
    "from torch_geometric.nn import GCNConv, SAGEConv, GATConv, Linear, to_hetero\n",
    "\n",
    "from sklearn.metrics import precision_score, recall_score, f1_score\n",
    "\n",
    "from src.utils import *\n",
    "from src.gnn import *"
   ]
  },
  {
   "cell_type": "code",
   "execution_count": 2,
   "id": "18850241-648f-43b5-955b-844a87a8fb91",
   "metadata": {},
   "outputs": [
    {
     "name": "stdout",
     "output_type": "stream",
     "text": [
      "2.0.1+cu118\n"
     ]
    }
   ],
   "source": [
    "print(torch.__version__)"
   ]
  },
  {
   "cell_type": "code",
   "execution_count": 3,
   "id": "b3a2112d-8a4e-47c3-a9e1-c1f3c2103274",
   "metadata": {},
   "outputs": [
    {
     "name": "stdout",
     "output_type": "stream",
     "text": [
      "2.4.0\n"
     ]
    }
   ],
   "source": [
    "print(torch_geometric.__version__)"
   ]
  },
  {
   "cell_type": "code",
   "execution_count": 4,
   "id": "9df51403-2f73-445f-8fec-b9ac3af7fb0e",
   "metadata": {},
   "outputs": [
    {
     "name": "stdout",
     "output_type": "stream",
     "text": [
      "cuda\n"
     ]
    }
   ],
   "source": [
    "device = torch.device('cuda' if torch.cuda.is_available() else 'cpu')\n",
    "print(device)"
   ]
  },
  {
   "cell_type": "markdown",
   "id": "aa30b1c4-ce45-4edc-9667-e3dbf5e5452e",
   "metadata": {
    "tags": []
   },
   "source": [
    "# OWL2Bench"
   ]
  },
  {
   "cell_type": "code",
   "execution_count": 5,
   "id": "6a03c523-aca1-43dd-9adf-009ad7d67fe5",
   "metadata": {},
   "outputs": [],
   "source": [
    "OWL2Bench_dbs = [{'path' : './datasets/OWL2Bench/OWL2Bench1/',\n",
    "                  'train_file' : '_train_OWL2Bench1',\n",
    "                  'test_file' : '_test_OWL2Bench1',\n",
    "                  'file' : 'OWL2Bench1'},\n",
    "                 {'path' : './datasets/OWL2Bench/OWL2Bench2/',\n",
    "                  'train_file' : '_train_OWL2Bench2',\n",
    "                  'test_file' : '_test_OWL2Bench2',\n",
    "                  'file' : 'OWL2Bench2'}]"
   ]
  },
  {
   "cell_type": "code",
   "execution_count": 6,
   "id": "98378797-b3aa-4653-8e38-607cb264b638",
   "metadata": {},
   "outputs": [
    {
     "name": "stdout",
     "output_type": "stream",
     "text": [
      "Running... _train_OWL2Bench1 _test_OWL2Bench1\n",
      "# Train - Triplets: 8096, # Nodes: 3683, # Edges: 8096\n",
      "# Test - Triplets: 2315, # Nodes: 1865, # Edges: 2315\n",
      "\n",
      "GAT\n",
      "Epoch: 0, Loss: 0.3522\n",
      "Epoch: 400, Loss: 0.0575\n",
      "Epoch: 800, Loss: 0.0292\n",
      "Run time: 9 seconds, 0 minutes\n",
      "\n",
      "2-Hop GAT\n",
      "Epoch: 0, Loss: 0.3104\n",
      "Epoch: 400, Loss: 0.1639\n",
      "Epoch: 800, Loss: 0.1600\n",
      "Run time: 18 seconds, 0 minutes\n",
      "\n",
      "GAT Reasoner\n",
      "Epoch: 0, Loss: 0.3620\n",
      "Epoch: 400, Loss: 0.2858\n",
      "Epoch: 800, Loss: 0.2405\n",
      "Run time: 9 seconds, 0 minutes\n",
      "\n",
      "Running... _train_OWL2Bench2 _test_OWL2Bench2\n",
      "# Train - Triplets: 15633, # Nodes: 7132, # Edges: 15633\n",
      "# Test - Triplets: 4469, # Nodes: 3641, # Edges: 4469\n",
      "\n",
      "GAT\n",
      "Epoch: 0, Loss: 0.3593\n",
      "Epoch: 400, Loss: 0.0498\n",
      "Epoch: 800, Loss: 0.0282\n",
      "Run time: 14 seconds, 0 minutes\n",
      "\n",
      "2-Hop GAT\n",
      "Epoch: 0, Loss: 0.3284\n",
      "Epoch: 400, Loss: 0.1200\n",
      "Epoch: 800, Loss: 0.1149\n",
      "Run time: 48 seconds, 1 minutes\n",
      "\n",
      "GAT Reasoner\n",
      "Epoch: 0, Loss: 0.2927\n",
      "Epoch: 400, Loss: 0.1455\n",
      "Epoch: 800, Loss: 0.1387\n",
      "Run time: 24 seconds, 0 minutes\n",
      "\n"
     ]
    }
   ],
   "source": [
    "for db_ in OWL2Bench_dbs:    \n",
    "    path = db_['path']\n",
    "    train_file = db_['train_file']\n",
    "    test_file = db_['test_file']\n",
    "    file = db_['file']\n",
    "\n",
    "    g_train, g_train_filter_subclass, g_train_filter_assertion, g_test, g_test_filter_subclass, g_test_filter_assertion = \\\n",
    "    load_ore_graphs(path, train_file, test_file)\n",
    "    \n",
    "    print('GAT')\n",
    "    st = time.time()\n",
    "    model = GNN()\n",
    "    model._train(device, 'GAT', g_train)\n",
    "    torch.save(model, f'Models/{file}_GAT')\n",
    "    et = time.time()\n",
    "    elapsed_time = et - st\n",
    "    print(f'Run time: {elapsed_time:.0f} seconds, {elapsed_time/60:.0f} minutes')\n",
    "    print()\n",
    "\n",
    "    print('2-Hop GAT')\n",
    "    st = time.time()\n",
    "    model = GNN()\n",
    "    model._train(device, '2-Hop GAT', g_train)\n",
    "    torch.save(model, f'Models/{file}_2HopGAT')\n",
    "    et = time.time()\n",
    "    elapsed_time = et - st\n",
    "    print(f'Run time: {elapsed_time:.0f} seconds, {elapsed_time/60:.0f} minutes')\n",
    "    print()\n",
    "    \n",
    "    print('Filtered 2-Hop GAT')\n",
    "    st = time.time()\n",
    "    model = GNN()\n",
    "    model._train(device, '2-Hop GAT', g_train, g_train_filter_subclass, g_train_filter_assertion)\n",
    "    torch.save(model, f'Models/{file}_GATReasoner')\n",
    "    et = time.time()\n",
    "    elapsed_time = et - st\n",
    "    print(f'Run time: {elapsed_time:.0f} seconds, {elapsed_time/60:.0f} minutes')\n",
    "    print()"
   ]
  },
  {
   "cell_type": "markdown",
   "id": "af7c36bd-4392-44ca-8c44-d457426fdc4e",
   "metadata": {
    "tags": []
   },
   "source": [
    "# OWL"
   ]
  },
  {
   "cell_type": "code",
   "execution_count": null,
   "id": "cc39fd9a-b521-4c20-ae23-231a1d198673",
   "metadata": {},
   "outputs": [],
   "source": [
    "ORE_dbs = [{'path' : './datasets/ORE/ORE1/',\n",
    "            'train_file' : '_train_ORE1',\n",
    "            'test_file' : '_test_ORE1',\n",
    "            'file' : 'ORE1'},\n",
    "           {'path' : './datasets/ORE/ORE2/',\n",
    "            'train_file' : '_train_ORE2',\n",
    "            'test_file' : '_test_ORE2',\n",
    "            'file' : 'ORE2'},\n",
    "           {'path' : './datasets/ORE/ORE3/',\n",
    "            'train_file' : '_train_ORE3',\n",
    "            'test_file' : '_test_ORE3',\n",
    "            'file' : 'ORE3'}]"
   ]
  },
  {
   "cell_type": "code",
   "execution_count": null,
   "id": "c4478b1f-2cb5-4a29-89d7-ea6385031fdc",
   "metadata": {},
   "outputs": [],
   "source": [
    "for db_ in ORE_dbs:    \n",
    "    path = db_['path']\n",
    "    train_file = db_['train_file']\n",
    "    test_file = db_['test_file']\n",
    "    file = db_['file']\n",
    "\n",
    "    g_train, g_train_filter_subclass, g_train_filter_assertion, g_test, g_test_filter_subclass, g_test_filter_assertion = \\\n",
    "    load_ore_graphs(path, train_file, test_file)\n",
    "    \n",
    "    print('GAT')\n",
    "    st = time.time()\n",
    "    model = GNN()\n",
    "    model._train(device, 'GAT', g_train)\n",
    "    torch.save(model, f'Models/{file}_GAT')\n",
    "    et = time.time()\n",
    "    elapsed_time = et - st\n",
    "    print(f'Run time: {elapsed_time:.0f} seconds, {elapsed_time/60:.0f} minutes')\n",
    "    print()\n",
    "\n",
    "    print('2-Hop GAT')\n",
    "    st = time.time()\n",
    "    model = GNN()\n",
    "    model._train(device, '2-Hop GAT', g_train)\n",
    "    torch.save(model, f'Models/{file}_2HopGAT')\n",
    "    et = time.time()\n",
    "    elapsed_time = et - st\n",
    "    print(f'Run time: {elapsed_time:.0f} seconds, {elapsed_time/60:.0f} minutes')\n",
    "    print()\n",
    "    \n",
    "    print('Filtered 2-Hop GAT')\n",
    "    st = time.time()\n",
    "    model = GNN()\n",
    "    model._train(device, '2-Hop GAT', g_train, g_train_filter_subclass, g_train_filter_assertion)\n",
    "    torch.save(model, f'Models/{file}_GATReasoner')\n",
    "    et = time.time()\n",
    "    elapsed_time = et - st\n",
    "    print(f'Run time: {elapsed_time:.0f} seconds, {elapsed_time/60:.0f} minutes')\n",
    "    print()"
   ]
  },
  {
   "cell_type": "markdown",
   "id": "93d4aa95-acaf-480b-a5b2-b1a19de2f65e",
   "metadata": {
    "tags": []
   },
   "source": [
    "# CaLiGraph"
   ]
  },
  {
   "cell_type": "code",
   "execution_count": null,
   "id": "a2adcdb4-1886-4343-8a85-3bd61402644b",
   "metadata": {},
   "outputs": [],
   "source": [
    "CLG_dbs = [{'path' : './datasets/clg/clg_10e4/',\n",
    "            'train_file' : 'clg_10e4-train.nt',\n",
    "            'test_file' : 'clg_10e4-test.nt',\n",
    "            'file' : 'clg_10e4'},\n",
    "           {'path' : './datasets/clg/clg_10e5/',\n",
    "            'train_file' : 'clg_10e5-train.nt',\n",
    "            'test_file' : 'clg_10e5-test.nt',\n",
    "            'file' : 'clg_10e5'}]"
   ]
  },
  {
   "cell_type": "code",
   "execution_count": null,
   "id": "c1f94126-8a21-4937-bdb3-2e8c6f12c7d6",
   "metadata": {},
   "outputs": [],
   "source": [
    "for db_ in CLG_dbs:    \n",
    "    path = db_['path']\n",
    "    train_file = db_['train_file']\n",
    "    test_file = db_['test_file']\n",
    "    file = db_['file']\n",
    "\n",
    "    g_train, g_train_filter_subclass, g_train_filter_assertion, g_test, g_test_filter_subclass, g_test_filter_assertion = \\\n",
    "    load_clg_graphs(path, train_file, test_file)\n",
    "    \n",
    "    print('GAT')\n",
    "    st = time.time()\n",
    "    model = GNN()\n",
    "    model._train(device, 'GAT', g_train)\n",
    "    torch.save(model, f'Models/{file}_GAT')\n",
    "    et = time.time()\n",
    "    elapsed_time = et - st\n",
    "    print(f'Run time: {elapsed_time:.0f} seconds, {elapsed_time/60:.0f} minutes')\n",
    "    print()\n",
    "\n",
    "    print('2-Hop GAT')\n",
    "    st = time.time()\n",
    "    model = GNN()\n",
    "    model._train(device, '2-Hop GAT', g_train)\n",
    "    torch.save(model, f'Models/{file}_2HopGAT')\n",
    "    et = time.time()\n",
    "    elapsed_time = et - st\n",
    "    print(f'Run time: {elapsed_time:.0f} seconds, {elapsed_time/60:.0f} minutes')\n",
    "    print()\n",
    "    \n",
    "    print('Filtered 2-Hop GAT')\n",
    "    st = time.time()\n",
    "    model = GNN()\n",
    "    model._train(device, '2-Hop GAT', g_train, g_train_filter_subclass, g_train_filter_assertion)\n",
    "    torch.save(model, f'Models/{file}_GATReasoner')\n",
    "    et = time.time()\n",
    "    elapsed_time = et - st\n",
    "    print(f'Run time: {elapsed_time:.0f} seconds, {elapsed_time/60:.0f} minutes')\n",
    "    print()"
   ]
  }
 ],
 "metadata": {
  "kernelspec": {
   "display_name": "Python 3 (ipykernel)",
   "language": "python",
   "name": "python3"
  },
  "language_info": {
   "codemirror_mode": {
    "name": "ipython",
    "version": 3
   },
   "file_extension": ".py",
   "mimetype": "text/x-python",
   "name": "python",
   "nbconvert_exporter": "python",
   "pygments_lexer": "ipython3",
   "version": "3.8.16"
  }
 },
 "nbformat": 4,
 "nbformat_minor": 5
}
