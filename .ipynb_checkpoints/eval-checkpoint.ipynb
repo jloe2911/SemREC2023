{
 "cells": [
  {
   "cell_type": "code",
   "execution_count": 1,
   "id": "4160ba72-0f6c-4400-b417-dda1d99170ee",
   "metadata": {},
   "outputs": [],
   "source": [
    "import pandas as pd\n",
    "import numpy as np\n",
    "import operator\n",
    "import gzip\n",
    "import networkx as nx\n",
    "import time\n",
    "import random\n",
    "random.seed(10)\n",
    "\n",
    "import torch\n",
    "import torch.nn as nn\n",
    "from torch.nn import Linear\n",
    "import torch.nn.functional as F\n",
    "\n",
    "import torch_geometric\n",
    "from torch_geometric.data import HeteroData\n",
    "import torch_geometric.transforms as T\n",
    "from torch_geometric.nn import GCNConv, SAGEConv, GATConv, Linear, to_hetero\n",
    "\n",
    "from sklearn.metrics import precision_score, recall_score, f1_score\n",
    "\n",
    "from src.utils import *\n",
    "from src.gnn import *"
   ]
  },
  {
   "cell_type": "code",
   "execution_count": 2,
   "id": "18850241-648f-43b5-955b-844a87a8fb91",
   "metadata": {},
   "outputs": [
    {
     "name": "stdout",
     "output_type": "stream",
     "text": [
      "2.0.1+cu118\n"
     ]
    }
   ],
   "source": [
    "print(torch.__version__)"
   ]
  },
  {
   "cell_type": "code",
   "execution_count": 3,
   "id": "b3a2112d-8a4e-47c3-a9e1-c1f3c2103274",
   "metadata": {},
   "outputs": [
    {
     "name": "stdout",
     "output_type": "stream",
     "text": [
      "2.4.0\n"
     ]
    }
   ],
   "source": [
    "print(torch_geometric.__version__)"
   ]
  },
  {
   "cell_type": "code",
   "execution_count": 4,
   "id": "9df51403-2f73-445f-8fec-b9ac3af7fb0e",
   "metadata": {},
   "outputs": [
    {
     "name": "stdout",
     "output_type": "stream",
     "text": [
      "cuda\n"
     ]
    }
   ],
   "source": [
    "device = torch.device('cuda' if torch.cuda.is_available() else 'cpu')\n",
    "print(device)"
   ]
  },
  {
   "cell_type": "markdown",
   "id": "aa30b1c4-ce45-4edc-9667-e3dbf5e5452e",
   "metadata": {
    "tags": []
   },
   "source": [
    "# OWL2Bench"
   ]
  },
  {
   "cell_type": "code",
   "execution_count": 5,
   "id": "6a03c523-aca1-43dd-9adf-009ad7d67fe5",
   "metadata": {},
   "outputs": [],
   "source": [
    "OWL2Bench_dbs = [{'path' : './datasets/OWL2Bench/OWL2Bench1/',\n",
    "                  'train_file' : '_train_OWL2Bench1',\n",
    "                  'test_file' : '_test_OWL2Bench1',\n",
    "                  'file' : 'OWL2Bench1'},\n",
    "                 {'path' : './datasets/OWL2Bench/OWL2Bench2/',\n",
    "                  'train_file' : '_train_OWL2Bench2',\n",
    "                  'test_file' : '_test_OWL2Bench2',\n",
    "                  'file' : 'OWL2Bench2'}]"
   ]
  },
  {
   "cell_type": "code",
   "execution_count": 6,
   "id": "98378797-b3aa-4653-8e38-607cb264b638",
   "metadata": {},
   "outputs": [
    {
     "name": "stdout",
     "output_type": "stream",
     "text": [
      "Running... _train_OWL2Bench1 _test_OWL2Bench1\n",
      "# Train - Triplets: 8096, # Nodes: 3683, # Edges: 8096\n",
      "# Test - Triplets: 2315, # Nodes: 1865, # Edges: 2315\n",
      "\n",
      "GAT:\n",
      "SubClass Relations\n",
      "hits@1: 0.067, hits@10: 0.167\n",
      "--------\n",
      "Assertion Relations\n",
      "hits@1: 0.044, hits@10: 0.187\n",
      "--------\n",
      "All Relations\n",
      "hits@1: 0.086, hits@10: 0.223\n",
      "--------\n",
      "\n",
      "2-Hop GAT:\n",
      "SubClass Relations\n",
      "hits@1: 0.167, hits@10: 0.267\n",
      "--------\n",
      "Assertion Relations\n",
      "hits@1: 0.018, hits@10: 0.103\n",
      "--------\n",
      "All Relations\n",
      "hits@1: 0.114, hits@10: 0.206\n",
      "--------\n",
      "\n",
      "GAT Reasoner:\n",
      "SubClass Relations\n",
      "hits@1: 0.133, hits@10: 0.467\n",
      "--------\n",
      "Assertion Relations\n",
      "hits@1: 0.009, hits@10: 0.062\n",
      "--------\n",
      "All Relations\n",
      "hits@1: 0.003, hits@10: 0.196\n",
      "--------\n",
      "\n",
      "-----------------------------------\n",
      "Running... _train_OWL2Bench2 _test_OWL2Bench2\n",
      "# Train - Triplets: 15633, # Nodes: 7132, # Edges: 15633\n",
      "# Test - Triplets: 4469, # Nodes: 3641, # Edges: 4469\n",
      "\n",
      "GAT:\n",
      "SubClass Relations\n",
      "hits@1: 0.033, hits@10: 0.100\n",
      "--------\n",
      "Assertion Relations\n",
      "hits@1: 0.001, hits@10: 0.045\n",
      "--------\n",
      "All Relations\n",
      "hits@1: 0.019, hits@10: 0.130\n",
      "--------\n",
      "\n",
      "2-Hop GAT:\n",
      "SubClass Relations\n",
      "hits@1: 0.033, hits@10: 0.100\n",
      "--------\n",
      "Assertion Relations\n",
      "hits@1: 0.076, hits@10: 0.103\n",
      "--------\n",
      "All Relations\n",
      "hits@1: 0.000, hits@10: 0.001\n",
      "--------\n",
      "\n",
      "GAT Reasoner:\n",
      "SubClass Relations\n",
      "hits@1: 0.167, hits@10: 0.467\n",
      "--------\n",
      "Assertion Relations\n",
      "hits@1: 0.100, hits@10: 0.217\n",
      "--------\n",
      "All Relations\n",
      "hits@1: 0.035, hits@10: 0.119\n",
      "--------\n",
      "\n",
      "-----------------------------------\n"
     ]
    }
   ],
   "source": [
    "for db_ in OWL2Bench_dbs:    \n",
    "    path = db_['path']\n",
    "    train_file = db_['train_file']\n",
    "    test_file = db_['test_file']\n",
    "    file = db_['file']\n",
    "\n",
    "    g_train, g_train_filter_subclass, g_train_filter_assertion, g_test, g_test_filter_subclass, g_test_filter_assertion = load_ore_graphs(path, train_file, test_file)\n",
    "    \n",
    "    print('GAT:')\n",
    "    model = torch.load(f'Models/{file}_GAT')\n",
    "    print('SubClass Relations')\n",
    "    model._eval(min(g_test_filter_subclass.number_of_nodes(),100), 'GAT', g_test_filter_subclass)\n",
    "    print('Assertion Relations')\n",
    "    model._eval(min(g_test_filter_assertion.number_of_nodes(),100), 'GAT', g_test_filter_assertion)\n",
    "    print('All Relations')\n",
    "    model._eval(min(g_test.number_of_nodes(),100), 'GAT', g_test)\n",
    "    print()\n",
    "    \n",
    "    print('2-Hop GAT:')\n",
    "    model = torch.load(f'Models/{file}_2HopGAT')\n",
    "    print('SubClass Relations')\n",
    "    model._eval(min(g_test_filter_subclass.number_of_nodes(),100), '2-Hop GAT', g_test_filter_subclass)\n",
    "    print('Assertion Relations')\n",
    "    model._eval(min(g_test_filter_assertion.number_of_nodes(),100), '2-Hop GAT', g_test_filter_assertion)\n",
    "    print('All Relations')\n",
    "    model._eval(min(g_test.number_of_nodes(),100), '2-Hop GAT', g_test)\n",
    "    print()\n",
    "    \n",
    "    print('Filtered 2-Hop GAT:')\n",
    "    model = torch.load(f'Models/{file}_Filtered2HopGAT')\n",
    "    print('SubClass Relations')\n",
    "    model._eval(min(g_test_filter_subclass.number_of_nodes(),100), '2-Hop GAT', g_test_filter_subclass)\n",
    "    print('Assertion Relations')\n",
    "    model._eval(min(g_test_filter_assertion.number_of_nodes(),100), '2-Hop GAT', g_test_filter_assertion)\n",
    "    print('All Relations')\n",
    "    model._eval(min(g_test.number_of_nodes(),100), '2-Hop GAT', g_test, g_test_filter_subclass, g_test_filter_assertion)\n",
    "    print()\n",
    "    \n",
    "    print('-----------------------------------')"
   ]
  },
  {
   "cell_type": "markdown",
   "id": "af7c36bd-4392-44ca-8c44-d457426fdc4e",
   "metadata": {
    "tags": []
   },
   "source": [
    "# OWL"
   ]
  },
  {
   "cell_type": "code",
   "execution_count": null,
   "id": "cc39fd9a-b521-4c20-ae23-231a1d198673",
   "metadata": {},
   "outputs": [],
   "source": [
    "ORE_dbs = [{'path' : './datasets/ORE/ORE1/',\n",
    "            'train_file' : '_train_ORE1',\n",
    "            'test_file' : '_test_ORE1',\n",
    "            'file' : 'ORE1'},\n",
    "           {'path' : './datasets/ORE/ORE2/',\n",
    "            'train_file' : '_train_ORE2',\n",
    "            'test_file' : '_test_ORE2',\n",
    "            'file' : 'ORE2'},\n",
    "           {'path' : './datasets/ORE/ORE3/',\n",
    "            'train_file' : '_train_ORE3',\n",
    "            'test_file' : '_test_ORE3',\n",
    "            'file' : 'ORE3'}]"
   ]
  },
  {
   "cell_type": "code",
   "execution_count": null,
   "id": "c4478b1f-2cb5-4a29-89d7-ea6385031fdc",
   "metadata": {},
   "outputs": [],
   "source": [
    "for db_ in ORE_dbs:    \n",
    "    path = db_['path']\n",
    "    train_file = db_['train_file']\n",
    "    test_file = db_['test_file']\n",
    "    file = db_['file']\n",
    "\n",
    "    g_train, g_train_filter_subclass, g_train_filter_assertion, g_test, g_test_filter_subclass, g_test_filter_assertion = load_ore_graphs(path, train_file, test_file)\n",
    "    \n",
    "    print('GAT:')\n",
    "    model = torch.load(f'Models/{file}_GAT')\n",
    "    print('SubClass Relations')\n",
    "    model._eval(min(g_test_filter_subclass.number_of_nodes(),100), 'GAT', g_test_filter_subclass)\n",
    "    print('Assertion Relations')\n",
    "    model._eval(min(g_test_filter_assertion.number_of_nodes(),100), 'GAT', g_test_filter_assertion)\n",
    "    print('All Relations')\n",
    "    model._eval(min(g_test.number_of_nodes(),100), 'GAT', g_test)\n",
    "    print()\n",
    "    \n",
    "    print('2-Hop GAT:')\n",
    "    model = torch.load(f'Models/{file}_2HopGAT')\n",
    "    print('SubClass Relations')\n",
    "    model._eval(min(g_test_filter_subclass.number_of_nodes(),100), '2-Hop GAT', g_test_filter_subclass)\n",
    "    print('Assertion Relations')\n",
    "    model._eval(min(g_test_filter_assertion.number_of_nodes(),100), '2-Hop GAT', g_test_filter_assertion)\n",
    "    print('All Relations')\n",
    "    model._eval(min(g_test.number_of_nodes(),100), '2-Hop GAT', g_test)\n",
    "    print()\n",
    "    \n",
    "    print('Filtered 2-Hop GAT:')\n",
    "    model = torch.load(f'Models/{file}_Filtered2HopGAT')\n",
    "    print('SubClass Relations')\n",
    "    model._eval(min(g_test_filter_subclass.number_of_nodes(),100), '2-Hop GAT', g_test_filter_subclass)\n",
    "    print('Assertion Relations')\n",
    "    model._eval(min(g_test_filter_assertion.number_of_nodes(),100), '2-Hop GAT', g_test_filter_assertion)\n",
    "    print('All Relations')\n",
    "    model._eval(min(g_test.number_of_nodes(),100), '2-Hop GAT', g_test)\n",
    "    print()\n",
    "    \n",
    "    print('-----------------------------------')\n",
    "    \n",
    "    break"
   ]
  },
  {
   "cell_type": "markdown",
   "id": "93d4aa95-acaf-480b-a5b2-b1a19de2f65e",
   "metadata": {},
   "source": [
    "# CaLiGraph"
   ]
  },
  {
   "cell_type": "code",
   "execution_count": null,
   "id": "a2adcdb4-1886-4343-8a85-3bd61402644b",
   "metadata": {},
   "outputs": [],
   "source": [
    "CLG_dbs = [{'path' : './datasets/clg/clg_10e4/',\n",
    "            'train_file' : 'clg_10e4-train.nt',\n",
    "            'test_file' : 'clg_10e4-test.nt',\n",
    "            'file' : 'clg_10e4'},\n",
    "           {'path' : './datasets/clg/clg_10e5/',\n",
    "            'train_file' : 'clg_10e5-train.nt',\n",
    "            'test_file' : 'clg_10e5-test.nt',\n",
    "            'file' : 'clg_10e5'}]"
   ]
  },
  {
   "cell_type": "code",
   "execution_count": null,
   "id": "41b1a967-b6b2-4555-bd88-a41326c13028",
   "metadata": {},
   "outputs": [],
   "source": [
    "for db_ in CLG_dbs:    \n",
    "    path = db_['path']\n",
    "    train_file = db_['train_file']\n",
    "    test_file = db_['test_file']\n",
    "    file = db_['file']\n",
    "\n",
    "    g_train, g_train_filter_subclass, g_train_filter_assertion, g_test, g_test_filter_subclass, g_test_filter_assertion = load_clg_graphs(path, train_file, test_file)\n",
    "    \n",
    "    print('GAT:')\n",
    "    model = torch.load(f'Models/{file}_GAT')\n",
    "    print('SubClass Relations')\n",
    "    model._eval(min(g_test_filter_subclass.number_of_nodes(),100), 'GAT', g_test_filter_subclass)\n",
    "    print('Assertion Relations')\n",
    "    model._eval(min(g_test_filter_assertion.number_of_nodes(),100), 'GAT', g_test_filter_assertion)\n",
    "    print('All Relations')\n",
    "    model._eval(min(g_test.number_of_nodes(),100), 'GAT', g_test)\n",
    "    print()\n",
    "    \n",
    "    print('2-Hop GAT:')\n",
    "    model = torch.load(f'Models/{file}_2HopGAT')\n",
    "    print('SubClass Relations')\n",
    "    model._eval(min(g_test_filter_subclass.number_of_nodes(),100), '2-Hop GAT', g_test_filter_subclass)\n",
    "    print('Assertion Relations')\n",
    "    model._eval(min(g_test_filter_assertion.number_of_nodes(),100), '2-Hop GAT', g_test_filter_assertion)\n",
    "    print('All Relations')\n",
    "    model._eval(min(g_test.number_of_nodes(),100), '2-Hop GAT', g_test)\n",
    "    print()\n",
    "    \n",
    "    print('Filtered 2-Hop GAT:')\n",
    "    model = torch.load(f'Models/{file}_Filtered2HopGAT')\n",
    "    print('SubClass Relations')\n",
    "    model._eval(min(g_test_filter_subclass.number_of_nodes(),100), '2-Hop GAT', g_test_filter_subclass)\n",
    "    print('Assertion Relations')\n",
    "    model._eval(min(g_test_filter_assertion.number_of_nodes(),100), '2-Hop GAT', g_test_filter_assertion)\n",
    "    print('All Relations')\n",
    "    model._eval(min(g_test.number_of_nodes(),100), '2-Hop GAT', g_test)\n",
    "    print()\n",
    "    \n",
    "    print('-----------------------------------')"
   ]
  }
 ],
 "metadata": {
  "kernelspec": {
   "display_name": "Python 3 (ipykernel)",
   "language": "python",
   "name": "python3"
  },
  "language_info": {
   "codemirror_mode": {
    "name": "ipython",
    "version": 3
   },
   "file_extension": ".py",
   "mimetype": "text/x-python",
   "name": "python",
   "nbconvert_exporter": "python",
   "pygments_lexer": "ipython3",
   "version": "3.8.16"
  }
 },
 "nbformat": 4,
 "nbformat_minor": 5
}
