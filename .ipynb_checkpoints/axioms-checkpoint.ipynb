{
 "cells": [
  {
   "cell_type": "code",
   "execution_count": 16,
   "id": "7043bf3a-074a-41c2-af59-3ddac5bcc283",
   "metadata": {},
   "outputs": [],
   "source": [
    "import pandas as pd\n",
    "import numpy as np\n",
    "import re\n",
    "from src.utils import *"
   ]
  },
  {
   "cell_type": "code",
   "execution_count": 4,
   "id": "e3dc0c3b-f6c6-4638-a19a-3bdad564ef9f",
   "metadata": {},
   "outputs": [],
   "source": [
    "def get_axioms(lines):    \n",
    "    axioms = []\n",
    "    for line in lines:\n",
    "        try:\n",
    "            if re.search(\"^[a-zA-Z]\", line.split('(')[0]) is not None:\n",
    "                axioms.append(line.split('(')[0])\n",
    "        except:\n",
    "            axioms.append(0)\n",
    "    return axioms"
   ]
  },
  {
   "cell_type": "code",
   "execution_count": 5,
   "id": "84bc43b6-0f0b-4310-b2d5-0332f2524655",
   "metadata": {},
   "outputs": [],
   "source": [
    "def print_axioms(axioms):\n",
    "    for axiom in np.unique(axioms):\n",
    "        if axioms.count(axiom) > 1:\n",
    "            print(str(axiom) + ': ' + str(axioms.count(axiom)))"
   ]
  },
  {
   "cell_type": "code",
   "execution_count": 4,
   "id": "f14218fc-adee-4095-96f3-ccd7f62ec9c8",
   "metadata": {},
   "outputs": [],
   "source": [
    "OWL2Bench_owl = [{'path' : './datasets/OWL2Bench/OWL2Bench1/',\n",
    "                  'file' : 'OWL2DL-1.owl'},\n",
    "                 {'path' : './datasets/OWL2Bench/OWL2Bench2/',\n",
    "                  'file' : 'OWL2DL-2.owl'}]"
   ]
  },
  {
   "cell_type": "code",
   "execution_count": 5,
   "id": "c2775bc4-b59f-4d8d-b3c1-1605d7d34d0f",
   "metadata": {},
   "outputs": [
    {
     "name": "stdout",
     "output_type": "stream",
     "text": [
      "###################          OWL2DL-1.owl          ###################\n",
      "Annotation: 3\n",
      "ClassAssertion: 3885\n",
      "DataPropertyAssertion: 18446\n",
      "DataPropertyDomain: 7\n",
      "Declaration: 4020\n",
      "DifferentIndividuals: 4\n",
      "DisjointClasses: 11\n",
      "DisjointUnion: 9\n",
      "EquivalentClasses: 21\n",
      "EquivalentObjectProperties: 4\n",
      "FunctionalDataProperty: 3\n",
      "FunctionalObjectProperty: 2\n",
      "InverseObjectProperties: 22\n",
      "IrreflexiveObjectProperty: 2\n",
      "NegativeObjectPropertyAssertion: 2\n",
      "ObjectPropertyAssertion: 27794\n",
      "ObjectPropertyDomain: 62\n",
      "ObjectPropertyRange: 57\n",
      "Prefix: 10\n",
      "SameIndividual: 2\n",
      "SubClassOf: 122\n",
      "SubDataPropertyOf: 2\n",
      "SubObjectPropertyOf: 63\n",
      "SymmetricObjectProperty: 2\n",
      "TransitiveObjectProperty: 5\n",
      "###################          OWL2DL-2.owl          ###################\n",
      "Annotation: 3\n",
      "ClassAssertion: 7625\n",
      "DataPropertyAssertion: 36363\n",
      "DataPropertyDomain: 7\n",
      "Declaration: 7534\n",
      "DifferentIndividuals: 4\n",
      "DisjointClasses: 11\n",
      "DisjointUnion: 9\n",
      "EquivalentClasses: 21\n",
      "EquivalentObjectProperties: 4\n",
      "FunctionalDataProperty: 3\n",
      "FunctionalObjectProperty: 2\n",
      "InverseObjectProperties: 22\n",
      "IrreflexiveObjectProperty: 2\n",
      "NegativeObjectPropertyAssertion: 2\n",
      "ObjectPropertyAssertion: 55090\n",
      "ObjectPropertyDomain: 62\n",
      "ObjectPropertyRange: 57\n",
      "Prefix: 10\n",
      "SameIndividual: 2\n",
      "SubClassOf: 122\n",
      "SubDataPropertyOf: 2\n",
      "SubObjectPropertyOf: 63\n",
      "SymmetricObjectProperty: 2\n",
      "TransitiveObjectProperty: 5\n"
     ]
    }
   ],
   "source": [
    "for db_ in OWL2Bench_owl:\n",
    "    path = db_['path']\n",
    "    file = db_['file']\n",
    "    print(f'###################          {file}          ###################')\n",
    "\n",
    "    owl_file = open(path+file,'r',newline='\\n')\n",
    "\n",
    "    lines = owl_file.read().split('\\r\\n')\n",
    "\n",
    "    axioms = get_axioms(lines)\n",
    "    print_axioms(axioms)"
   ]
  },
  {
   "cell_type": "code",
   "execution_count": 6,
   "id": "5ef09ad8-c96b-4148-a07a-1db77cc0fa2a",
   "metadata": {},
   "outputs": [],
   "source": [
    "ORE_owl = [{'path' : './datasets/ORE/ORE1/',\n",
    "            'file' : 'ORE1.owl'},\n",
    "           {'path' : './datasets/ORE/ORE2/',\n",
    "            'file' : 'ORE2.owl'},\n",
    "           {'path' : './datasets/ORE/ORE3/',\n",
    "            'file' : 'ORE3.owl'}]"
   ]
  },
  {
   "cell_type": "code",
   "execution_count": 7,
   "id": "591eb34c-534b-48b2-ad34-b26b7b76a7a0",
   "metadata": {},
   "outputs": [
    {
     "name": "stdout",
     "output_type": "stream",
     "text": [
      "###################          ORE1.owl          ###################\n",
      "ClassAssertion: 8675\n",
      "DataPropertyAssertion: 665\n",
      "DataPropertyDomain: 59\n",
      "DataPropertyRange: 69\n",
      "Declaration: 8730\n",
      "DisjointClasses: 113\n",
      "EquivalentClasses: 39\n",
      "FunctionalDataProperty: 3\n",
      "FunctionalObjectProperty: 18\n",
      "InverseObjectProperties: 175\n",
      "ObjectPropertyAssertion: 3240\n",
      "ObjectPropertyDomain: 740\n",
      "ObjectPropertyRange: 691\n",
      "Prefix: 5\n",
      "SubClassOf: 14768\n",
      "SubObjectPropertyOf: 349\n",
      "SymmetricObjectProperty: 24\n",
      "TransitiveObjectProperty: 27\n",
      "###################          ORE2.owl          ###################\n",
      "ClassAssertion: 8684\n",
      "DataPropertyAssertion: 668\n",
      "DataPropertyDomain: 60\n",
      "DataPropertyRange: 70\n",
      "Declaration: 8748\n",
      "DisjointClasses: 113\n",
      "EquivalentClasses: 39\n",
      "FunctionalDataProperty: 3\n",
      "FunctionalObjectProperty: 18\n",
      "InverseObjectProperties: 175\n",
      "ObjectPropertyAssertion: 3244\n",
      "ObjectPropertyDomain: 743\n",
      "ObjectPropertyRange: 693\n",
      "Prefix: 5\n",
      "SubClassOf: 14803\n",
      "SubObjectPropertyOf: 350\n",
      "SymmetricObjectProperty: 24\n",
      "TransitiveObjectProperty: 27\n",
      "###################          ORE3.owl          ###################\n",
      "ClassAssertion: 8661\n",
      "DataPropertyAssertion: 665\n",
      "DataPropertyDomain: 59\n",
      "DataPropertyRange: 69\n",
      "Declaration: 8722\n",
      "DisjointClasses: 113\n",
      "EquivalentClasses: 39\n",
      "FunctionalDataProperty: 3\n",
      "FunctionalObjectProperty: 18\n",
      "InverseObjectProperties: 175\n",
      "ObjectPropertyAssertion: 3225\n",
      "ObjectPropertyDomain: 740\n",
      "ObjectPropertyRange: 691\n",
      "Prefix: 5\n",
      "SubClassOf: 14749\n",
      "SubObjectPropertyOf: 349\n",
      "SymmetricObjectProperty: 24\n",
      "TransitiveObjectProperty: 27\n"
     ]
    }
   ],
   "source": [
    "for db_ in ORE_owl:\n",
    "    path = db_['path']\n",
    "    file = db_['file']\n",
    "    print(f'###################          {file}          ###################')\n",
    "\n",
    "    owl_file = open(path+file,'r',newline='\\n')\n",
    "\n",
    "    lines = owl_file.read().split('\\r\\n')\n",
    "\n",
    "    axioms = get_axioms(lines)\n",
    "    print_axioms(axioms)"
   ]
  },
  {
   "cell_type": "raw",
   "id": "566d38d7-d418-4fdf-a628-ed4bdf6a4ce8",
   "metadata": {},
   "source": [
    "CaLiGraph_owl = [{'path' : './datasets/clg/clg_10e4/',\n",
    "                  'file' : 'clg_10e4.nt'},\n",
    "                 {'path' : './datasets/clg/clg_10e5/',\n",
    "                  'file' : 'clg_10e5.nt'}]"
   ]
  },
  {
   "cell_type": "raw",
   "id": "44584a5c-7ae4-47d7-ada1-5fefea042eca",
   "metadata": {},
   "source": [
    "for db_ in CaLiGraph_owl:\n",
    "    path = db_['path']\n",
    "    file = db_['file']\n",
    "    print(f'###################          {file}          ###################')\n",
    "\n",
    "    owl_file = open(path+file,'r',newline='\\n')\n",
    "\n",
    "    lines = owl_file.read().split(' .')\n",
    "\n",
    "    axioms = []\n",
    "    for line in lines: \n",
    "        try: \n",
    "            axiom = re.findall(r'(?<=\\<http://www.w3.org/2002/07/owl#).+',line)[0]\n",
    "            axiom = axiom.replace('>','')\n",
    "            axioms.append(axiom)\n",
    "        except:\n",
    "            axioms.append(0)\n",
    "    print_axioms(axioms)\n",
    "    break"
   ]
  }
 ],
 "metadata": {
  "kernelspec": {
   "display_name": "Python 3 (ipykernel)",
   "language": "python",
   "name": "python3"
  },
  "language_info": {
   "codemirror_mode": {
    "name": "ipython",
    "version": 3
   },
   "file_extension": ".py",
   "mimetype": "text/x-python",
   "name": "python",
   "nbconvert_exporter": "python",
   "pygments_lexer": "ipython3",
   "version": "3.8.16"
  }
 },
 "nbformat": 4,
 "nbformat_minor": 5
}
