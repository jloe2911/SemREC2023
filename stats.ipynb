{
 "cells": [
  {
   "cell_type": "code",
   "execution_count": 18,
   "id": "49671ab7-7c58-4ada-b737-f2e0d8cb63c5",
   "metadata": {},
   "outputs": [],
   "source": [
    "import pandas as pd\n",
    "import numpy as np\n",
    "\n",
    "from src.utils import *\n",
    "from src.gnn import *"
   ]
  },
  {
   "cell_type": "code",
   "execution_count": 19,
   "id": "b306a515-0b0b-4382-9210-5cce6b775b1d",
   "metadata": {},
   "outputs": [],
   "source": [
    "OWL2Bench_dbs = [{'path' : './datasets/OWL2Bench/OWL2Bench1/',\n",
    "                  'train_file' : '_train_OWL2Bench1',\n",
    "                  'test_file' : '_test_OWL2Bench1'},\n",
    "                 {'path' : './datasets/OWL2Bench/OWL2Bench2/',\n",
    "                  'train_file' : '_train_OWL2Bench2',\n",
    "                  'test_file' : '_test_OWL2Bench2'}]"
   ]
  },
  {
   "cell_type": "code",
   "execution_count": 20,
   "id": "f726a654-8875-4cc3-a6d8-15a440a9127f",
   "metadata": {},
   "outputs": [
    {
     "name": "stdout",
     "output_type": "stream",
     "text": [
      "Running... _train_OWL2Bench1 _test_OWL2Bench1\n",
      "Train -> # Triplets: 8096, # Assertion Triplets: 7989, # Subclass Triplets: 105, # Other Triplets: 2\n",
      "Test -> # Triplets: 2315, # Assertion Triplets: 2283, # Subclass Triplets: 30, # Other Triplets: 2\n",
      "\n",
      "Running... _train_OWL2Bench2 _test_OWL2Bench2\n",
      "Train -> # Triplets: 15633, # Assertion Triplets: 15526, # Subclass Triplets: 105, # Other Triplets: 2\n",
      "Test -> # Triplets: 4469, # Assertion Triplets: 4437, # Subclass Triplets: 30, # Other Triplets: 2\n",
      "\n"
     ]
    }
   ],
   "source": [
    "for db_ in OWL2Bench_dbs:    \n",
    "    path = db_['path']\n",
    "    train_file = db_['train_file']\n",
    "    test_file = db_['test_file']\n",
    "\n",
    "    print('Running...', train_file, test_file)\n",
    "\n",
    "    df_train = load_ore_files(path+train_file)\n",
    "    class_assertion = df_train[df_train['p'] == 'ClassAssertion']\n",
    "    class_subsumption = df_train[df_train['p'] == 'SubClassOf']\n",
    "    print(f'Train -> # Triplets: {len(df_train)}, # Assertion Triplets: {len(class_assertion)}, # Subclass Triplets: {len(class_subsumption)}, # Other Triplets: {len(df_train)-len(class_assertion)-len(class_subsumption)}')\n",
    "    df_test = load_ore_files(path+test_file)\n",
    "    class_assertion = df_test[df_test['p'] == 'ClassAssertion']\n",
    "    class_subsumption = df_test[df_test['p'] == 'SubClassOf']\n",
    "    print(f'Test -> # Triplets: {len(df_test)}, # Assertion Triplets: {len(class_assertion)}, # Subclass Triplets: {len(class_subsumption)}, # Other Triplets: {len(df_test)-len(class_assertion)-len(class_subsumption)}')\n",
    "    print()"
   ]
  },
  {
   "cell_type": "code",
   "execution_count": 21,
   "id": "dd982dd9-6e92-45f8-9d18-6069e5008c67",
   "metadata": {},
   "outputs": [],
   "source": [
    "ORE_dbs = [{'path' : './datasets/ORE/ORE1/',\n",
    "            'train_file' : '_train_ORE1',\n",
    "            'test_file' : '_test_ORE1'},\n",
    "           {'path' : './datasets/ORE/ORE2/',\n",
    "            'train_file' : '_train_ORE2',\n",
    "            'test_file' : '_test_ORE2'},\n",
    "           {'path' : './datasets/ORE/ORE3/',\n",
    "            'train_file' : '_train_ORE3',\n",
    "            'test_file' : '_test_ORE3'}]"
   ]
  },
  {
   "cell_type": "code",
   "execution_count": 22,
   "id": "2de10582-1c44-423c-b6e8-779d8d1cfc59",
   "metadata": {},
   "outputs": [
    {
     "name": "stdout",
     "output_type": "stream",
     "text": [
      "Running... _train_ORE1 _test_ORE1\n",
      "Train -> # Triplets: 61245, # Assertion Triplets: 53048, # Subclass Triplets: 8194, # Other Triplets: 3\n",
      "Test -> # Triplets: 17501, # Assertion Triplets: 15157, # Subclass Triplets: 2342, # Other Triplets: 2\n",
      "\n",
      "Running... _train_ORE2 _test_ORE2\n",
      "Train -> # Triplets: 61289, # Assertion Triplets: 53081, # Subclass Triplets: 8204, # Other Triplets: 4\n",
      "Test -> # Triplets: 17512, # Assertion Triplets: 15166, # Subclass Triplets: 2344, # Other Triplets: 2\n",
      "\n",
      "Running... _train_ORE3 _test_ORE3\n",
      "Train -> # Triplets: 61204, # Assertion Triplets: 53014, # Subclass Triplets: 8187, # Other Triplets: 3\n",
      "Test -> # Triplets: 17490, # Assertion Triplets: 15148, # Subclass Triplets: 2340, # Other Triplets: 2\n",
      "\n"
     ]
    }
   ],
   "source": [
    "for db_ in ORE_dbs:    \n",
    "    path = db_['path']\n",
    "    train_file = db_['train_file']\n",
    "    test_file = db_['test_file']\n",
    "\n",
    "    print('Running...', train_file, test_file)\n",
    "\n",
    "    df_train = load_ore_files(path+train_file)\n",
    "    class_assertion = df_train[df_train['p'] == 'ClassAssertion']\n",
    "    class_subsumption = df_train[df_train['p'] == 'SubClassOf']\n",
    "    print(f'Train -> # Triplets: {len(df_train)}, # Assertion Triplets: {len(class_assertion)}, # Subclass Triplets: {len(class_subsumption)}, # Other Triplets: {len(df_train)-len(class_assertion)-len(class_subsumption)}')\n",
    "    df_test = load_ore_files(path+test_file)\n",
    "    class_assertion = df_test[df_test['p'] == 'ClassAssertion']\n",
    "    class_subsumption = df_test[df_test['p'] == 'SubClassOf']\n",
    "    print(f'Test -> # Triplets: {len(df_test)}, # Assertion Triplets: {len(class_assertion)}, # Subclass Triplets: {len(class_subsumption)}, # Other Triplets: {len(df_test)-len(class_assertion)-len(class_subsumption)}')\n",
    "    print()"
   ]
  },
  {
   "cell_type": "code",
   "execution_count": 23,
   "id": "3abdb8d7-08fa-4944-9d21-5d6272be7446",
   "metadata": {},
   "outputs": [],
   "source": [
    "CLG_dbs = [{'path' : './datasets/clg/clg_10e4/',\n",
    "            'train_file' : 'clg_10e4-train.nt',\n",
    "            'test_file' : 'clg_10e4-test.nt'},\n",
    "           {'path' : './datasets/clg/clg_10e5/',\n",
    "            'train_file' : 'clg_10e5-train.nt',\n",
    "            'test_file' : 'clg_10e5-test.nt'}]"
   ]
  },
  {
   "cell_type": "code",
   "execution_count": 24,
   "id": "e5041dd6-2ea7-4edb-850f-fc6b878a741a",
   "metadata": {},
   "outputs": [
    {
     "name": "stdout",
     "output_type": "stream",
     "text": [
      "Running... clg_10e4-train.nt clg_10e4-test.nt\n",
      "Train -> # Triplets: 127801, # Assertion Triplets: 51577, # Subclass Triplets: 59956, # Other Triplets: 16268\n",
      "Test -> # Triplets: 36519, # Assertion Triplets: 14738, # Subclass Triplets: 17132, # Other Triplets: 4649\n",
      "\n",
      "Running... clg_10e5-train.nt clg_10e5-test.nt\n",
      "Train -> # Triplets: 265139, # Assertion Triplets: 29973, # Subclass Triplets: 96273, # Other Triplets: 138893\n",
      "Test -> # Triplets: 75757, # Assertion Triplets: 8565, # Subclass Triplets: 27508, # Other Triplets: 39684\n",
      "\n"
     ]
    }
   ],
   "source": [
    "for db_ in CLG_dbs:    \n",
    "    path = db_['path']\n",
    "    train_file = db_['train_file']\n",
    "    test_file = db_['test_file']\n",
    "\n",
    "    print('Running...', train_file, test_file)\n",
    "\n",
    "    df_train = load_clg_files(path+train_file)\n",
    "    class_assertion = df_train[df_train['p'] == '<http://www.w3.org/1999/02/22-rdf-syntax-ns#type>']\n",
    "    class_subsumption = df_train[df_train['p'] == '<http://www.w3.org/2000/01/rdf-schema#subClassOf>']\n",
    "    print(f'Train -> # Triplets: {len(df_train)}, # Assertion Triplets: {len(class_assertion)}, # Subclass Triplets: {len(class_subsumption)}, # Other Triplets: {len(df_train)-len(class_assertion)-len(class_subsumption)}')\n",
    "    df_test = load_clg_files(path+test_file)\n",
    "    class_assertion = df_test[df_test['p'] == '<http://www.w3.org/1999/02/22-rdf-syntax-ns#type>']\n",
    "    class_subsumption = df_test[df_test['p'] == '<http://www.w3.org/2000/01/rdf-schema#subClassOf>']\n",
    "    print(f'Test -> # Triplets: {len(df_test)}, # Assertion Triplets: {len(class_assertion)}, # Subclass Triplets: {len(class_subsumption)}, # Other Triplets: {len(df_test)-len(class_assertion)-len(class_subsumption)}')\n",
    "    print()"
   ]
  }
 ],
 "metadata": {
  "kernelspec": {
   "display_name": "Python 3 (ipykernel)",
   "language": "python",
   "name": "python3"
  },
  "language_info": {
   "codemirror_mode": {
    "name": "ipython",
    "version": 3
   },
   "file_extension": ".py",
   "mimetype": "text/x-python",
   "name": "python",
   "nbconvert_exporter": "python",
   "pygments_lexer": "ipython3",
   "version": "3.8.16"
  }
 },
 "nbformat": 4,
 "nbformat_minor": 5
}
