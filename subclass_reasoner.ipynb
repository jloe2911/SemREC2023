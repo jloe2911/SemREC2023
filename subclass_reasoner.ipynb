{
 "cells": [
  {
   "cell_type": "markdown",
   "id": "d396f43a-efe3-4c77-969b-1a6675bcea4b",
   "metadata": {},
   "source": [
    "# Librairies"
   ]
  },
  {
   "cell_type": "code",
   "execution_count": 1,
   "id": "3e8a0205-8152-49ea-bdea-777c3ad00dec",
   "metadata": {},
   "outputs": [],
   "source": [
    "import pandas as pd\n",
    "import numpy as np\n",
    "import operator\n",
    "import gzip\n",
    "import networkx as nx\n",
    "import time\n",
    "import random\n",
    "random.seed(10)\n",
    "\n",
    "import torch\n",
    "import torch.nn as nn\n",
    "from torch.nn import Linear\n",
    "import torch.nn.functional as F\n",
    "\n",
    "import torch_geometric\n",
    "from torch_geometric.data import HeteroData\n",
    "import torch_geometric.transforms as T\n",
    "from torch_geometric.nn import GCNConv, SAGEConv, GATConv, Linear, to_hetero\n",
    "\n",
    "from sklearn.metrics import precision_score, recall_score, f1_score\n",
    "\n",
    "from src.utils import *\n",
    "from src.gnn import *"
   ]
  },
  {
   "cell_type": "code",
   "execution_count": 2,
   "id": "5852b065-1f57-40bb-a903-eb84554f6665",
   "metadata": {},
   "outputs": [
    {
     "name": "stdout",
     "output_type": "stream",
     "text": [
      "2.0.1+cu118\n"
     ]
    }
   ],
   "source": [
    "print(torch.__version__)"
   ]
  },
  {
   "cell_type": "code",
   "execution_count": 3,
   "id": "f4f91937-8454-45e6-9090-71bf266ef8fc",
   "metadata": {},
   "outputs": [
    {
     "name": "stdout",
     "output_type": "stream",
     "text": [
      "2.4.0\n"
     ]
    }
   ],
   "source": [
    "print(torch_geometric.__version__)"
   ]
  },
  {
   "cell_type": "code",
   "execution_count": 4,
   "id": "dbc1a552-2cc8-4005-baea-d6119768407e",
   "metadata": {},
   "outputs": [
    {
     "name": "stdout",
     "output_type": "stream",
     "text": [
      "cuda\n"
     ]
    }
   ],
   "source": [
    "device = torch.device('cuda' if torch.cuda.is_available() else 'cpu')\n",
    "print(device)"
   ]
  },
  {
   "cell_type": "markdown",
   "id": "43b6d603-ea2a-4c42-b953-bffc509d0a3e",
   "metadata": {
    "tags": []
   },
   "source": [
    "# OWL2Bench"
   ]
  },
  {
   "cell_type": "code",
   "execution_count": 5,
   "id": "9da76671-c06a-47da-b36c-8fecd439ed1a",
   "metadata": {},
   "outputs": [],
   "source": [
    "OWL2Bench_dbs = [{'path' : './datasets/OWL2Bench/OWL2Bench1/',\n",
    "                  'train_file' : '_train_OWL2Bench1',\n",
    "                  'test_file' : '_test_OWL2Bench1'},\n",
    "                 {'path' : './datasets/OWL2Bench/OWL2Bench2/',\n",
    "                  'train_file' : '_train_OWL2Bench2',\n",
    "                  'test_file' : '_test_OWL2Bench2'}]"
   ]
  },
  {
   "cell_type": "code",
   "execution_count": 6,
   "id": "a095d142-9c2f-4abd-a43e-087cc9b04dae",
   "metadata": {},
   "outputs": [
    {
     "name": "stdout",
     "output_type": "stream",
     "text": [
      "Running... _train_OWL2Bench1 _test_OWL2Bench1\n",
      "# Train - Triplets: 105, # Nodes/Classes: 113, # Edges: 105\n",
      "# Test - Triplets: 30, # Nodes/Classes: 45, # Edges: 30\n",
      "\n",
      "GAT:\n",
      "Epoch: 0, Loss: 0.3927\n",
      "Epoch: 400, Loss: 0.0604\n",
      "Epoch: 800, Loss: 0.0450\n",
      "head, relation -> tail?\n",
      "hits@1: 0.133, hits@10: 0.267\n",
      "-------------------------------------------\n",
      "Run time: 8 seconds, 0 minutes\n",
      "\n",
      "GAT_2hops:\n",
      "Epoch: 0, Loss: 0.4211\n",
      "Epoch: 400, Loss: 0.1903\n",
      "Epoch: 800, Loss: 0.1565\n",
      "head, relation -> tail?\n",
      "hits@1: 0.133, hits@10: 0.267\n",
      "-------------------------------------------\n",
      "Run time: 8 seconds, 0 minutes\n",
      "\n",
      "Running... _train_OWL2Bench2 _test_OWL2Bench2\n",
      "# Train - Triplets: 105, # Nodes/Classes: 115, # Edges: 105\n",
      "# Test - Triplets: 30, # Nodes/Classes: 43, # Edges: 30\n",
      "\n",
      "GAT:\n",
      "Epoch: 0, Loss: 0.3822\n",
      "Epoch: 400, Loss: 0.0621\n",
      "Epoch: 800, Loss: 0.0337\n",
      "head, relation -> tail?\n",
      "hits@1: 0.200, hits@10: 0.400\n",
      "-------------------------------------------\n",
      "Run time: 5 seconds, 0 minutes\n",
      "\n",
      "GAT_2hops:\n",
      "Epoch: 0, Loss: 0.4263\n",
      "Epoch: 400, Loss: 0.2092\n",
      "Epoch: 800, Loss: 0.2114\n",
      "head, relation -> tail?\n",
      "hits@1: 0.033, hits@10: 0.367\n",
      "-------------------------------------------\n",
      "Run time: 7 seconds, 0 minutes\n",
      "\n"
     ]
    }
   ],
   "source": [
    "for db_ in OWL2Bench_dbs:    \n",
    "    path = db_['path']\n",
    "    train_file = db_['train_file']\n",
    "    test_file = db_['test_file']\n",
    "\n",
    "    print('Running...', train_file, test_file)\n",
    "\n",
    "    df_train = load_ore_files(path+train_file)\n",
    "    df_train = df_train[df_train['p'] == 'SubClassOf']\n",
    "    g_train, nodes_train, edges_train = create_graph(df_train)\n",
    "    print(f'# Train - Triplets: {len(df_train)}, # Nodes/Classes: {g_train.number_of_nodes()}, # Edges: {g_train.number_of_edges()}')\n",
    "    df_test = load_ore_files(path+test_file)\n",
    "    df_test = df_test[df_test['p'] == 'SubClassOf']\n",
    "    g_test, nodes_test, edges_test = create_graph(df_test)\n",
    "    print(f'# Test - Triplets: {len(df_test)}, # Nodes/Classes: {g_test.number_of_nodes()}, # Edges: {g_test.number_of_edges()}')\n",
    "    print()\n",
    "    \n",
    "    st = time.time()\n",
    "    model = GNN()\n",
    "    model._train(device, 'GAT', g_train)\n",
    "    model._eval(min(g_test.number_of_nodes(),100), 'GAT', g_test)\n",
    "    et = time.time()\n",
    "    elapsed_time = et - st\n",
    "    print(f'Run time: {elapsed_time:.0f} seconds, {elapsed_time/60:.0f} minutes')\n",
    "    print()\n",
    "\n",
    "    st = time.time()\n",
    "    model = GNN()\n",
    "    model._train(device, 'GAT_2hops', g_train)\n",
    "    model._eval(min(g_test.number_of_nodes(),100), 'GAT_2hops', g_test)\n",
    "    et = time.time()\n",
    "    elapsed_time = et - st\n",
    "    print(f'Run time: {elapsed_time:.0f} seconds, {elapsed_time/60:.0f} minutes')\n",
    "    print()"
   ]
  },
  {
   "cell_type": "markdown",
   "id": "f3a0c1de-cb40-4bc5-a7fd-68fa1f51244f",
   "metadata": {
    "tags": []
   },
   "source": [
    "# ORE"
   ]
  },
  {
   "cell_type": "code",
   "execution_count": 7,
   "id": "1ab8ad86-ca50-4c24-8337-83b8c87c9b7c",
   "metadata": {},
   "outputs": [],
   "source": [
    "ORE_dbs = [{'path' : './datasets/ORE/ORE1/',\n",
    "            'train_file' : '_train_ORE1',\n",
    "            'test_file' : '_test_ORE1'},\n",
    "           {'path' : './datasets/ORE/ORE2/',\n",
    "            'train_file' : '_train_ORE2',\n",
    "            'test_file' : '_test_ORE2'},\n",
    "           {'path' : './datasets/ORE/ORE3/',\n",
    "            'train_file' : '_train_ORE3',\n",
    "            'test_file' : '_test_ORE3'}]"
   ]
  },
  {
   "cell_type": "code",
   "execution_count": 8,
   "id": "a0613db2-ccf6-4bb1-b306-534201a97593",
   "metadata": {},
   "outputs": [
    {
     "name": "stdout",
     "output_type": "stream",
     "text": [
      "Running... _train_ORE1 _test_ORE1\n",
      "# Train - Triplets: 8194, # Nodes/Classes: 6654, # Edges: 8194\n",
      "# Test - Triplets: 2342, # Nodes/Classes: 3052, # Edges: 2342\n",
      "\n",
      "GAT:\n",
      "Epoch: 0, Loss: 0.3249\n",
      "Epoch: 400, Loss: 0.2091\n",
      "Epoch: 800, Loss: 0.2064\n",
      "head, relation -> tail?\n",
      "hits@1: 0.018, hits@10: 0.089\n",
      "-------------------------------------------\n",
      "Run time: 89 seconds, 1 minutes\n",
      "\n",
      "GAT_2hops:\n",
      "Epoch: 0, Loss: 0.3891\n",
      "Epoch: 400, Loss: 0.3305\n",
      "Epoch: 800, Loss: 0.2435\n",
      "head, relation -> tail?\n",
      "hits@1: 0.030, hits@10: 0.115\n",
      "-------------------------------------------\n",
      "Run time: 93 seconds, 2 minutes\n",
      "\n",
      "Running... _train_ORE2 _test_ORE2\n",
      "# Train - Triplets: 8204, # Nodes/Classes: 6650, # Edges: 8204\n",
      "# Test - Triplets: 2344, # Nodes/Classes: 3102, # Edges: 2344\n",
      "\n",
      "GAT:\n",
      "Epoch: 0, Loss: 0.3074\n",
      "Epoch: 400, Loss: 0.2127\n",
      "Epoch: 800, Loss: 0.2082\n",
      "head, relation -> tail?\n",
      "hits@1: 0.003, hits@10: 0.029\n",
      "-------------------------------------------\n",
      "Run time: 89 seconds, 1 minutes\n",
      "\n",
      "GAT_2hops:\n",
      "Epoch: 0, Loss: 0.3920\n",
      "Epoch: 400, Loss: 0.2430\n",
      "Epoch: 800, Loss: 0.2218\n",
      "head, relation -> tail?\n",
      "hits@1: 0.080, hits@10: 0.227\n",
      "-------------------------------------------\n",
      "Run time: 94 seconds, 2 minutes\n",
      "\n",
      "Running... _train_ORE3 _test_ORE3\n",
      "# Train - Triplets: 8187, # Nodes/Classes: 6673, # Edges: 8187\n",
      "# Test - Triplets: 2340, # Nodes/Classes: 3045, # Edges: 2340\n",
      "\n",
      "GAT:\n",
      "Epoch: 0, Loss: 0.3195\n",
      "Epoch: 400, Loss: 0.2122\n",
      "Epoch: 800, Loss: 0.2085\n",
      "head, relation -> tail?\n",
      "hits@1: 0.017, hits@10: 0.097\n",
      "-------------------------------------------\n",
      "Run time: 90 seconds, 1 minutes\n",
      "\n",
      "GAT_2hops:\n",
      "Epoch: 0, Loss: 0.3882\n",
      "Epoch: 400, Loss: 0.2227\n",
      "Epoch: 800, Loss: 0.2280\n",
      "head, relation -> tail?\n",
      "hits@1: 0.072, hits@10: 0.222\n",
      "-------------------------------------------\n",
      "Run time: 94 seconds, 2 minutes\n",
      "\n"
     ]
    }
   ],
   "source": [
    "for db_ in ORE_dbs:    \n",
    "    path = db_['path']\n",
    "    train_file = db_['train_file']\n",
    "    test_file = db_['test_file']\n",
    "\n",
    "    print('Running...', train_file, test_file)\n",
    "\n",
    "    df_train = load_ore_files(path+train_file)\n",
    "    df_train = df_train[df_train['p'] == 'SubClassOf']\n",
    "    g_train, nodes_train, edges_train = create_graph(df_train)\n",
    "    print(f'# Train - Triplets: {len(df_train)}, # Nodes/Classes: {g_train.number_of_nodes()}, # Edges: {g_train.number_of_edges()}')\n",
    "    df_test = load_ore_files(path+test_file)\n",
    "    df_test = df_test[df_test['p'] == 'SubClassOf']\n",
    "    g_test, nodes_test, edges_test = create_graph(df_test)\n",
    "    print(f'# Test - Triplets: {len(df_test)}, # Nodes/Classes: {g_test.number_of_nodes()}, # Edges: {g_test.number_of_edges()}')\n",
    "    print()\n",
    "    \n",
    "    st = time.time()\n",
    "    model = GNN()\n",
    "    model._train(device, 'GAT', g_train)\n",
    "    model._eval(min(g_test.number_of_nodes(),100), 'GAT', g_test)\n",
    "    et = time.time()\n",
    "    elapsed_time = et - st\n",
    "    print(f'Run time: {elapsed_time:.0f} seconds, {elapsed_time/60:.0f} minutes')\n",
    "    print()\n",
    "\n",
    "    st = time.time()\n",
    "    model = GNN()\n",
    "    model._train(device, 'GAT_2hops', g_train)\n",
    "    model._eval(min(g_test.number_of_nodes(),100), 'GAT_2hops', g_test)\n",
    "    et = time.time()\n",
    "    elapsed_time = et - st\n",
    "    print(f'Run time: {elapsed_time:.0f} seconds, {elapsed_time/60:.0f} minutes')\n",
    "    print()"
   ]
  },
  {
   "cell_type": "markdown",
   "id": "c0dfa1d4-968b-4dd1-bb64-280b2186a08e",
   "metadata": {
    "tags": []
   },
   "source": [
    "# CaLiGraph"
   ]
  },
  {
   "cell_type": "code",
   "execution_count": 9,
   "id": "5aa62032-1cb6-48d4-8fdf-e62cceece823",
   "metadata": {},
   "outputs": [],
   "source": [
    "CLG_dbs = [{'path' : './datasets/clg/clg_10e4/',\n",
    "            'train_file' : 'clg_10e4-train.nt',\n",
    "            'test_file' : 'clg_10e4-test.nt',\n",
    "            'file' : 'clg_10e4'},\n",
    "           {'path' : './datasets/clg/clg_10e5/',\n",
    "            'train_file' : 'clg_10e5-train.nt',\n",
    "            'test_file' : 'clg_10e5-test.nt',\n",
    "            'file' : 'clg_10e5'}]"
   ]
  },
  {
   "cell_type": "code",
   "execution_count": 10,
   "id": "b2805236-75e1-46dd-b6b0-d16d88b901b3",
   "metadata": {},
   "outputs": [
    {
     "name": "stdout",
     "output_type": "stream",
     "text": [
      "Running... clg_10e4-train.nt clg_10e4-test.nt\n",
      "# Train - Triplets: 59956, # Nodes/Classes: 10311, # Edges: 59956\n",
      "# Test - Triplets: 17132, # Nodes/Classes: 7866, # Edges: 17132\n",
      "\n",
      "GAT:\n",
      "Epoch: 0, Loss: 0.3406\n",
      "Epoch: 400, Loss: 0.1603\n",
      "Epoch: 800, Loss: 0.1599\n",
      "head, relation -> tail?\n",
      "hits@1: 0.020, hits@10: 0.202\n",
      "-------------------------------------------\n",
      "Run time: 675 seconds, 11 minutes\n",
      "\n",
      "GAT_2hops:\n",
      "Epoch: 0, Loss: 0.2158\n",
      "Epoch: 400, Loss: 0.1809\n",
      "Epoch: 800, Loss: 0.1829\n",
      "head, relation -> tail?\n",
      "hits@1: 0.538, hits@10: 0.705\n",
      "-------------------------------------------\n",
      "Run time: 670 seconds, 11 minutes\n",
      "\n",
      "Running... clg_10e5-train.nt clg_10e5-test.nt\n",
      "# Train - Triplets: 96273, # Nodes/Classes: 75195, # Edges: 96273\n",
      "# Test - Triplets: 27508, # Nodes/Classes: 26675, # Edges: 27508\n",
      "\n",
      "GAT:\n",
      "Epoch: 0, Loss: 0.3334\n",
      "Epoch: 400, Loss: 0.1158\n",
      "Epoch: 800, Loss: 0.1010\n",
      "head, relation -> tail?\n",
      "hits@1: 0.239, hits@10: 0.244\n",
      "-------------------------------------------\n",
      "Run time: 1399 seconds, 23 minutes\n",
      "\n",
      "GAT_2hops:\n",
      "Epoch: 0, Loss: 0.3406\n",
      "Epoch: 400, Loss: 0.1415\n",
      "Epoch: 800, Loss: 0.1402\n",
      "head, relation -> tail?\n",
      "hits@1: 0.202, hits@10: 0.428\n",
      "-------------------------------------------\n",
      "Run time: 1414 seconds, 24 minutes\n",
      "\n"
     ]
    }
   ],
   "source": [
    "for db_ in CLG_dbs:\n",
    "    path = db_['path']\n",
    "    train_file = db_['train_file']\n",
    "    test_file = db_['test_file']\n",
    "    file = db_['file']\n",
    "\n",
    "    print('Running...', train_file, test_file)\n",
    "\n",
    "    df_train = load_clg_files(path+train_file)\n",
    "    df_train = df_train[df_train['p'] == '<http://www.w3.org/2000/01/rdf-schema#subClassOf>']\n",
    "    g_train, nodes_train, edges_train = create_graph(df_train)\n",
    "    print(f'# Train - Triplets: {len(df_train)}, # Nodes/Classes: {g_train.number_of_nodes()}, # Edges: {g_train.number_of_edges()}')\n",
    "    df_test = load_clg_files(path+test_file)\n",
    "    df_test = df_test[df_test['p'] == '<http://www.w3.org/2000/01/rdf-schema#subClassOf>']\n",
    "    g_test, nodes_test, edges_test = create_graph(df_test)\n",
    "    print(f'# Test - Triplets: {len(df_test)}, # Nodes/Classes: {g_test.number_of_nodes()}, # Edges: {g_test.number_of_edges()}')\n",
    "    print()\n",
    "    \n",
    "    st = time.time()\n",
    "    model = GNN()\n",
    "    model._train(device, 'GAT', g_train)\n",
    "    model._eval(min(g_test.number_of_nodes(),100), 'GAT', g_test)\n",
    "    et = time.time()\n",
    "    elapsed_time = et - st\n",
    "    print(f'Run time: {elapsed_time:.0f} seconds, {elapsed_time/60:.0f} minutes')\n",
    "    print()\n",
    "    #torch.save(model, f'Models/subclass_reasoner/{file}_GAT')\n",
    "\n",
    "    st = time.time()\n",
    "    model = GNN()\n",
    "    model._train(device, 'GAT_2hops', g_train)\n",
    "    model._eval(min(g_test.number_of_nodes(),100), 'GAT_2hops', g_test)\n",
    "    et = time.time()\n",
    "    elapsed_time = et - st\n",
    "    print(f'Run time: {elapsed_time:.0f} seconds, {elapsed_time/60:.0f} minutes')\n",
    "    print()\n",
    "    #torch.save(model, f'Models/subclass_reasoner/{file}_TransGAT')"
   ]
  }
 ],
 "metadata": {
  "kernelspec": {
   "display_name": "Python 3 (ipykernel)",
   "language": "python",
   "name": "python3"
  },
  "language_info": {
   "codemirror_mode": {
    "name": "ipython",
    "version": 3
   },
   "file_extension": ".py",
   "mimetype": "text/x-python",
   "name": "python",
   "nbconvert_exporter": "python",
   "pygments_lexer": "ipython3",
   "version": "3.8.16"
  }
 },
 "nbformat": 4,
 "nbformat_minor": 5
}
