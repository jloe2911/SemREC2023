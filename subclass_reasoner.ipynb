{
 "cells": [
  {
   "cell_type": "markdown",
   "id": "d396f43a-efe3-4c77-969b-1a6675bcea4b",
   "metadata": {},
   "source": [
    "# Librairies"
   ]
  },
  {
   "cell_type": "code",
   "execution_count": 1,
   "id": "3e8a0205-8152-49ea-bdea-777c3ad00dec",
   "metadata": {},
   "outputs": [],
   "source": [
    "import pandas as pd\n",
    "import numpy as np\n",
    "import gzip\n",
    "import networkx as nx\n",
    "import random\n",
    "random.seed(10)\n",
    "\n",
    "import torch\n",
    "import torch.nn as nn\n",
    "from torch.nn import Linear\n",
    "import torch.nn.functional as F\n",
    "\n",
    "import torch_geometric\n",
    "from torch_geometric.data import HeteroData\n",
    "import torch_geometric.transforms as T\n",
    "from torch_geometric.nn import GCNConv, SAGEConv, GATConv, Linear, to_hetero\n",
    "\n",
    "from sklearn.metrics import precision_score, recall_score, f1_score\n",
    "\n",
    "from src.utils import *\n",
    "from src.gnn import *"
   ]
  },
  {
   "cell_type": "code",
   "execution_count": 2,
   "id": "5852b065-1f57-40bb-a903-eb84554f6665",
   "metadata": {},
   "outputs": [
    {
     "name": "stdout",
     "output_type": "stream",
     "text": [
      "1.13.1\n"
     ]
    }
   ],
   "source": [
    "print(torch.__version__)"
   ]
  },
  {
   "cell_type": "code",
   "execution_count": 3,
   "id": "f4f91937-8454-45e6-9090-71bf266ef8fc",
   "metadata": {},
   "outputs": [
    {
     "name": "stdout",
     "output_type": "stream",
     "text": [
      "2.4.0\n"
     ]
    }
   ],
   "source": [
    "print(torch_geometric.__version__)"
   ]
  },
  {
   "cell_type": "markdown",
   "id": "f3a0c1de-cb40-4bc5-a7fd-68fa1f51244f",
   "metadata": {},
   "source": [
    "# ORE"
   ]
  },
  {
   "cell_type": "code",
   "execution_count": 4,
   "id": "1ab8ad86-ca50-4c24-8337-83b8c87c9b7c",
   "metadata": {},
   "outputs": [],
   "source": [
    "ORE_dbs = [{'path' : './datasets/ORE/ORE1/',\n",
    "            'train_file' : '_train_ORE1',\n",
    "            'test_file' : '_test_ORE1'},\n",
    "           {'path' : './datasets/ORE/ORE2/',\n",
    "            'train_file' : '_train_ORE2',\n",
    "            'test_file' : '_test_ORE2'},\n",
    "           {'path' : './datasets/ORE/ORE3/',\n",
    "            'train_file' : '_train_ORE3',\n",
    "            'test_file' : '_test_ORE3'}]"
   ]
  },
  {
   "cell_type": "code",
   "execution_count": 5,
   "id": "a0613db2-ccf6-4bb1-b306-534201a97593",
   "metadata": {},
   "outputs": [
    {
     "name": "stdout",
     "output_type": "stream",
     "text": [
      "Running... _train_ORE1 _test_ORE1\n",
      "# Train - Triplets: 8194, # Nodes: 6654, # Edges: 8194\n",
      "# Test - Triplets: 2342, # Nodes: 3052, # Edges: 2342\n",
      "\n",
      "GraphSAGE:\n",
      "Epoch: 0, Loss: 15.8869\n",
      "Epoch: 50, Loss: 0.2226\n",
      "Epoch: 100, Loss: 0.2173\n",
      "Epoch: 150, Loss: 0.2129\n",
      "Epoch: 200, Loss: 0.2115\n",
      "Precision: 0.6715\n",
      "Recall: 0.8083\n",
      "F1-Score: 0.7336\n",
      "\n",
      "GAT:\n",
      "Epoch: 0, Loss: 254.7015\n",
      "Epoch: 50, Loss: 0.2215\n",
      "Epoch: 100, Loss: 0.2126\n",
      "Epoch: 150, Loss: 0.2081\n",
      "Epoch: 200, Loss: 0.2057\n",
      "Precision: 0.6668\n",
      "Recall: 0.9927\n",
      "F1-Score: 0.7977\n",
      "\n",
      "Running... _train_ORE2 _test_ORE2\n",
      "# Train - Triplets: 8204, # Nodes: 6650, # Edges: 8204\n",
      "# Test - Triplets: 2344, # Nodes: 3102, # Edges: 2344\n",
      "\n",
      "GraphSAGE:\n",
      "Epoch: 0, Loss: 39.8058\n",
      "Epoch: 50, Loss: 0.2223\n",
      "Epoch: 100, Loss: 0.2182\n",
      "Epoch: 150, Loss: 0.2156\n",
      "Epoch: 200, Loss: 0.2135\n",
      "Precision: 0.6727\n",
      "Recall: 0.5981\n",
      "F1-Score: 0.6332\n",
      "\n",
      "GAT:\n",
      "Epoch: 0, Loss: 295.9423\n",
      "Epoch: 50, Loss: 0.2273\n",
      "Epoch: 100, Loss: 0.2145\n",
      "Epoch: 150, Loss: 0.2094\n",
      "Epoch: 200, Loss: 0.2052\n",
      "Precision: 0.6671\n",
      "Recall: 0.9834\n",
      "F1-Score: 0.7950\n",
      "\n",
      "Running... _train_ORE3 _test_ORE3\n",
      "# Train - Triplets: 8187, # Nodes: 6673, # Edges: 8187\n",
      "# Test - Triplets: 2340, # Nodes: 3045, # Edges: 2340\n",
      "\n",
      "GraphSAGE:\n",
      "Epoch: 0, Loss: 28.6526\n",
      "Epoch: 50, Loss: 0.2258\n",
      "Epoch: 100, Loss: 0.2187\n",
      "Epoch: 150, Loss: 0.2159\n",
      "Epoch: 200, Loss: 0.2142\n",
      "Precision: 0.6835\n",
      "Recall: 0.3868\n",
      "F1-Score: 0.4940\n",
      "\n",
      "GAT:\n",
      "Epoch: 0, Loss: 341.5165\n",
      "Epoch: 50, Loss: 0.2258\n",
      "Epoch: 100, Loss: 0.2193\n",
      "Epoch: 150, Loss: 0.2131\n",
      "Epoch: 200, Loss: 0.2100\n",
      "Precision: 0.6657\n",
      "Recall: 0.9923\n",
      "F1-Score: 0.7968\n",
      "\n"
     ]
    }
   ],
   "source": [
    "for db_ in ORE_dbs:    \n",
    "    path = db_['path']\n",
    "    train_file = db_['train_file']\n",
    "    test_file = db_['test_file']\n",
    "\n",
    "    print('Running...', train_file, test_file)\n",
    "\n",
    "    df_train = load_ore_files(path+train_file)\n",
    "    df_train = df_train[df_train['p'] == 'SubClassOf']\n",
    "    g_train, nodes_train, edges_train = create_graph(df_train)\n",
    "    print(f'# Train - Triplets: {len(df_train)}, # Nodes: {g_train.number_of_nodes()}, # Edges: {g_train.number_of_edges()}')\n",
    "    df_test = load_ore_files(path+test_file)\n",
    "    df_test = df_test[df_test['p'] == 'SubClassOf']\n",
    "    g_test, nodes_test, edges_test = create_graph(df_test)\n",
    "    print(f'# Test - Triplets: {len(df_test)}, # Nodes: {g_test.number_of_nodes()}, # Edges: {g_test.number_of_edges()}')\n",
    "    print()\n",
    "\n",
    "    model = GNN()\n",
    "    model._train(g_train, 'GraphSAGE')\n",
    "    model._eval(g_test)\n",
    "    print()\n",
    "\n",
    "    model = GNN()\n",
    "    model._train(g_train, 'GAT')\n",
    "    model._eval(g_test)\n",
    "    print()"
   ]
  },
  {
   "cell_type": "markdown",
   "id": "43b6d603-ea2a-4c42-b953-bffc509d0a3e",
   "metadata": {},
   "source": [
    "# OWL2Bench"
   ]
  },
  {
   "cell_type": "code",
   "execution_count": 6,
   "id": "9da76671-c06a-47da-b36c-8fecd439ed1a",
   "metadata": {},
   "outputs": [],
   "source": [
    "OWL2Bench_dbs = [{'path' : './datasets/OWL2Bench/OWL2Bench1/',\n",
    "                  'train_file' : '_train_OWL2Bench1',\n",
    "                  'test_file' : '_test_OWL2Bench1'},\n",
    "                 {'path' : './datasets/OWL2Bench/OWL2Bench2/',\n",
    "                  'train_file' : '_train_OWL2Bench2',\n",
    "                  'test_file' : '_test_OWL2Bench2'}]"
   ]
  },
  {
   "cell_type": "code",
   "execution_count": 7,
   "id": "a095d142-9c2f-4abd-a43e-087cc9b04dae",
   "metadata": {},
   "outputs": [
    {
     "name": "stdout",
     "output_type": "stream",
     "text": [
      "Running... _train_OWL2Bench1 _test_OWL2Bench1\n",
      "# Train - Triplets: 105, # Nodes: 113, # Edges: 105\n",
      "# Test - Triplets: 30, # Nodes: 45, # Edges: 30\n",
      "\n",
      "GraphSAGE:\n",
      "Epoch: 0, Loss: 20.3852\n",
      "Epoch: 50, Loss: 0.1075\n",
      "Epoch: 100, Loss: 0.0635\n",
      "Epoch: 150, Loss: 0.0481\n",
      "Epoch: 200, Loss: 0.0335\n",
      "Precision: 0.4545\n",
      "Recall: 0.1667\n",
      "F1-Score: 0.2439\n",
      "\n",
      "GAT:\n",
      "Epoch: 0, Loss: 149.1002\n",
      "Epoch: 50, Loss: 0.0901\n",
      "Epoch: 100, Loss: 0.0349\n",
      "Epoch: 150, Loss: 0.0122\n",
      "Epoch: 200, Loss: 0.0016\n",
      "Precision: 0.7895\n",
      "Recall: 0.5000\n",
      "F1-Score: 0.6122\n",
      "\n",
      "Running... _train_OWL2Bench2 _test_OWL2Bench2\n",
      "# Train - Triplets: 105, # Nodes: 115, # Edges: 105\n",
      "# Test - Triplets: 30, # Nodes: 43, # Edges: 30\n",
      "\n",
      "GraphSAGE:\n",
      "Epoch: 0, Loss: 33.1489\n",
      "Epoch: 50, Loss: 0.1263\n",
      "Epoch: 100, Loss: 0.0766\n",
      "Epoch: 150, Loss: 0.0733\n",
      "Epoch: 200, Loss: 0.0392\n",
      "Precision: 0.5000\n",
      "Recall: 0.3000\n",
      "F1-Score: 0.3750\n",
      "\n",
      "GAT:\n",
      "Epoch: 0, Loss: 251.9325\n",
      "Epoch: 50, Loss: 0.0818\n",
      "Epoch: 100, Loss: 0.0385\n",
      "Epoch: 150, Loss: 0.0217\n",
      "Epoch: 200, Loss: 0.0141\n",
      "Precision: 0.6897\n",
      "Recall: 0.6667\n",
      "F1-Score: 0.6780\n",
      "\n"
     ]
    }
   ],
   "source": [
    "for db_ in OWL2Bench_dbs:    \n",
    "    path = db_['path']\n",
    "    train_file = db_['train_file']\n",
    "    test_file = db_['test_file']\n",
    "\n",
    "    print('Running...', train_file, test_file)\n",
    "\n",
    "    df_train = load_ore_files(path+train_file)\n",
    "    df_train = df_train[df_train['p'] == 'SubClassOf']\n",
    "    g_train, nodes_train, edges_train = create_graph(df_train)\n",
    "    print(f'# Train - Triplets: {len(df_train)}, # Nodes: {g_train.number_of_nodes()}, # Edges: {g_train.number_of_edges()}')\n",
    "    df_test = load_ore_files(path+test_file)\n",
    "    df_test = df_test[df_test['p'] == 'SubClassOf']\n",
    "    g_test, nodes_test, edges_test = create_graph(df_test)\n",
    "    print(f'# Test - Triplets: {len(df_test)}, # Nodes: {g_test.number_of_nodes()}, # Edges: {g_test.number_of_edges()}')\n",
    "    print()\n",
    "\n",
    "    model = GNN()\n",
    "    model._train(g_train, 'GraphSAGE')\n",
    "    model._eval(g_test)\n",
    "    print()\n",
    "\n",
    "    model = GNN()\n",
    "    model._train(g_train, 'GAT')\n",
    "    model._eval(g_test)\n",
    "    print()"
   ]
  },
  {
   "cell_type": "markdown",
   "id": "c0dfa1d4-968b-4dd1-bb64-280b2186a08e",
   "metadata": {
    "tags": []
   },
   "source": [
    "# CaLiGraph"
   ]
  },
  {
   "cell_type": "code",
   "execution_count": 8,
   "id": "5aa62032-1cb6-48d4-8fdf-e62cceece823",
   "metadata": {},
   "outputs": [],
   "source": [
    "CLG_dbs = [{'path' : './datasets/clg/clg_10e4/',\n",
    "            'train_file' : 'clg_10e4-train.nt',\n",
    "            'test_file' : 'clg_10e4-test.nt'},\n",
    "           {'path' : './datasets/clg/clg_10e5/',\n",
    "            'train_file' : 'clg_10e5-train.nt',\n",
    "            'test_file' : 'clg_10e5-test.nt'}]"
   ]
  },
  {
   "cell_type": "code",
   "execution_count": 9,
   "id": "b2805236-75e1-46dd-b6b0-d16d88b901b3",
   "metadata": {},
   "outputs": [
    {
     "name": "stdout",
     "output_type": "stream",
     "text": [
      "Running... clg_10e4-train.nt clg_10e4-test.nt\n",
      "# Train - Triplets: 59956, # Nodes: 10311, # Edges: 59956\n",
      "# Test - Triplets: 17132, # Nodes: 7866, # Edges: 17132\n",
      "\n",
      "GraphSAGE:\n",
      "Epoch: 0, Loss: 49.5768\n",
      "Epoch: 50, Loss: 0.2233\n",
      "Epoch: 100, Loss: 0.1904\n",
      "Epoch: 150, Loss: 0.1869\n",
      "Epoch: 200, Loss: 0.1858\n",
      "Precision: 0.6265\n",
      "Recall: 0.1422\n",
      "F1-Score: 0.2318\n",
      "\n",
      "GAT:\n",
      "Epoch: 0, Loss: 369.5024\n",
      "Epoch: 50, Loss: 0.2227\n",
      "Epoch: 100, Loss: 0.2192\n",
      "Epoch: 150, Loss: 0.2181\n",
      "Epoch: 200, Loss: 0.2165\n",
      "Precision: 0.6571\n",
      "Recall: 0.6901\n",
      "F1-Score: 0.6732\n",
      "\n",
      "Running... clg_10e5-train.nt clg_10e5-test.nt\n",
      "# Train - Triplets: 96273, # Nodes: 75195, # Edges: 96273\n",
      "# Test - Triplets: 27508, # Nodes: 26675, # Edges: 27508\n",
      "\n",
      "GraphSAGE:\n",
      "Epoch: 0, Loss: 21.4759\n",
      "Epoch: 50, Loss: 0.1517\n",
      "Epoch: 100, Loss: 0.1225\n",
      "Epoch: 150, Loss: 0.1137\n",
      "Epoch: 200, Loss: 0.1097\n",
      "Precision: 0.8162\n",
      "Recall: 0.6387\n",
      "F1-Score: 0.7166\n",
      "\n",
      "GAT:\n",
      "Epoch: 0, Loss: 142.9769\n",
      "Epoch: 50, Loss: 0.1257\n",
      "Epoch: 100, Loss: 0.1068\n",
      "Epoch: 150, Loss: 0.0990\n",
      "Epoch: 200, Loss: 0.0952\n",
      "Precision: 0.8419\n",
      "Recall: 0.9193\n",
      "F1-Score: 0.8789\n",
      "\n"
     ]
    }
   ],
   "source": [
    "for db_ in CLG_dbs:\n",
    "    path = db_['path']\n",
    "    train_file = db_['train_file']\n",
    "    test_file = db_['test_file']\n",
    "\n",
    "    print('Running...', train_file, test_file)\n",
    "\n",
    "    df_train = load_clg_files(path+train_file)\n",
    "    df_train = df_train[df_train['p'] == '<http://www.w3.org/2000/01/rdf-schema#subClassOf>']\n",
    "    g_train, nodes_train, edges_train = create_graph(df_train)\n",
    "    print(f'# Train - Triplets: {len(df_train)}, # Nodes: {g_train.number_of_nodes()}, # Edges: {g_train.number_of_edges()}')\n",
    "    df_test = load_clg_files(path+test_file)\n",
    "    df_test = df_test[df_test['p'] == '<http://www.w3.org/2000/01/rdf-schema#subClassOf>']\n",
    "    g_test, nodes_test, edges_test = create_graph(df_test)\n",
    "    print(f'# Test - Triplets: {len(df_test)}, # Nodes: {g_test.number_of_nodes()}, # Edges: {g_test.number_of_edges()}')\n",
    "    print()\n",
    "\n",
    "    model = GNN()\n",
    "    model._train(g_train, 'GraphSAGE')\n",
    "    model._eval(g_test)\n",
    "    print()\n",
    "\n",
    "    model = GNN()\n",
    "    model._train(g_train, 'GAT')\n",
    "    model._eval(g_test)\n",
    "    print()"
   ]
  }
 ],
 "metadata": {
  "kernelspec": {
   "display_name": "Python 3 (ipykernel)",
   "language": "python",
   "name": "python3"
  },
  "language_info": {
   "codemirror_mode": {
    "name": "ipython",
    "version": 3
   },
   "file_extension": ".py",
   "mimetype": "text/x-python",
   "name": "python",
   "nbconvert_exporter": "python",
   "pygments_lexer": "ipython3",
   "version": "3.8.16"
  }
 },
 "nbformat": 4,
 "nbformat_minor": 5
}
