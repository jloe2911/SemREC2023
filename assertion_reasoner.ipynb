{
 "cells": [
  {
   "cell_type": "markdown",
   "id": "d396f43a-efe3-4c77-969b-1a6675bcea4b",
   "metadata": {},
   "source": [
    "# Librairies"
   ]
  },
  {
   "cell_type": "code",
   "execution_count": 1,
   "id": "3e8a0205-8152-49ea-bdea-777c3ad00dec",
   "metadata": {},
   "outputs": [],
   "source": [
    "import pandas as pd\n",
    "import numpy as np\n",
    "import operator\n",
    "import gzip\n",
    "import networkx as nx\n",
    "import time\n",
    "import random\n",
    "random.seed(10)\n",
    "\n",
    "import torch\n",
    "import torch.nn as nn\n",
    "from torch.nn import Linear\n",
    "import torch.nn.functional as F\n",
    "\n",
    "import torch_geometric\n",
    "from torch_geometric.data import HeteroData\n",
    "import torch_geometric.transforms as T\n",
    "from torch_geometric.nn import GCNConv, SAGEConv, GATConv, Linear, to_hetero\n",
    "\n",
    "from sklearn.metrics import precision_score, recall_score, f1_score\n",
    "\n",
    "from src.utils import *\n",
    "from src.gnn import *"
   ]
  },
  {
   "cell_type": "code",
   "execution_count": 2,
   "id": "5852b065-1f57-40bb-a903-eb84554f6665",
   "metadata": {},
   "outputs": [
    {
     "name": "stdout",
     "output_type": "stream",
     "text": [
      "2.0.1+cu118\n"
     ]
    }
   ],
   "source": [
    "print(torch.__version__)"
   ]
  },
  {
   "cell_type": "code",
   "execution_count": 3,
   "id": "f4f91937-8454-45e6-9090-71bf266ef8fc",
   "metadata": {},
   "outputs": [
    {
     "name": "stdout",
     "output_type": "stream",
     "text": [
      "2.4.0\n"
     ]
    }
   ],
   "source": [
    "print(torch_geometric.__version__)"
   ]
  },
  {
   "cell_type": "code",
   "execution_count": 4,
   "id": "4535005d-088b-40e9-9bbd-6b80f6da630c",
   "metadata": {},
   "outputs": [
    {
     "name": "stdout",
     "output_type": "stream",
     "text": [
      "cuda\n"
     ]
    }
   ],
   "source": [
    "device = torch.device('cuda' if torch.cuda.is_available() else 'cpu')\n",
    "print(device)"
   ]
  },
  {
   "cell_type": "markdown",
   "id": "43b6d603-ea2a-4c42-b953-bffc509d0a3e",
   "metadata": {
    "tags": []
   },
   "source": [
    "# OWL2Bench"
   ]
  },
  {
   "cell_type": "code",
   "execution_count": 5,
   "id": "9da76671-c06a-47da-b36c-8fecd439ed1a",
   "metadata": {},
   "outputs": [],
   "source": [
    "OWL2Bench_dbs = [{'path' : './datasets/OWL2Bench/OWL2Bench1/',\n",
    "                  'train_file' : '_train_OWL2Bench1',\n",
    "                  'test_file' : '_test_OWL2Bench1'},\n",
    "                 {'path' : './datasets/OWL2Bench/OWL2Bench2/',\n",
    "                  'train_file' : '_train_OWL2Bench2',\n",
    "                  'test_file' : '_test_OWL2Bench2'}]"
   ]
  },
  {
   "cell_type": "code",
   "execution_count": 6,
   "id": "a095d142-9c2f-4abd-a43e-087cc9b04dae",
   "metadata": {},
   "outputs": [
    {
     "name": "stdout",
     "output_type": "stream",
     "text": [
      "Running... _train_OWL2Bench1 _test_OWL2Bench1\n",
      "# Train - Triplets: 7989, # Nodes: 3633, # Edges: 7989\n",
      "# Test - Triplets: 2283, # Nodes: 1836, # Edges: 2283\n",
      "\n",
      "GAT:\n",
      "Epoch: 0, Loss: 0.3118\n",
      "Epoch: 400, Loss: 0.0131\n",
      "Epoch: 800, Loss: 0.0115\n",
      "head, relation -> tail?\n",
      "hits@1: 0.307, hits@10: 0.329\n",
      "-------------------------------------------\n",
      "Run time: 63 seconds, 1 minutes\n",
      "\n",
      "GAT_2hops:\n",
      "Epoch: 0, Loss: 0.4181\n",
      "Epoch: 400, Loss: 0.0281\n",
      "Epoch: 800, Loss: 0.0274\n",
      "head, relation -> tail?\n",
      "hits@1: 0.106, hits@10: 0.127\n",
      "-------------------------------------------\n",
      "Run time: 62 seconds, 1 minutes\n",
      "\n",
      "Running... _train_OWL2Bench2 _test_OWL2Bench2\n",
      "# Train - Triplets: 15526, # Nodes: 7080, # Edges: 15526\n",
      "# Test - Triplets: 4437, # Nodes: 3612, # Edges: 4437\n",
      "\n",
      "GAT:\n",
      "Epoch: 0, Loss: 0.4405\n",
      "Epoch: 400, Loss: 0.0177\n",
      "Epoch: 800, Loss: 0.0068\n",
      "head, relation -> tail?\n",
      "hits@1: 0.314, hits@10: 0.323\n",
      "-------------------------------------------\n",
      "Run time: 123 seconds, 2 minutes\n",
      "\n",
      "GAT_2hops:\n",
      "Epoch: 0, Loss: 0.4508\n",
      "Epoch: 400, Loss: 0.1126\n",
      "Epoch: 800, Loss: 0.0761\n",
      "head, relation -> tail?\n",
      "hits@1: 0.007, hits@10: 0.049\n",
      "-------------------------------------------\n",
      "Run time: 127 seconds, 2 minutes\n",
      "\n"
     ]
    }
   ],
   "source": [
    "for db_ in OWL2Bench_dbs:    \n",
    "    path = db_['path']\n",
    "    train_file = db_['train_file']\n",
    "    test_file = db_['test_file']\n",
    "\n",
    "    print('Running...', train_file, test_file)\n",
    "\n",
    "    df_train = load_ore_files(path+train_file)\n",
    "    df_train = df_train[df_train['p'] == 'ClassAssertion']\n",
    "    g_train, nodes_train, edges_train = create_graph(df_train)\n",
    "    print(f'# Train - Triplets: {len(df_train)}, # Nodes: {g_train.number_of_nodes()}, # Edges: {g_train.number_of_edges()}')\n",
    "    df_test = load_ore_files(path+test_file)\n",
    "    df_test = df_test[df_test['p'] == 'ClassAssertion']\n",
    "    g_test, nodes_test, edges_test = create_graph(df_test)\n",
    "    print(f'# Test - Triplets: {len(df_test)}, # Nodes: {g_test.number_of_nodes()}, # Edges: {g_test.number_of_edges()}')\n",
    "    print()\n",
    "    \n",
    "    st = time.time()\n",
    "    model = GNN()\n",
    "    model._train(device, 'GAT', g_train)\n",
    "    model._eval(min(g_test.number_of_nodes(),100), 'GAT', g_test)\n",
    "    et = time.time()\n",
    "    elapsed_time = et - st\n",
    "    print(f'Run time: {elapsed_time:.0f} seconds, {elapsed_time/60:.0f} minutes')\n",
    "    print()\n",
    "\n",
    "    st = time.time()\n",
    "    model = GNN()\n",
    "    model._train(device, 'GAT_2hops', g_train)\n",
    "    model._eval(min(g_test.number_of_nodes(),100), 'GAT_2hops', g_test)\n",
    "    et = time.time()\n",
    "    elapsed_time = et - st\n",
    "    print(f'Run time: {elapsed_time:.0f} seconds, {elapsed_time/60:.0f} minutes')\n",
    "    print()"
   ]
  },
  {
   "cell_type": "markdown",
   "id": "f3a0c1de-cb40-4bc5-a7fd-68fa1f51244f",
   "metadata": {
    "tags": []
   },
   "source": [
    "# ORE"
   ]
  },
  {
   "cell_type": "code",
   "execution_count": 7,
   "id": "1ab8ad86-ca50-4c24-8337-83b8c87c9b7c",
   "metadata": {},
   "outputs": [],
   "source": [
    "ORE_dbs = [{'path' : './datasets/ORE/ORE1/',\n",
    "            'train_file' : '_train_ORE1',\n",
    "            'test_file' : '_test_ORE1'},\n",
    "           {'path' : './datasets/ORE/ORE2/',\n",
    "            'train_file' : '_train_ORE2',\n",
    "            'test_file' : '_test_ORE2'},\n",
    "           {'path' : './datasets/ORE/ORE3/',\n",
    "            'train_file' : '_train_ORE3',\n",
    "            'test_file' : '_test_ORE3'}]"
   ]
  },
  {
   "cell_type": "code",
   "execution_count": 8,
   "id": "a0613db2-ccf6-4bb1-b306-534201a97593",
   "metadata": {},
   "outputs": [
    {
     "name": "stdout",
     "output_type": "stream",
     "text": [
      "Running... _train_ORE1 _test_ORE1\n",
      "# Train - Triplets: 53048, # Nodes: 8060, # Edges: 53048\n",
      "# Test - Triplets: 15157, # Nodes: 5847, # Edges: 15157\n",
      "\n",
      "GAT:\n",
      "Epoch: 0, Loss: 0.2640\n",
      "Epoch: 400, Loss: 0.1178\n",
      "Epoch: 800, Loss: 0.1135\n",
      "head, relation -> tail?\n",
      "hits@1: 0.031, hits@10: 0.199\n",
      "-------------------------------------------\n",
      "Run time: 547 seconds, 9 minutes\n",
      "\n",
      "GAT_2hops:\n",
      "Epoch: 0, Loss: 0.3215\n",
      "Epoch: 400, Loss: 0.1437\n",
      "Epoch: 800, Loss: 0.1309\n",
      "head, relation -> tail?\n",
      "hits@1: 0.036, hits@10: 0.125\n",
      "-------------------------------------------\n",
      "Run time: 545 seconds, 9 minutes\n",
      "\n",
      "Running... _train_ORE2 _test_ORE2\n",
      "# Train - Triplets: 53081, # Nodes: 8064, # Edges: 53081\n",
      "# Test - Triplets: 15166, # Nodes: 5845, # Edges: 15166\n",
      "\n",
      "GAT:\n",
      "Epoch: 0, Loss: 0.3930\n",
      "Epoch: 400, Loss: 0.1235\n",
      "Epoch: 800, Loss: 0.1092\n",
      "head, relation -> tail?\n",
      "hits@1: 0.016, hits@10: 0.105\n",
      "-------------------------------------------\n",
      "Run time: 541 seconds, 9 minutes\n",
      "\n",
      "GAT_2hops:\n",
      "Epoch: 0, Loss: 0.3278\n",
      "Epoch: 400, Loss: 0.1569\n",
      "Epoch: 800, Loss: 0.1380\n",
      "head, relation -> tail?\n",
      "hits@1: 0.036, hits@10: 0.216\n",
      "-------------------------------------------\n",
      "Run time: 556 seconds, 9 minutes\n",
      "\n",
      "Running... _train_ORE3 _test_ORE3\n",
      "# Train - Triplets: 53014, # Nodes: 8059, # Edges: 53014\n",
      "# Test - Triplets: 15148, # Nodes: 5794, # Edges: 15148\n",
      "\n",
      "GAT:\n",
      "Epoch: 0, Loss: 0.2669\n",
      "Epoch: 400, Loss: 0.1172\n",
      "Epoch: 800, Loss: 0.1123\n",
      "head, relation -> tail?\n",
      "hits@1: 0.034, hits@10: 0.179\n",
      "-------------------------------------------\n",
      "Run time: 543 seconds, 9 minutes\n",
      "\n",
      "GAT_2hops:\n",
      "Epoch: 0, Loss: 0.2701\n",
      "Epoch: 400, Loss: 0.1500\n",
      "Epoch: 800, Loss: 0.1588\n",
      "head, relation -> tail?\n",
      "hits@1: 0.012, hits@10: 0.128\n",
      "-------------------------------------------\n",
      "Run time: 533 seconds, 9 minutes\n",
      "\n"
     ]
    }
   ],
   "source": [
    "for db_ in ORE_dbs:    \n",
    "    path = db_['path']\n",
    "    train_file = db_['train_file']\n",
    "    test_file = db_['test_file']\n",
    "\n",
    "    print('Running...', train_file, test_file)\n",
    "\n",
    "    df_train = load_ore_files(path+train_file)\n",
    "    df_train = df_train[df_train['p'] == 'ClassAssertion']\n",
    "    g_train, nodes_train, edges_train = create_graph(df_train)\n",
    "    print(f'# Train - Triplets: {len(df_train)}, # Nodes: {g_train.number_of_nodes()}, # Edges: {g_train.number_of_edges()}')\n",
    "    df_test = load_ore_files(path+test_file)\n",
    "    df_test = df_test[df_test['p'] == 'ClassAssertion']\n",
    "    g_test, nodes_test, edges_test = create_graph(df_test)\n",
    "    print(f'# Test - Triplets: {len(df_test)}, # Nodes: {g_test.number_of_nodes()}, # Edges: {g_test.number_of_edges()}')\n",
    "    print()\n",
    "    \n",
    "    st = time.time()\n",
    "    model = GNN()\n",
    "    model._train(device, 'GAT', g_train)\n",
    "    model._eval(min(g_test.number_of_nodes(),100), 'GAT', g_test)\n",
    "    et = time.time()\n",
    "    elapsed_time = et - st\n",
    "    print(f'Run time: {elapsed_time:.0f} seconds, {elapsed_time/60:.0f} minutes')\n",
    "    print()\n",
    "\n",
    "    st = time.time()\n",
    "    model = GNN()\n",
    "    model._train(device, 'GAT_2hops', g_train)\n",
    "    model._eval(min(g_test.number_of_nodes(),100), 'GAT_2hops', g_test)\n",
    "    et = time.time()\n",
    "    elapsed_time = et - st\n",
    "    print(f'Run time: {elapsed_time:.0f} seconds, {elapsed_time/60:.0f} minutes')\n",
    "    print()"
   ]
  },
  {
   "cell_type": "markdown",
   "id": "c0dfa1d4-968b-4dd1-bb64-280b2186a08e",
   "metadata": {
    "tags": []
   },
   "source": [
    "# CaLiGraph"
   ]
  },
  {
   "cell_type": "code",
   "execution_count": 9,
   "id": "5aa62032-1cb6-48d4-8fdf-e62cceece823",
   "metadata": {},
   "outputs": [],
   "source": [
    "CLG_dbs = [{'path' : './datasets/clg/clg_10e4/',\n",
    "            'train_file' : 'clg_10e4-train.nt',\n",
    "            'test_file' : 'clg_10e4-test.nt',\n",
    "            'file' : 'clg_10e4'},\n",
    "           {'path' : './datasets/clg/clg_10e5/',\n",
    "            'train_file' : 'clg_10e5-train.nt',\n",
    "            'test_file' : 'clg_10e5-test.nt',\n",
    "            'file' : 'clg_10e5'}]"
   ]
  },
  {
   "cell_type": "code",
   "execution_count": 10,
   "id": "b2805236-75e1-46dd-b6b0-d16d88b901b3",
   "metadata": {},
   "outputs": [
    {
     "name": "stdout",
     "output_type": "stream",
     "text": [
      "Running... clg_10e4-train.nt clg_10e4-test.nt\n",
      "# Train - Triplets: 51577, # Nodes: 9611, # Edges: 51577\n",
      "# Test - Triplets: 14738, # Nodes: 7081, # Edges: 14738\n",
      "\n",
      "GAT:\n",
      "Epoch: 0, Loss: 0.3351\n",
      "Epoch: 400, Loss: 0.1571\n",
      "Epoch: 800, Loss: 0.1500\n",
      "head, relation -> tail?\n",
      "hits@1: 0.068, hits@10: 0.189\n",
      "-------------------------------------------\n",
      "Run time: 562 seconds, 9 minutes\n",
      "\n",
      "GAT_2hops:\n",
      "Epoch: 0, Loss: 0.2003\n",
      "Epoch: 400, Loss: 0.1831\n",
      "Epoch: 800, Loss: 0.1825\n",
      "head, relation -> tail?\n",
      "hits@1: 0.125, hits@10: 0.293\n",
      "-------------------------------------------\n",
      "Run time: 562 seconds, 9 minutes\n",
      "\n",
      "Running... clg_10e5-train.nt clg_10e5-test.nt\n",
      "# Train - Triplets: 29973, # Nodes: 27882, # Edges: 29973\n",
      "# Test - Triplets: 8565, # Nodes: 9276, # Edges: 8565\n",
      "\n",
      "GAT:\n",
      "Epoch: 0, Loss: 0.3522\n",
      "Epoch: 400, Loss: 0.1440\n",
      "Epoch: 800, Loss: 0.1246\n",
      "head, relation -> tail?\n",
      "hits@1: 0.003, hits@10: 0.019\n",
      "-------------------------------------------\n",
      "Run time: 360 seconds, 6 minutes\n",
      "\n",
      "GAT_2hops:\n",
      "Epoch: 0, Loss: 0.4206\n",
      "Epoch: 400, Loss: 0.2118\n",
      "Epoch: 800, Loss: 0.2262\n",
      "head, relation -> tail?\n",
      "hits@1: 0.001, hits@10: 0.007\n",
      "-------------------------------------------\n",
      "Run time: 356 seconds, 6 minutes\n",
      "\n"
     ]
    }
   ],
   "source": [
    "for db_ in CLG_dbs:\n",
    "    path = db_['path']\n",
    "    train_file = db_['train_file']\n",
    "    test_file = db_['test_file']\n",
    "    file = db_['file']\n",
    "\n",
    "    print('Running...', train_file, test_file)\n",
    "\n",
    "    df_train = load_clg_files(path+train_file)\n",
    "    df_train = df_train[df_train['p'] == '<http://www.w3.org/1999/02/22-rdf-syntax-ns#type>']\n",
    "    g_train, nodes_train, edges_train = create_graph(df_train)\n",
    "    print(f'# Train - Triplets: {len(df_train)}, # Nodes: {g_train.number_of_nodes()}, # Edges: {g_train.number_of_edges()}')\n",
    "    df_test = load_clg_files(path+test_file)\n",
    "    df_test = df_test[df_test['p'] == '<http://www.w3.org/1999/02/22-rdf-syntax-ns#type>']\n",
    "    g_test, nodes_test, edges_test = create_graph(df_test)\n",
    "    print(f'# Test - Triplets: {len(df_test)}, # Nodes: {g_test.number_of_nodes()}, # Edges: {g_test.number_of_edges()}')\n",
    "    print()\n",
    "    #torch.save(model, f'Models/assertion_reasoner/{file}_GAT')\n",
    "    \n",
    "    st = time.time()\n",
    "    model = GNN()\n",
    "    model._train(device, 'GAT', g_train)\n",
    "    model._eval(min(g_test.number_of_nodes(),100), 'GAT', g_test)\n",
    "    et = time.time()\n",
    "    elapsed_time = et - st\n",
    "    print(f'Run time: {elapsed_time:.0f} seconds, {elapsed_time/60:.0f} minutes')\n",
    "    print()\n",
    "\n",
    "    st = time.time()\n",
    "    model = GNN()\n",
    "    model._train(device, 'GAT_2hops', g_train)\n",
    "    model._eval(min(g_test.number_of_nodes(),100), 'GAT_2hops', g_test)\n",
    "    et = time.time()\n",
    "    elapsed_time = et - st\n",
    "    print(f'Run time: {elapsed_time:.0f} seconds, {elapsed_time/60:.0f} minutes')\n",
    "    print()\n",
    "    #torch.save(model, f'Models/assertion_reasoner/{file}_TransGAT')"
   ]
  }
 ],
 "metadata": {
  "kernelspec": {
   "display_name": "Python 3 (ipykernel)",
   "language": "python",
   "name": "python3"
  },
  "language_info": {
   "codemirror_mode": {
    "name": "ipython",
    "version": 3
   },
   "file_extension": ".py",
   "mimetype": "text/x-python",
   "name": "python",
   "nbconvert_exporter": "python",
   "pygments_lexer": "ipython3",
   "version": "3.8.16"
  }
 },
 "nbformat": 4,
 "nbformat_minor": 5
}
