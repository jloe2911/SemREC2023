{
 "cells": [
  {
   "cell_type": "code",
   "execution_count": 1,
   "id": "4160ba72-0f6c-4400-b417-dda1d99170ee",
   "metadata": {},
   "outputs": [],
   "source": [
    "import pandas as pd\n",
    "import numpy as np\n",
    "import operator\n",
    "import gzip\n",
    "import networkx as nx\n",
    "import time\n",
    "import random\n",
    "random.seed(10)\n",
    "\n",
    "import torch\n",
    "import torch.nn as nn\n",
    "from torch.nn import Linear\n",
    "import torch.nn.functional as F\n",
    "\n",
    "import torch_geometric\n",
    "from torch_geometric.data import HeteroData\n",
    "import torch_geometric.transforms as T\n",
    "from torch_geometric.nn import GCNConv, SAGEConv, GATConv, Linear, to_hetero\n",
    "\n",
    "from sklearn.metrics import precision_score, recall_score, f1_score\n",
    "\n",
    "from src.utils import *\n",
    "from src.gnn import *"
   ]
  },
  {
   "cell_type": "code",
   "execution_count": 2,
   "id": "18850241-648f-43b5-955b-844a87a8fb91",
   "metadata": {},
   "outputs": [
    {
     "name": "stdout",
     "output_type": "stream",
     "text": [
      "2.0.1+cu118\n"
     ]
    }
   ],
   "source": [
    "print(torch.__version__)"
   ]
  },
  {
   "cell_type": "code",
   "execution_count": 3,
   "id": "b3a2112d-8a4e-47c3-a9e1-c1f3c2103274",
   "metadata": {},
   "outputs": [
    {
     "name": "stdout",
     "output_type": "stream",
     "text": [
      "2.4.0\n"
     ]
    }
   ],
   "source": [
    "print(torch_geometric.__version__)"
   ]
  },
  {
   "cell_type": "code",
   "execution_count": 4,
   "id": "9df51403-2f73-445f-8fec-b9ac3af7fb0e",
   "metadata": {},
   "outputs": [
    {
     "name": "stdout",
     "output_type": "stream",
     "text": [
      "cuda\n"
     ]
    }
   ],
   "source": [
    "device = torch.device('cuda' if torch.cuda.is_available() else 'cpu')\n",
    "print(device)"
   ]
  },
  {
   "cell_type": "markdown",
   "id": "aa30b1c4-ce45-4edc-9667-e3dbf5e5452e",
   "metadata": {
    "jp-MarkdownHeadingCollapsed": true,
    "tags": []
   },
   "source": [
    "# OWL2Bench"
   ]
  },
  {
   "cell_type": "code",
   "execution_count": 5,
   "id": "6a03c523-aca1-43dd-9adf-009ad7d67fe5",
   "metadata": {},
   "outputs": [],
   "source": [
    "OWL2Bench_dbs = [{'path' : './datasets/OWL2Bench/OWL2Bench1/',\n",
    "                  'train_file' : '_train_OWL2Bench1',\n",
    "                  'test_file' : '_test_OWL2Bench1'},\n",
    "                 {'path' : './datasets/OWL2Bench/OWL2Bench2/',\n",
    "                  'train_file' : '_train_OWL2Bench2',\n",
    "                  'test_file' : '_test_OWL2Bench2'}]"
   ]
  },
  {
   "cell_type": "code",
   "execution_count": 6,
   "id": "98378797-b3aa-4653-8e38-607cb264b638",
   "metadata": {},
   "outputs": [
    {
     "name": "stdout",
     "output_type": "stream",
     "text": [
      "Running... _train_OWL2Bench1 _test_OWL2Bench1\n",
      "# Train - Triplets: 105, # Nodes/Classes: 113, # Edges: 105\n",
      "# Test - Triplets: 30, # Nodes/Classes: 45, # Edges: 30\n",
      "\n",
      "GAT:\n",
      "Epoch: 0, Loss: 0.3927\n",
      "Epoch: 400, Loss: 0.0852\n",
      "Epoch: 800, Loss: 0.0425\n",
      "head, relation -> tail?\n",
      "hits@1: 0.167, hits@10: 0.400\n",
      "-------------------------------------------\n",
      "Run time: 7 seconds, 0 minutes\n",
      "\n",
      "GAT_2hops:\n",
      "Epoch: 0, Loss: 0.4211\n",
      "Epoch: 400, Loss: 0.2562\n",
      "Epoch: 800, Loss: 0.3192\n",
      "head, relation -> tail?\n",
      "hits@1: 0.000, hits@10: 0.000\n",
      "-------------------------------------------\n",
      "Run time: 7 seconds, 0 minutes\n",
      "\n",
      "GAT_2hops:\n",
      "+ Filter...\n",
      "Epoch: 0, Loss: 0.4163\n",
      "Epoch: 400, Loss: 0.2455\n",
      "Epoch: 800, Loss: 0.2457\n",
      "head, relation -> tail?\n",
      "hits@1: 0.167, hits@10: 0.500\n",
      "-------------------------------------------\n",
      "Run time: 7 seconds, 0 minutes\n",
      "\n",
      "Running... _train_OWL2Bench2 _test_OWL2Bench2\n",
      "# Train - Triplets: 105, # Nodes/Classes: 115, # Edges: 105\n",
      "# Test - Triplets: 30, # Nodes/Classes: 43, # Edges: 30\n",
      "\n",
      "GAT:\n",
      "Epoch: 0, Loss: 0.3734\n",
      "Epoch: 400, Loss: 0.0519\n",
      "Epoch: 800, Loss: 0.0279\n",
      "head, relation -> tail?\n",
      "hits@1: 0.067, hits@10: 0.400\n",
      "-------------------------------------------\n",
      "Run time: 5 seconds, 0 minutes\n",
      "\n",
      "GAT_2hops:\n",
      "Epoch: 0, Loss: 0.4277\n",
      "Epoch: 400, Loss: 0.2429\n",
      "Epoch: 800, Loss: 0.2357\n",
      "head, relation -> tail?\n",
      "hits@1: 0.200, hits@10: 0.200\n",
      "-------------------------------------------\n",
      "Run time: 7 seconds, 0 minutes\n",
      "\n",
      "GAT_2hops:\n",
      "+ Filter...\n",
      "Epoch: 0, Loss: 0.4065\n",
      "Epoch: 400, Loss: 0.3028\n",
      "Epoch: 800, Loss: 0.2512\n",
      "head, relation -> tail?\n",
      "hits@1: 0.033, hits@10: 0.600\n",
      "-------------------------------------------\n",
      "Run time: 8 seconds, 0 minutes\n",
      "\n"
     ]
    }
   ],
   "source": [
    "for db_ in OWL2Bench_dbs:    \n",
    "    path = db_['path']\n",
    "    train_file = db_['train_file']\n",
    "    test_file = db_['test_file']\n",
    "\n",
    "    print('Running...', train_file, test_file)\n",
    "\n",
    "    df_train = load_ore_files(path+train_file)\n",
    "    df_train = df_train[df_train['p'] == 'SubClassOf']\n",
    "    g_train, nodes_train, edges_train = create_graph(df_train)\n",
    "    print(f'# Train - Triplets: {len(df_train)}, # Nodes/Classes: {g_train.number_of_nodes()}, # Edges: {g_train.number_of_edges()}')\n",
    "    df_test = load_ore_files(path+test_file)\n",
    "    df_test = df_test[df_test['p'] == 'SubClassOf']\n",
    "    g_test, nodes_test, edges_test = create_graph(df_test)\n",
    "    print(f'# Test - Triplets: {len(df_test)}, # Nodes/Classes: {g_test.number_of_nodes()}, # Edges: {g_test.number_of_edges()}')\n",
    "    print()\n",
    "    \n",
    "    st = time.time()\n",
    "    model = GNN()\n",
    "    model._train(device, 'GAT', g_train)\n",
    "    model._eval(min(g_test.number_of_nodes(),100), 'GAT', g_test)\n",
    "    et = time.time()\n",
    "    elapsed_time = et - st\n",
    "    print(f'Run time: {elapsed_time:.0f} seconds, {elapsed_time/60:.0f} minutes')\n",
    "    print()\n",
    "\n",
    "    st = time.time()\n",
    "    model = GNN()\n",
    "    model._train(device, 'GAT_2hops', g_train)\n",
    "    model._eval(min(g_test.number_of_nodes(),100), 'GAT_2hops', g_test)\n",
    "    et = time.time()\n",
    "    elapsed_time = et - st\n",
    "    print(f'Run time: {elapsed_time:.0f} seconds, {elapsed_time/60:.0f} minutes')\n",
    "    print()\n",
    "    \n",
    "    df_train_filter = df_train[df_train['p'] == 'SubClassOf']\n",
    "    g_train_filter, _, _ = create_graph(df_train_filter)\n",
    "    df_test_filter = df_test[df_test['p'] == 'SubClassOf']\n",
    "    g_test_filter, _, _ = create_graph(df_test_filter)\n",
    "\n",
    "    st = time.time()\n",
    "    model = GNN()\n",
    "    model._train(device, 'GAT_2hops', g_train, g_train_filter)\n",
    "    model._eval(min(g_test.number_of_nodes(),100), 'GAT_2hops', g_test, g_test_filter)\n",
    "    et = time.time()\n",
    "    elapsed_time = et - st\n",
    "    print(f'Run time: {elapsed_time:.0f} seconds, {elapsed_time/60:.0f} minutes')\n",
    "    print()"
   ]
  },
  {
   "cell_type": "markdown",
   "id": "af7c36bd-4392-44ca-8c44-d457426fdc4e",
   "metadata": {
    "jp-MarkdownHeadingCollapsed": true,
    "tags": []
   },
   "source": [
    "# OWL"
   ]
  },
  {
   "cell_type": "code",
   "execution_count": 7,
   "id": "cc39fd9a-b521-4c20-ae23-231a1d198673",
   "metadata": {},
   "outputs": [],
   "source": [
    "ORE_dbs = [{'path' : './datasets/ORE/ORE1/',\n",
    "            'train_file' : '_train_ORE1',\n",
    "            'test_file' : '_test_ORE1'},\n",
    "           {'path' : './datasets/ORE/ORE2/',\n",
    "            'train_file' : '_train_ORE2',\n",
    "            'test_file' : '_test_ORE2'},\n",
    "           {'path' : './datasets/ORE/ORE3/',\n",
    "            'train_file' : '_train_ORE3',\n",
    "            'test_file' : '_test_ORE3'}]"
   ]
  },
  {
   "cell_type": "code",
   "execution_count": 8,
   "id": "c4478b1f-2cb5-4a29-89d7-ea6385031fdc",
   "metadata": {},
   "outputs": [
    {
     "name": "stdout",
     "output_type": "stream",
     "text": [
      "Running... _train_ORE1 _test_ORE1\n",
      "# Train - Triplets: 8194, # Nodes/Classes: 6654, # Edges: 8194\n",
      "# Test - Triplets: 2342, # Nodes/Classes: 3052, # Edges: 2342\n",
      "\n",
      "GAT:\n",
      "Epoch: 0, Loss: 0.3266\n",
      "Epoch: 400, Loss: 0.2142\n",
      "Epoch: 800, Loss: 0.2110\n",
      "head, relation -> tail?\n",
      "hits@1: 0.019, hits@10: 0.089\n",
      "-------------------------------------------\n",
      "Run time: 86 seconds, 1 minutes\n",
      "\n",
      "GAT_2hops:\n",
      "Epoch: 0, Loss: 0.4032\n",
      "Epoch: 400, Loss: 0.3321\n",
      "Epoch: 800, Loss: 0.3057\n",
      "head, relation -> tail?\n",
      "hits@1: 0.046, hits@10: 0.104\n",
      "-------------------------------------------\n",
      "Run time: 92 seconds, 2 minutes\n",
      "\n",
      "GAT_2hops:\n",
      "+ Filter...\n",
      "Epoch: 0, Loss: 0.3495\n",
      "Epoch: 400, Loss: 0.2313\n",
      "Epoch: 800, Loss: 0.2364\n",
      "head, relation -> tail?\n",
      "hits@1: 0.072, hits@10: 0.277\n",
      "-------------------------------------------\n",
      "Run time: 93 seconds, 2 minutes\n",
      "\n",
      "Running... _train_ORE2 _test_ORE2\n",
      "# Train - Triplets: 8204, # Nodes/Classes: 6650, # Edges: 8204\n",
      "# Test - Triplets: 2344, # Nodes/Classes: 3102, # Edges: 2344\n",
      "\n",
      "GAT:\n",
      "Epoch: 0, Loss: 0.3291\n",
      "Epoch: 400, Loss: 0.2132\n",
      "Epoch: 800, Loss: 0.2092\n",
      "head, relation -> tail?\n",
      "hits@1: 0.014, hits@10: 0.080\n",
      "-------------------------------------------\n",
      "Run time: 86 seconds, 1 minutes\n",
      "\n",
      "GAT_2hops:\n",
      "Epoch: 0, Loss: 0.3953\n",
      "Epoch: 400, Loss: 0.2411\n",
      "Epoch: 800, Loss: 0.3456\n",
      "head, relation -> tail?\n",
      "hits@1: 0.081, hits@10: 0.211\n",
      "-------------------------------------------\n",
      "Run time: 90 seconds, 1 minutes\n",
      "\n",
      "GAT_2hops:\n",
      "+ Filter...\n",
      "Epoch: 0, Loss: 0.3538\n",
      "Epoch: 400, Loss: 0.2887\n",
      "Epoch: 800, Loss: 0.2964\n",
      "head, relation -> tail?\n",
      "hits@1: 0.073, hits@10: 0.254\n",
      "-------------------------------------------\n",
      "Run time: 90 seconds, 2 minutes\n",
      "\n",
      "Running... _train_ORE3 _test_ORE3\n",
      "# Train - Triplets: 8187, # Nodes/Classes: 6673, # Edges: 8187\n",
      "# Test - Triplets: 2340, # Nodes/Classes: 3045, # Edges: 2340\n",
      "\n",
      "GAT:\n",
      "Epoch: 0, Loss: 0.3221\n",
      "Epoch: 400, Loss: 0.2114\n",
      "Epoch: 800, Loss: 0.2056\n",
      "head, relation -> tail?\n",
      "hits@1: 0.018, hits@10: 0.091\n",
      "-------------------------------------------\n",
      "Run time: 91 seconds, 2 minutes\n",
      "\n",
      "GAT_2hops:\n",
      "Epoch: 0, Loss: 0.3836\n",
      "Epoch: 400, Loss: 0.2291\n",
      "Epoch: 800, Loss: 0.2212\n",
      "head, relation -> tail?\n",
      "hits@1: 0.083, hits@10: 0.226\n",
      "-------------------------------------------\n",
      "Run time: 92 seconds, 2 minutes\n",
      "\n",
      "GAT_2hops:\n",
      "+ Filter...\n",
      "Epoch: 0, Loss: 0.3491\n",
      "Epoch: 400, Loss: 0.2321\n",
      "Epoch: 800, Loss: 0.2299\n",
      "head, relation -> tail?\n",
      "hits@1: 0.028, hits@10: 0.195\n",
      "-------------------------------------------\n",
      "Run time: 91 seconds, 2 minutes\n",
      "\n"
     ]
    }
   ],
   "source": [
    "for db_ in ORE_dbs:    \n",
    "    path = db_['path']\n",
    "    train_file = db_['train_file']\n",
    "    test_file = db_['test_file']\n",
    "\n",
    "    print('Running...', train_file, test_file)\n",
    "\n",
    "    df_train = load_ore_files(path+train_file)\n",
    "    df_train = df_train[df_train['p'] == 'SubClassOf']\n",
    "    g_train, nodes_train, edges_train = create_graph(df_train)\n",
    "    print(f'# Train - Triplets: {len(df_train)}, # Nodes/Classes: {g_train.number_of_nodes()}, # Edges: {g_train.number_of_edges()}')\n",
    "    df_test = load_ore_files(path+test_file)\n",
    "    df_test = df_test[df_test['p'] == 'SubClassOf']\n",
    "    g_test, nodes_test, edges_test = create_graph(df_test)\n",
    "    print(f'# Test - Triplets: {len(df_test)}, # Nodes/Classes: {g_test.number_of_nodes()}, # Edges: {g_test.number_of_edges()}')\n",
    "    print()\n",
    "    \n",
    "    st = time.time()\n",
    "    model = GNN()\n",
    "    model._train(device, 'GAT', g_train)\n",
    "    model._eval(min(g_test.number_of_nodes(),100), 'GAT', g_test)\n",
    "    et = time.time()\n",
    "    elapsed_time = et - st\n",
    "    print(f'Run time: {elapsed_time:.0f} seconds, {elapsed_time/60:.0f} minutes')\n",
    "    print()\n",
    "\n",
    "    st = time.time()\n",
    "    model = GNN()\n",
    "    model._train(device, 'GAT_2hops', g_train)\n",
    "    model._eval(min(g_test.number_of_nodes(),100), 'GAT_2hops', g_test)\n",
    "    et = time.time()\n",
    "    elapsed_time = et - st\n",
    "    print(f'Run time: {elapsed_time:.0f} seconds, {elapsed_time/60:.0f} minutes')\n",
    "    print()\n",
    "    \n",
    "    df_train_filter = df_train[df_train['p'] == 'SubClassOf']\n",
    "    g_train_filter, _, _ = create_graph(df_train_filter)\n",
    "    df_test_filter = df_test[df_test['p'] == 'SubClassOf']\n",
    "    g_test_filter, _, _ = create_graph(df_test_filter)\n",
    "\n",
    "    st = time.time()\n",
    "    model = GNN()\n",
    "    model._train(device, 'GAT_2hops', g_train, g_train_filter)\n",
    "    model._eval(min(g_test.number_of_nodes(),100), 'GAT_2hops', g_test, g_test_filter)\n",
    "    et = time.time()\n",
    "    elapsed_time = et - st\n",
    "    print(f'Run time: {elapsed_time:.0f} seconds, {elapsed_time/60:.0f} minutes')\n",
    "    print()"
   ]
  },
  {
   "cell_type": "markdown",
   "id": "93d4aa95-acaf-480b-a5b2-b1a19de2f65e",
   "metadata": {},
   "source": [
    "# CaLiGraph"
   ]
  },
  {
   "cell_type": "code",
   "execution_count": 5,
   "id": "a2adcdb4-1886-4343-8a85-3bd61402644b",
   "metadata": {},
   "outputs": [],
   "source": [
    "CLG_dbs = [{'path' : './datasets/clg/clg_10e4/',\n",
    "            'train_file' : 'clg_10e4-train.nt',\n",
    "            'test_file' : 'clg_10e4-test.nt',\n",
    "            'file' : 'clg_10e4'},\n",
    "           {'path' : './datasets/clg/clg_10e5/',\n",
    "            'train_file' : 'clg_10e5-train.nt',\n",
    "            'test_file' : 'clg_10e5-test.nt',\n",
    "            'file' : 'clg_10e5'}]"
   ]
  },
  {
   "cell_type": "markdown",
   "id": "d2c3c8c9-e914-4ab0-8ef5-302ad55b8d2d",
   "metadata": {
    "tags": []
   },
   "source": [
    "## CaLiGraph 10e4"
   ]
  },
  {
   "cell_type": "code",
   "execution_count": 10,
   "id": "c1f94126-8a21-4937-bdb3-2e8c6f12c7d6",
   "metadata": {},
   "outputs": [
    {
     "name": "stdout",
     "output_type": "stream",
     "text": [
      "Running... clg_10e4-train.nt clg_10e4-test.nt\n",
      "# Train - Triplets: 127801, # Nodes: 24556, # Edges: 127801\n",
      "# Test - Triplets: 36519, # Nodes: 13752, # Edges: 36519\n",
      "\n"
     ]
    }
   ],
   "source": [
    "db_ = CLG_dbs[0]\n",
    "path = db_['path']\n",
    "train_file = db_['train_file']\n",
    "test_file = db_['test_file']\n",
    "\n",
    "print('Running...', train_file, test_file)\n",
    "\n",
    "df_train = load_clg_files(path+train_file)\n",
    "g_train, nodes_train, edges_train = create_graph(df_train)\n",
    "print(f'# Train - Triplets: {len(df_train)}, # Nodes: {g_train.number_of_nodes()}, # Edges: {g_train.number_of_edges()}')\n",
    "df_test = load_clg_files(path+test_file)\n",
    "g_test, nodes_test, edges_test = create_graph(df_test)\n",
    "print(f'# Test - Triplets: {len(df_test)}, # Nodes: {g_test.number_of_nodes()}, # Edges: {g_test.number_of_edges()}')\n",
    "print()"
   ]
  },
  {
   "cell_type": "markdown",
   "id": "a4427d02-6401-483f-98b7-8d9811129e96",
   "metadata": {},
   "source": [
    "**GAT**"
   ]
  },
  {
   "cell_type": "code",
   "execution_count": null,
   "id": "2e4a0d11-4925-4399-a1e7-97a03191431f",
   "metadata": {},
   "outputs": [],
   "source": [
    "st = time.time()\n",
    "model_gat = torch.load('Models/reasoner/clg_10e4_GAT')\n",
    "model_gat._eval(min(g_test.number_of_nodes(),100), 'GAT', g_test)\n",
    "et = time.time()\n",
    "elapsed_time = et - st\n",
    "print(f'Run time: {elapsed_time:.0f} seconds, {elapsed_time/60:.0f} minutes')"
   ]
  },
  {
   "cell_type": "markdown",
   "id": "87452c18-ece9-431d-b155-7a3c04653197",
   "metadata": {},
   "source": [
    "**GAT_2hops**"
   ]
  },
  {
   "cell_type": "code",
   "execution_count": null,
   "id": "8642278b-37c3-4fa8-9baf-b26efe144433",
   "metadata": {},
   "outputs": [],
   "source": [
    "st = time.time()\n",
    "model_trans_gat = torch.load('Models/reasoner/clg_10e4_TransGAT')\n",
    "model_trans_gat._eval(min(g_test.number_of_nodes(),100), 'GAT_2hops', g_test)\n",
    "et = time.time()\n",
    "elapsed_time = et - st\n",
    "print(f'Run time: {elapsed_time:.0f} seconds, {elapsed_time/60:.0f} minutes')"
   ]
  },
  {
   "cell_type": "markdown",
   "id": "58b27ed9-aa5a-458f-b429-81e0385f5e6f",
   "metadata": {},
   "source": [
    "**GAT_2hops + Filter**"
   ]
  },
  {
   "cell_type": "code",
   "execution_count": null,
   "id": "d68c2cf2-ae27-4644-b51a-2dcd3f72c942",
   "metadata": {},
   "outputs": [],
   "source": [
    "df_train_filter = df_train[df_train['p'] == '<http://www.w3.org/2000/01/rdf-schema#subClassOf>']\n",
    "g_train_filter, _, _ = create_graph(df_train_filter)\n",
    "df_test_filter = df_test[df_test['p'] == '<http://www.w3.org/2000/01/rdf-schema#subClassOf>']\n",
    "g_test_filter, _, _ = create_graph(df_test_filter)"
   ]
  },
  {
   "cell_type": "code",
   "execution_count": null,
   "id": "7428e6d6-2f59-4697-a399-1ac4adf8567e",
   "metadata": {},
   "outputs": [],
   "source": [
    "st = time.time()\n",
    "model_filter_trans_gat = torch.load('Models/reasoner/clg_10e4_FilterTransGAT')\n",
    "model_filter_trans_gat._eval(min(g_test.number_of_nodes(),100), 'GAT_2hops', g_test, g_test_filter)\n",
    "et = time.time()\n",
    "elapsed_time = et - st\n",
    "print(f'Run time: {elapsed_time:.0f} seconds, {elapsed_time/60:.0f} minutes')"
   ]
  },
  {
   "cell_type": "markdown",
   "id": "2b3a4f7c-1c91-41ce-952f-01a9afc1ca36",
   "metadata": {},
   "source": [
    "## CaLiGraph 10e5"
   ]
  },
  {
   "cell_type": "code",
   "execution_count": 7,
   "id": "85493b0c-23c3-4d9f-ad6f-d8ab08471aea",
   "metadata": {},
   "outputs": [
    {
     "name": "stdout",
     "output_type": "stream",
     "text": [
      "Running... clg_10e5-train.nt clg_10e5-test.nt\n",
      "# Train - Triplets: 265139, # Nodes: 198896, # Edges: 265139\n",
      "# Test - Triplets: 75757, # Nodes: 73461, # Edges: 75757\n",
      "\n"
     ]
    }
   ],
   "source": [
    "db_ = CLG_dbs[1]\n",
    "path = db_['path']\n",
    "train_file = db_['train_file']\n",
    "test_file = db_['test_file']\n",
    "\n",
    "print('Running...', train_file, test_file)\n",
    "\n",
    "df_train = load_clg_files(path+train_file)\n",
    "g_train, nodes_train, edges_train = create_graph(df_train)\n",
    "print(f'# Train - Triplets: {len(df_train)}, # Nodes: {g_train.number_of_nodes()}, # Edges: {g_train.number_of_edges()}')\n",
    "df_test = load_clg_files(path+test_file)\n",
    "g_test, nodes_test, edges_test = create_graph(df_test)\n",
    "print(f'# Test - Triplets: {len(df_test)}, # Nodes: {g_test.number_of_nodes()}, # Edges: {g_test.number_of_edges()}')\n",
    "print()"
   ]
  },
  {
   "cell_type": "markdown",
   "id": "fb669890-0091-4515-b819-1c5c30242d56",
   "metadata": {},
   "source": [
    "**GAT**"
   ]
  },
  {
   "cell_type": "code",
   "execution_count": null,
   "id": "4da83de5-a62b-47dd-9df7-db25278213de",
   "metadata": {},
   "outputs": [],
   "source": [
    "st = time.time()\n",
    "model_gat = torch.load('Models/reasoner/clg_10e5_GAT')\n",
    "model_gat._eval(min(g_test.number_of_nodes(),100), 'GAT', g_test)\n",
    "et = time.time()\n",
    "elapsed_time = et - st\n",
    "print(f'Run time: {elapsed_time:.0f} seconds, {elapsed_time/60:.0f} minutes')"
   ]
  },
  {
   "cell_type": "markdown",
   "id": "62aaec88-2d71-4147-93cb-e7917a654785",
   "metadata": {},
   "source": [
    "**GAT_2hops**"
   ]
  },
  {
   "cell_type": "code",
   "execution_count": null,
   "id": "b1afd28b-c407-46a9-8143-86fd00c6221f",
   "metadata": {},
   "outputs": [],
   "source": [
    "st = time.time()\n",
    "model_trans_gat = torch.load('Models/reasoner/clg_10e5_TransGAT')\n",
    "model_trans_gat._eval(min(g_test.number_of_nodes(),100), 'GAT_2hops', g_test)\n",
    "et = time.time()\n",
    "elapsed_time = et - st\n",
    "print(f'Run time: {elapsed_time:.0f} seconds, {elapsed_time/60:.0f} minutes')"
   ]
  },
  {
   "cell_type": "markdown",
   "id": "93d0f45a-fcc8-4e56-8d0b-32a99beadaa4",
   "metadata": {},
   "source": [
    "**GAT_2hops + Filter**"
   ]
  },
  {
   "cell_type": "code",
   "execution_count": 8,
   "id": "9437096c-73ba-49cb-8fb9-01527f2a57c1",
   "metadata": {},
   "outputs": [],
   "source": [
    "df_train_filter = df_train[df_train['p'] == '<http://www.w3.org/2000/01/rdf-schema#subClassOf>']\n",
    "g_train_filter, _, _ = create_graph(df_train_filter)\n",
    "df_test_filter = df_test[df_test['p'] == '<http://www.w3.org/2000/01/rdf-schema#subClassOf>']\n",
    "g_test_filter, _, _ = create_graph(df_test_filter)"
   ]
  },
  {
   "cell_type": "code",
   "execution_count": 10,
   "id": "d9bc1278-9b28-44f4-a998-b3d5b14a738c",
   "metadata": {},
   "outputs": [
    {
     "name": "stdout",
     "output_type": "stream",
     "text": [
      "head, relation -> tail?\n",
      "hits@1: 0.528, hits@10: 0.709\n",
      "-------------------------------------------\n",
      "Run time: 4996 seconds, 83 minutes\n"
     ]
    }
   ],
   "source": [
    "st = time.time()\n",
    "model_filter_trans_gat = torch.load('Models/reasoner/clg_10e5_FilterTransGAT')\n",
    "model_filter_trans_gat._eval(min(g_test.number_of_nodes(),100), 'GAT_2hops', g_test, g_test_filter)\n",
    "et = time.time()\n",
    "elapsed_time = et - st\n",
    "print(f'Run time: {elapsed_time:.0f} seconds, {elapsed_time/60:.0f} minutes')"
   ]
  }
 ],
 "metadata": {
  "kernelspec": {
   "display_name": "Python 3 (ipykernel)",
   "language": "python",
   "name": "python3"
  },
  "language_info": {
   "codemirror_mode": {
    "name": "ipython",
    "version": 3
   },
   "file_extension": ".py",
   "mimetype": "text/x-python",
   "name": "python",
   "nbconvert_exporter": "python",
   "pygments_lexer": "ipython3",
   "version": "3.8.16"
  }
 },
 "nbformat": 4,
 "nbformat_minor": 5
}
