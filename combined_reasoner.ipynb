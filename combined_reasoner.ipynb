{
 "cells": [
  {
   "cell_type": "code",
   "execution_count": 1,
   "id": "4160ba72-0f6c-4400-b417-dda1d99170ee",
   "metadata": {},
   "outputs": [],
   "source": [
    "import pandas as pd\n",
    "import numpy as np\n",
    "import operator\n",
    "import gzip\n",
    "import networkx as nx\n",
    "import time\n",
    "import random\n",
    "random.seed(10)\n",
    "\n",
    "from node2vec import Node2Vec\n",
    "\n",
    "import torch\n",
    "import torch.nn as nn\n",
    "from torch.nn import Linear\n",
    "import torch.nn.functional as F\n",
    "\n",
    "import torch_geometric\n",
    "from torch_geometric.data import HeteroData\n",
    "import torch_geometric.transforms as T\n",
    "from torch_geometric.nn import GCNConv, SAGEConv, GATConv, Linear, to_hetero\n",
    "\n",
    "from sklearn.metrics import precision_score, recall_score, f1_score\n",
    "\n",
    "from src.utils import *\n",
    "from src.gnn import *"
   ]
  },
  {
   "cell_type": "code",
   "execution_count": 2,
   "id": "18850241-648f-43b5-955b-844a87a8fb91",
   "metadata": {},
   "outputs": [
    {
     "name": "stdout",
     "output_type": "stream",
     "text": [
      "2.0.1+cu118\n"
     ]
    }
   ],
   "source": [
    "print(torch.__version__)"
   ]
  },
  {
   "cell_type": "code",
   "execution_count": 3,
   "id": "b3a2112d-8a4e-47c3-a9e1-c1f3c2103274",
   "metadata": {},
   "outputs": [
    {
     "name": "stdout",
     "output_type": "stream",
     "text": [
      "2.4.0\n"
     ]
    }
   ],
   "source": [
    "print(torch_geometric.__version__)"
   ]
  },
  {
   "cell_type": "code",
   "execution_count": 4,
   "id": "9df51403-2f73-445f-8fec-b9ac3af7fb0e",
   "metadata": {},
   "outputs": [
    {
     "name": "stdout",
     "output_type": "stream",
     "text": [
      "cuda\n"
     ]
    }
   ],
   "source": [
    "device = torch.device('cuda' if torch.cuda.is_available() else 'cpu')\n",
    "print(device)"
   ]
  },
  {
   "cell_type": "markdown",
   "id": "aa30b1c4-ce45-4edc-9667-e3dbf5e5452e",
   "metadata": {
    "jp-MarkdownHeadingCollapsed": true,
    "tags": []
   },
   "source": [
    "# OWL2Bench"
   ]
  },
  {
   "cell_type": "code",
   "execution_count": null,
   "id": "6a03c523-aca1-43dd-9adf-009ad7d67fe5",
   "metadata": {},
   "outputs": [],
   "source": [
    "OWL2Bench_dbs = [{'path' : './datasets/OWL2Bench/OWL2Bench1/',\n",
    "                  'train_file' : '_train_OWL2Bench1',\n",
    "                  'test_file' : '_test_OWL2Bench1'},\n",
    "                 {'path' : './datasets/OWL2Bench/OWL2Bench2/',\n",
    "                  'train_file' : '_train_OWL2Bench2',\n",
    "                  'test_file' : '_test_OWL2Bench2'}]"
   ]
  },
  {
   "cell_type": "code",
   "execution_count": null,
   "id": "98378797-b3aa-4653-8e38-607cb264b638",
   "metadata": {},
   "outputs": [],
   "source": [
    "for db_ in OWL2Bench_dbs:    \n",
    "    path = db_['path']\n",
    "    train_file = db_['train_file']\n",
    "    test_file = db_['test_file']\n",
    "\n",
    "    print('Running...', train_file, test_file)\n",
    "\n",
    "    df_train = load_ore_files(path+train_file)\n",
    "    df_train = df_train[df_train['p'] == 'SubClassOf']\n",
    "    g_train, nodes_train, edges_train = create_graph(df_train)\n",
    "    print(f'# Train - Triplets: {len(df_train)}, # Nodes/Classes: {g_train.number_of_nodes()}, # Edges: {g_train.number_of_edges()}')\n",
    "    df_test = load_ore_files(path+test_file)\n",
    "    df_test = df_test[df_test['p'] == 'SubClassOf']\n",
    "    g_test, nodes_test, edges_test = create_graph(df_test)\n",
    "    print(f'# Test - Triplets: {len(df_test)}, # Nodes/Classes: {g_test.number_of_nodes()}, # Edges: {g_test.number_of_edges()}')\n",
    "    print()\n",
    "    \n",
    "    st = time.time()\n",
    "    model = GNN()\n",
    "    model._train('GAT', g_train)\n",
    "    model._eval(min(g_test.number_of_nodes(),100), 'GAT', g_test)\n",
    "    et = time.time()\n",
    "    elapsed_time = et - st\n",
    "    print(f'Run time: {elapsed_time:.0f} seconds, {elapsed_time/60:.0f} minutes')\n",
    "    print()\n",
    "\n",
    "    st = time.time()\n",
    "    model = GNN()\n",
    "    model._train('GAT_2hops', g_train)\n",
    "    model._eval(min(g_test.number_of_nodes(),100), 'GAT_2hops', g_test)\n",
    "    et = time.time()\n",
    "    elapsed_time = et - st\n",
    "    print(f'Run time: {elapsed_time:.0f} seconds, {elapsed_time/60:.0f} minutes')\n",
    "    print()"
   ]
  },
  {
   "cell_type": "markdown",
   "id": "af7c36bd-4392-44ca-8c44-d457426fdc4e",
   "metadata": {
    "jp-MarkdownHeadingCollapsed": true,
    "tags": []
   },
   "source": [
    "# OWL"
   ]
  },
  {
   "cell_type": "code",
   "execution_count": null,
   "id": "cc39fd9a-b521-4c20-ae23-231a1d198673",
   "metadata": {},
   "outputs": [],
   "source": [
    "ORE_dbs = [{'path' : './datasets/ORE/ORE1/',\n",
    "            'train_file' : '_train_ORE1',\n",
    "            'test_file' : '_test_ORE1'},\n",
    "           {'path' : './datasets/ORE/ORE2/',\n",
    "            'train_file' : '_train_ORE2',\n",
    "            'test_file' : '_test_ORE2'},\n",
    "           {'path' : './datasets/ORE/ORE3/',\n",
    "            'train_file' : '_train_ORE3',\n",
    "            'test_file' : '_test_ORE3'}]"
   ]
  },
  {
   "cell_type": "code",
   "execution_count": null,
   "id": "c4478b1f-2cb5-4a29-89d7-ea6385031fdc",
   "metadata": {},
   "outputs": [],
   "source": [
    "for db_ in ORE_dbs:    \n",
    "    path = db_['path']\n",
    "    train_file = db_['train_file']\n",
    "    test_file = db_['test_file']\n",
    "\n",
    "    print('Running...', train_file, test_file)\n",
    "\n",
    "    df_train = load_ore_files(path+train_file)\n",
    "    df_train = df_train[df_train['p'] == 'SubClassOf']\n",
    "    g_train, nodes_train, edges_train = create_graph(df_train)\n",
    "    print(f'# Train - Triplets: {len(df_train)}, # Nodes/Classes: {g_train.number_of_nodes()}, # Edges: {g_train.number_of_edges()}')\n",
    "    df_test = load_ore_files(path+test_file)\n",
    "    df_test = df_test[df_test['p'] == 'SubClassOf']\n",
    "    g_test, nodes_test, edges_test = create_graph(df_test)\n",
    "    print(f'# Test - Triplets: {len(df_test)}, # Nodes/Classes: {g_test.number_of_nodes()}, # Edges: {g_test.number_of_edges()}')\n",
    "    print()\n",
    "    \n",
    "    st = time.time()\n",
    "    model = GNN()\n",
    "    model._train('GAT', g_train)\n",
    "    model._eval(min(g_test.number_of_nodes(),100), 'GAT', g_test)\n",
    "    et = time.time()\n",
    "    elapsed_time = et - st\n",
    "    print(f'Run time: {elapsed_time:.0f} seconds, {elapsed_time/60:.0f} minutes')\n",
    "    print()\n",
    "\n",
    "    st = time.time()\n",
    "    model = GNN()\n",
    "    model._train('GAT_2hops', g_train)\n",
    "    model._eval(min(g_test.number_of_nodes(),100), 'GAT_2hops', g_test)\n",
    "    et = time.time()\n",
    "    elapsed_time = et - st\n",
    "    print(f'Run time: {elapsed_time:.0f} seconds, {elapsed_time/60:.0f} minutes')\n",
    "    print()"
   ]
  },
  {
   "cell_type": "markdown",
   "id": "93d4aa95-acaf-480b-a5b2-b1a19de2f65e",
   "metadata": {},
   "source": [
    "# CaLiGraph"
   ]
  },
  {
   "cell_type": "code",
   "execution_count": 5,
   "id": "a2adcdb4-1886-4343-8a85-3bd61402644b",
   "metadata": {},
   "outputs": [],
   "source": [
    "CLG_dbs = [{'path' : './datasets/clg/clg_10e4/',\n",
    "            'train_file' : 'clg_10e4-train.nt',\n",
    "            'test_file' : 'clg_10e4-test.nt'},\n",
    "           {'path' : './datasets/clg/clg_10e5/',\n",
    "            'train_file' : 'clg_10e5-train.nt',\n",
    "            'test_file' : 'clg_10e5-test.nt'}]"
   ]
  },
  {
   "cell_type": "code",
   "execution_count": 6,
   "id": "c1f94126-8a21-4937-bdb3-2e8c6f12c7d6",
   "metadata": {},
   "outputs": [
    {
     "name": "stdout",
     "output_type": "stream",
     "text": [
      "Running... clg_10e4-train.nt clg_10e4-test.nt\n",
      "# Train - Triplets: 127801, # Nodes: 24556, # Edges: 127801\n",
      "# Test - Triplets: 36519, # Nodes: 13752, # Edges: 36519\n",
      "\n"
     ]
    }
   ],
   "source": [
    "db_ = CLG_dbs[0]\n",
    "path = db_['path']\n",
    "train_file = db_['train_file']\n",
    "test_file = db_['test_file']\n",
    "\n",
    "print('Running...', train_file, test_file)\n",
    "\n",
    "df_train = load_clg_files(path+train_file)\n",
    "g_train, nodes_train, edges_train = create_graph(df_train)\n",
    "print(f'# Train - Triplets: {len(df_train)}, # Nodes: {g_train.number_of_nodes()}, # Edges: {g_train.number_of_edges()}')\n",
    "df_test = load_clg_files(path+test_file)\n",
    "g_test, nodes_test, edges_test = create_graph(df_test)\n",
    "print(f'# Test - Triplets: {len(df_test)}, # Nodes: {g_test.number_of_nodes()}, # Edges: {g_test.number_of_edges()}')\n",
    "print()"
   ]
  },
  {
   "cell_type": "code",
   "execution_count": 6,
   "id": "5d9d7d40-c759-4cd9-baf9-303e808fb07a",
   "metadata": {},
   "outputs": [
    {
     "name": "stdout",
     "output_type": "stream",
     "text": [
      "Running... clg_10e4-train.nt clg_10e4-test.nt\n",
      "# Train - Triplets: 127801, # Nodes: 24556, # Edges: 127801\n",
      "# Test - Triplets: 36519, # Nodes: 13752, # Edges: 36519\n",
      "\n",
      "GAT:\n",
      "Epoch: 0, Loss: 0.3039\n",
      "Epoch: 400, Loss: 0.1590\n",
      "Epoch: 800, Loss: 0.1560\n",
      "head, relation -> tail?\n",
      "hits@1: 0.392, hits@10: 0.703\n",
      "-------------------------------------------\n",
      "Run time: 1373 seconds, 23 minutes\n",
      "\n",
      "GAT_2hops:\n",
      "Epoch: 0, Loss: 0.2418\n",
      "Epoch: 400, Loss: 0.2169\n",
      "Epoch: 800, Loss: 0.1896\n",
      "head, relation -> tail?\n",
      "hits@1: 0.103, hits@10: 0.539\n",
      "-------------------------------------------\n",
      "Run time: 1866 seconds, 31 minutes\n",
      "\n"
     ]
    }
   ],
   "source": [
    "st = time.time()\n",
    "model = GNN()\n",
    "model._train('GAT', g_train)\n",
    "model._eval(min(g_test.number_of_nodes(),100), 'GAT', g_test)\n",
    "et = time.time()\n",
    "elapsed_time = et - st\n",
    "print(f'Run time: {elapsed_time:.0f} seconds, {elapsed_time/60:.0f} minutes')\n",
    "print()\n",
    "\n",
    "st = time.time()\n",
    "model = GNN()\n",
    "model._train('GAT_2hops', g_train)\n",
    "model._eval(min(g_test.number_of_nodes(),100), 'GAT_2hops', g_test)\n",
    "et = time.time()\n",
    "elapsed_time = et - st\n",
    "print(f'Run time: {elapsed_time:.0f} seconds, {elapsed_time/60:.0f} minutes')\n",
    "print()"
   ]
  },
  {
   "cell_type": "code",
   "execution_count": 8,
   "id": "b6e2b42d-92c9-4d82-9824-5240b10f05ed",
   "metadata": {},
   "outputs": [
    {
     "name": "stdout",
     "output_type": "stream",
     "text": [
      "GAT_2hops:\n",
      "+ Filter...\n",
      "Epoch: 0, Loss: 0.3014\n",
      "Epoch: 400, Loss: 0.3652\n",
      "Epoch: 800, Loss: 0.1907\n",
      "head, relation -> tail?\n",
      "hits@1: 0.561, hits@10: 0.751\n",
      "-------------------------------------------\n",
      "Run time: 1401 seconds, 23 minutes\n",
      "\n"
     ]
    }
   ],
   "source": [
    "df_train_filter = df_train[df_train['p'] == '<http://www.w3.org/2000/01/rdf-schema#subClassOf>']\n",
    "g_train_filter, _, _ = create_graph(df_train_filter)\n",
    "df_test_filter = df_test[df_test['p'] == '<http://www.w3.org/2000/01/rdf-schema#subClassOf>']\n",
    "g_test_filter, _, _ = create_graph(df_test_filter)\n",
    "\n",
    "st = time.time()\n",
    "model = GNN()\n",
    "model._train('GAT_2hops', g_train, g_train_filter)\n",
    "model._eval(min(g_test.number_of_nodes(),100), 'GAT_2hops', g_test, g_test_filter)\n",
    "et = time.time()\n",
    "elapsed_time = et - st\n",
    "print(f'Run time: {elapsed_time:.0f} seconds, {elapsed_time/60:.0f} minutes')\n",
    "print()"
   ]
  }
 ],
 "metadata": {
  "kernelspec": {
   "display_name": "Python 3 (ipykernel)",
   "language": "python",
   "name": "python3"
  },
  "language_info": {
   "codemirror_mode": {
    "name": "ipython",
    "version": 3
   },
   "file_extension": ".py",
   "mimetype": "text/x-python",
   "name": "python",
   "nbconvert_exporter": "python",
   "pygments_lexer": "ipython3",
   "version": "3.8.16"
  }
 },
 "nbformat": 4,
 "nbformat_minor": 5
}
