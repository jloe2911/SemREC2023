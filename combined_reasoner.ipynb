{
 "cells": [
  {
   "cell_type": "code",
   "execution_count": null,
   "id": "4160ba72-0f6c-4400-b417-dda1d99170ee",
   "metadata": {},
   "outputs": [],
   "source": [
    "import pandas as pd\n",
    "import numpy as np\n",
    "import operator\n",
    "import gzip\n",
    "import networkx as nx\n",
    "import time\n",
    "import random\n",
    "random.seed(10)\n",
    "\n",
    "from node2vec import Node2Vec\n",
    "\n",
    "import torch\n",
    "import torch.nn as nn\n",
    "from torch.nn import Linear\n",
    "import torch.nn.functional as F\n",
    "\n",
    "import torch_geometric\n",
    "from torch_geometric.data import HeteroData\n",
    "import torch_geometric.transforms as T\n",
    "from torch_geometric.nn import GCNConv, SAGEConv, GATConv, Linear, to_hetero\n",
    "\n",
    "from sklearn.metrics import precision_score, recall_score, f1_score\n",
    "\n",
    "from src.utils import *\n",
    "from src.gnn import *"
   ]
  },
  {
   "cell_type": "code",
   "execution_count": null,
   "id": "18850241-648f-43b5-955b-844a87a8fb91",
   "metadata": {},
   "outputs": [],
   "source": [
    "print(torch.__version__)"
   ]
  },
  {
   "cell_type": "code",
   "execution_count": null,
   "id": "b3a2112d-8a4e-47c3-a9e1-c1f3c2103274",
   "metadata": {},
   "outputs": [],
   "source": [
    "print(torch_geometric.__version__)"
   ]
  },
  {
   "cell_type": "code",
   "execution_count": null,
   "id": "9df51403-2f73-445f-8fec-b9ac3af7fb0e",
   "metadata": {},
   "outputs": [],
   "source": [
    "device = torch.device('cuda' if torch.cuda.is_available() else 'cpu')\n",
    "print(device)"
   ]
  },
  {
   "cell_type": "markdown",
   "id": "93d4aa95-acaf-480b-a5b2-b1a19de2f65e",
   "metadata": {},
   "source": [
    "# CaLiGraph"
   ]
  },
  {
   "cell_type": "code",
   "execution_count": null,
   "id": "a2adcdb4-1886-4343-8a85-3bd61402644b",
   "metadata": {},
   "outputs": [],
   "source": [
    "CLG_dbs = [{'path' : './datasets/clg/clg_10e4/',\n",
    "            'train_file' : 'clg_10e4-train.nt',\n",
    "            'test_file' : 'clg_10e4-test.nt'},\n",
    "           {'path' : './datasets/clg/clg_10e5/',\n",
    "            'train_file' : 'clg_10e5-train.nt',\n",
    "            'test_file' : 'clg_10e5-test.nt'}]"
   ]
  },
  {
   "cell_type": "code",
   "execution_count": null,
   "id": "5d9d7d40-c759-4cd9-baf9-303e808fb07a",
   "metadata": {},
   "outputs": [],
   "source": [
    "db_ = CLG_dbs[0]\n",
    "path = db_['path']\n",
    "train_file = db_['train_file']\n",
    "test_file = db_['test_file']\n",
    "\n",
    "print('Running...', train_file, test_file)\n",
    "\n",
    "df_train = load_clg_files(path+train_file)\n",
    "g_train, nodes_train, edges_train = create_graph(df_train)\n",
    "print(f'# Train - Triplets: {len(df_train)}, # Nodes: {g_train.number_of_nodes()}, # Edges: {g_train.number_of_edges()}')\n",
    "df_test = load_clg_files(path+test_file)\n",
    "g_test, nodes_test, edges_test = create_graph(df_test)\n",
    "print(f'# Test - Triplets: {len(df_test)}, # Nodes: {g_test.number_of_nodes()}, # Edges: {g_test.number_of_edges()}')\n",
    "print()\n",
    "\n",
    "st = time.time()\n",
    "model = GNN()\n",
    "model._train(g_train, 'GAT')\n",
    "model._eval(g_test, min(g_test.number_of_nodes(),100), 'GAT')\n",
    "et = time.time()\n",
    "elapsed_time = et - st\n",
    "print(f'Run time: {elapsed_time:.0f} seconds, {elapsed_time/60:.0f} minutes')\n",
    "print()\n",
    "\n",
    "st = time.time()\n",
    "model = GNN()\n",
    "model._train(g_train, 'GAT_2hops')\n",
    "model._eval(g_test, min(g_test.number_of_nodes(),100), 'GAT_2hops')\n",
    "et = time.time()\n",
    "elapsed_time = et - st\n",
    "print(f'Run time: {elapsed_time:.0f} seconds, {elapsed_time/60:.0f} minutes')\n",
    "print()"
   ]
  }
 ],
 "metadata": {
  "kernelspec": {
   "display_name": "Python 3 (ipykernel)",
   "language": "python",
   "name": "python3"
  },
  "language_info": {
   "codemirror_mode": {
    "name": "ipython",
    "version": 3
   },
   "file_extension": ".py",
   "mimetype": "text/x-python",
   "name": "python",
   "nbconvert_exporter": "python",
   "pygments_lexer": "ipython3",
   "version": "3.8.16"
  }
 },
 "nbformat": 4,
 "nbformat_minor": 5
}
